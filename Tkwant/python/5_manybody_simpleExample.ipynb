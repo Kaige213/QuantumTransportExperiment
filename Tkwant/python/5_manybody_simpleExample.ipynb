{
 "cells": [
  {
   "cell_type": "markdown",
   "metadata": {},
   "source": [
    "# 一维 onsite Voltage 示例计算\n",
    "\n",
    "[2020.12.21]\n",
    "\n",
    "重复tkwant的示例： https://kwant-project.org/extensions/tkwant/tutorial/getting_started"
   ]
  },
  {
   "cell_type": "markdown",
   "metadata": {},
   "source": [
    "**Notes:**\n",
    "\n",
    " - 使用简单边界条件。lead的长度足够长，在计算的时间区间内，边界反射回来的波就不会到达中心散射区，对计算结果不产生影响。\n",
    " \n",
    "   本例中，快波（能量最大的波）可能已经被反射，到达中心散射区。但本例的目的是为了与tkwant的计算结果作对比，并不严格考察其物理意义。\n",
    "   \n",
    "   \n",
    " - 该系统不考虑电子相互作用，哈密顿量与电子波函数没有关系，所以得到一个单电子初态后，可以直接计算它的时间演化，不用同时计算整个多体态\n",
    " \n",
    " \n",
    " - Gauss-Kronrod 积分系数：\n",
    " \n",
    "   https://people.sc.fsu.edu/~jburkardt/py_src/kronrod/kronrod.html\n",
    "   \n",
    "   https://people.sc.fsu.edu/~jburkardt/py_src/kronrod/kronrod.py"
   ]
  },
  {
   "cell_type": "code",
   "execution_count": 1,
   "metadata": {},
   "outputs": [],
   "source": [
    "import numpy as np\n",
    "import matplotlib.pyplot as plt\n",
    "import scipy\n",
    "import scipy.sparse as sp\n",
    "from scipy.sparse.linalg import spsolve\n",
    "from scipy.integrate import solve_ivp"
   ]
  },
  {
   "cell_type": "markdown",
   "metadata": {},
   "source": [
    "##  一、对动量空间采样，用于积分"
   ]
  },
  {
   "cell_type": "code",
   "execution_count": 2,
   "metadata": {},
   "outputs": [],
   "source": [
    "#[-1，1]区间内的kronrod method系数，结果是对称的\n",
    "x = np.array([-0.99565716, -0.97390653, -0.93015749, -0.86506337, -0.78081773,\n",
    "       -0.67940957, -0.56275713, -0.43339539, -0.29439286, -0.14887434,\n",
    "        0.        ,  0.14887434,  0.29439286,  0.43339539,  0.56275713,\n",
    "        0.67940957,  0.78081773,  0.86506337,  0.93015749,  0.97390653,\n",
    "        0.99565716])\n",
    "w = np.array([0.01169464, 0.03255816, 0.0547559 , 0.07503967, 0.09312545,\n",
    "       0.10938716, 0.12349198, 0.13470922, 0.14277594, 0.1477391 ,\n",
    "       0.14944555, 0.1477391 , 0.14277594, 0.13470922, 0.12349198,\n",
    "       0.10938716, 0.09312545, 0.07503967, 0.0547559 , 0.03255816,\n",
    "       0.01169464])"
   ]
  },
  {
   "cell_type": "code",
   "execution_count": 3,
   "metadata": {},
   "outputs": [],
   "source": [
    "chemical_potential = 0\n",
    "kmin = 0\n",
    "kmax = np.arccos(1-(chemical_potential+1)/2)"
   ]
  },
  {
   "cell_type": "code",
   "execution_count": 4,
   "metadata": {},
   "outputs": [],
   "source": [
    "# 将x映射到[0, kmax]\n",
    "# 这里的posi表示k为正，即从左向右运动的粒子\n",
    "momentum_posi_vec   = (x+1)/2*kmax\n",
    "speed_posi_vec      = 2*np.sin(np.abs(momentum_posi_vec))\n",
    "mathWeight_posi_vec = w    /2*kmax\n",
    "physWeight_posi_vec = np.ones(w.size) /2/np.pi* speed_posi_vec\n",
    "weight_posi_vec     = mathWeight_posi_vec * physWeight_posi_vec"
   ]
  },
  {
   "cell_type": "code",
   "execution_count": 5,
   "metadata": {
    "scrolled": true
   },
   "outputs": [],
   "source": [
    "#左行右行平面波简并\n",
    "momentum_vec      = np.concatenate( (-momentum_posi_vec[::-1],momentum_posi_vec))\n",
    "speed_vec         = np.concatenate( (speed_posi_vec[::-1], speed_posi_vec) )\n",
    "weight_vec        = np.concatenate( (weight_posi_vec[::-1], weight_posi_vec) )"
   ]
  },
  {
   "cell_type": "code",
   "execution_count": 6,
   "metadata": {
    "scrolled": false
   },
   "outputs": [
    {
     "data": {
      "text/plain": [
       "[<matplotlib.lines.Line2D at 0x7fca2ad95350>]"
      ]
     },
     "execution_count": 6,
     "metadata": {},
     "output_type": "execute_result"
    },
    {
     "data": {
      "image/png": "[encoded data removed]",
      "text/plain": [
       "<Figure size 432x288 with 1 Axes>"
      ]
     },
     "metadata": {
      "needs_background": "light"
     },
     "output_type": "display_data"
    }
   ],
   "source": [
    "def dispersionRelation_func(momentum_vec):\n",
    "    energy_vec = 2*(1 - np.cos(momentum_vec)) - 1\n",
    "    return energy_vec\n",
    "\n",
    "plt.plot(momentum_vec, dispersionRelation_func(momentum_vec), '+')"
   ]
  },
  {
   "cell_type": "markdown",
   "metadata": {},
   "source": [
    "## 二、求解时域多体态"
   ]
  },
  {
   "cell_type": "code",
   "execution_count": 7,
   "metadata": {},
   "outputs": [],
   "source": [
    "class onebody_wf:\n",
    "    #simple boundery condition\n",
    "    \n",
    "    def __init__(self, momentum):\n",
    "        self.momentum     = momentum\n",
    "        self.energy       = 2*(1 - np.cos(momentum)) - 1\n",
    "        self.speed        = 2*np.sin(abs(momentum))\n",
    "        self.num_cell     = 100\n",
    "        self.voltage_site = int(self.num_cell//2)      \n",
    "        \n",
    "    def hamitonian_timeDependent(self, time):\n",
    "        def v_potential_func(time, tau=8):\n",
    "            if time < tau:\n",
    "                return time / tau\n",
    "            return 1        \n",
    "        #在hamitonian中加入电压的影响\n",
    "        pos         = self.voltage_site\n",
    "        diag_vec     = np.ones(self.num_cell, dtype=complex)\n",
    "        diag_vec[pos]=diag_vec[pos] + v_potential_func(time)\n",
    "        offdiag_vec  = - np.ones(self.num_cell - 1)        \n",
    "        H            = scipy.sparse.diags([diag_vec, offdiag_vec, offdiag_vec], [0, 1, -1])\n",
    "\n",
    "        return H\n",
    "\n",
    "    def scatteringState(self):   \n",
    "        #构建定态散射方程\n",
    "        matrix_eq = self.hamitonian_timeDependent(0) - self.energy * sp.eye(self.num_cell)\n",
    "        matrix_eq = sp.csr_matrix(matrix_eq)\n",
    "        #边界条件\n",
    "        #left\n",
    "        matrix_eq[0,0]   = 1\n",
    "        matrix_eq[0,1]   = -np.exp(-1j*abs(self.momentum))\n",
    "        #right\n",
    "        matrix_eq[-1,-1] = 1\n",
    "        matrix_eq[-1,-2] = -np.exp(-1j*abs(self.momentum))\n",
    "        #入射态\n",
    "        right_vec        = np.zeros(self.num_cell, dtype=complex)\n",
    "        if self.momentum>0:            \n",
    "            right_vec[0] = 1/np.sqrt(self.speed)*(1-np.exp( 2j*self.momentum)) \n",
    "        else:\n",
    "            right_vec[-1]= 1/np.sqrt(self.speed)*(1-np.exp(-2j*self.momentum)) \n",
    "        #求解线性方程组，得到散射初态\n",
    "        self.psi_init     = spsolve(matrix_eq, right_vec)  \n",
    "        \n",
    "    def evolve(self, t_vec):  \n",
    "        def dfdt_func(t, psi_bar_vec):\n",
    "            H0 = self.hamitonian_timeDependent(0)\n",
    "            H  = self.hamitonian_timeDependent(t)\n",
    "            return  -1j*( ((H - self.energy * sp.eye(self.num_cell)) )@psi_bar_vec + (H - H0)@self.psi_init )\n",
    "        \n",
    "        # %% Solve differential equation\n",
    "        #计算psi_bar\n",
    "        sol = solve_ivp(dfdt_func, [t_vec[0], t_vec[-1]], np.zeros(self.num_cell,dtype=complex), t_eval=t_vec, rtol=1e-4,atol=1e-7) \n",
    "        #由psi_bar得到psi\n",
    "        self.psi = np.zeros( (self.num_cell, t_vec.size), dtype=complex)\n",
    "        for n_t in range(t_vec.size):\n",
    "            time            = t_vec[n_t]\n",
    "            self.psi[:,n_t] = (sol['y'][:,n_t] + self.psi_init) * np.exp(-1j*self.energy*(time-0))"
   ]
  },
  {
   "cell_type": "code",
   "execution_count": 8,
   "metadata": {},
   "outputs": [],
   "source": [
    "t_vec           = np.linspace(0, 20)\n",
    "manybody_wf_vec = []\n",
    "\n",
    "for n_k in range(momentum_vec.size):\n",
    "    #入射态的态指标\n",
    "    k      = momentum_vec[n_k]\n",
    "    #实例化\n",
    "    wf_withMomentum = onebody_wf(k)\n",
    "    #初态单体波函数\n",
    "    wf_withMomentum.scatteringState()\n",
    "    #时间演化\n",
    "    wf_withMomentum.evolve(t_vec)\n",
    "    #储存该态的演化数据\n",
    "    manybody_wf_vec.append(wf_withMomentum)"
   ]
  },
  {
   "cell_type": "markdown",
   "metadata": {},
   "source": [
    "## 计算density"
   ]
  },
  {
   "cell_type": "code",
   "execution_count": 9,
   "metadata": {
    "scrolled": false
   },
   "outputs": [],
   "source": [
    "density_vec = np.zeros( (5, t_vec.size) )\n",
    "for n_t in range(t_vec.size):\n",
    "    for n_k in range(momentum_vec.size):\n",
    "        #提取波函数\n",
    "        pos         = manybody_wf_vec[n_k].voltage_site\n",
    "        psi_vec     = manybody_wf_vec[n_k].psi[:,n_t]\n",
    "        \n",
    "        #积分\n",
    "        for n_site in range(5):\n",
    "            density_vec[n_site, n_t] += (np.abs(psi_vec)**2)[pos+n_site]*weight_vec[n_k]"
   ]
  },
  {
   "cell_type": "code",
   "execution_count": 10,
   "metadata": {
    "scrolled": true
   },
   "outputs": [
    {
     "data": {
      "image/png": "[encoded data removed]",
      "text/plain": [
       "<Figure size 432x288 with 1 Axes>"
      ]
     },
     "metadata": {
      "needs_background": "light"
     },
     "output_type": "display_data"
    }
   ],
   "source": [
    "for n_site in range(5):\n",
    "    plt.plot(t_vec, density_vec[n_site,:],label='site {}'.format(n_site))\n",
    "    \n",
    "plt.xlabel(r'time $t$')\n",
    "plt.ylabel(r'charge density $n$')\n",
    "plt.legend()\n",
    "plt.show()"
   ]
  }
 ],
 "metadata": {
  "kernelspec": {
   "display_name": "env-tkwant",
   "language": "python",
   "name": "env-tkwant"
  },
  "language_info": {
   "codemirror_mode": {
    "name": "ipython",
    "version": 3
   },
   "file_extension": ".py",
   "mimetype": "text/x-python",
   "name": "python",
   "nbconvert_exporter": "python",
   "pygments_lexer": "ipython3",
   "version": "3.7.9"
  }
 },
 "nbformat": 4,
 "nbformat_minor": 4
}
