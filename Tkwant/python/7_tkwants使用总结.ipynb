{
 "cells": [
  {
   "cell_type": "code",
   "execution_count": 1,
   "metadata": {},
   "outputs": [],
   "source": [
    "from math import sin, pi\n",
    "import matplotlib.pyplot as plt\n",
    "import tkwant\n",
    "import kwant\n",
    "import numpy as np"
   ]
  },
  {
   "cell_type": "code",
   "execution_count": 2,
   "metadata": {},
   "outputs": [],
   "source": [
    "def make_fabry_perot_system():\n",
    "\n",
    "    # Define an empty tight-binding system on a square lattice.\n",
    "    lat = kwant.lattice.square(norbs=1)\n",
    "    syst = kwant.Builder()\n",
    "\n",
    "    # Central scattering region.\n",
    "    syst[(lat(x, 0) for x in range(80))] = 0  #能带整体向下移动2个能量单位\n",
    "    syst[lat.neighbors()] = -1\n",
    "    # Backgate potential.\n",
    "    syst[(lat(x, 0) for x in range(5, 75))] = -0.0956\n",
    "    # Barrier potential.\n",
    "    syst[[lat(4, 0), lat(75, 0)]] = 5.19615\n",
    "\n",
    "    # Attach lead on the left- and on the right-hand side.\n",
    "    sym = kwant.TranslationalSymmetry((-1, 0))\n",
    "    lead = kwant.Builder(sym)\n",
    "    lead[(lat(0, 0))] = 0\n",
    "    lead[lat.neighbors()] = -1\n",
    "    syst.attach_lead(lead)\n",
    "    syst.attach_lead(lead.reversed())\n",
    "\n",
    "    return syst, lat\n",
    "\n",
    "\n",
    "# Phase from the time integrated voltage V(t).\n",
    "def phi(time):\n",
    "    vb, tau = 0.6, 30.\n",
    "    if time > tau:\n",
    "        return vb * (time - tau / 2.)\n",
    "    return vb / 2. * (time - tau / pi * sin(pi * time / tau))"
   ]
  },
  {
   "cell_type": "markdown",
   "metadata": {},
   "source": [
    "## 一、通过kwant创建系统"
   ]
  },
  {
   "cell_type": "code",
   "execution_count": 3,
   "metadata": {},
   "outputs": [],
   "source": [
    "# Make the system and add voltage V(t) to the left lead (index 0).\n",
    "syst, lat = make_fabry_perot_system()\n",
    "tkwant.leads.add_voltage(syst, 0, phi)\n",
    "syst = syst.finalized()"
   ]
  },
  {
   "cell_type": "markdown",
   "metadata": {},
   "source": [
    "**Note:**\n",
    " - finalized()函数\n",
    " \n",
    "    finalized()是一个函数，输出值才是设置好的syst，即finiteSystem。单纯地syst.finalized()，syst依然是Builder，而不是 finiteSystem\n",
    "\n",
    "    `syst.finalized()`  #<kwant.builder.Builder object at 0x7f718f904610>\n",
    "    \n",
    "    `syst=syst.finalized()`  #<FiniteSystem with 400 sites, and 798 hoppings>\n",
    "\n",
    "    \n",
    " - kwant.plot()函数\n",
    " \n",
    "   `kwant.plot(syst);plt.close()`\n",
    "   \n",
    "   后面跟一个plt.close()是为了防止jupyter再输出一个图。否则会有两个图。"
   ]
  },
  {
   "cell_type": "markdown",
   "metadata": {},
   "source": [
    "## 二、tkwant初始化多体系统"
   ]
  },
  {
   "cell_type": "code",
   "execution_count": 4,
   "metadata": {},
   "outputs": [],
   "source": [
    "# Define an operator to measure the current after the barrier.\n",
    "hoppings = [(lat(78, 0), lat(77, 0))]\n",
    "current_operator = kwant.operator.Current(syst, where=hoppings)\n",
    "\n",
    "# Set occupation T = 0 and mu = -1 for both leads.\n",
    "occup = tkwant.manybody.lead_occupation(chemical_potential=-1)"
   ]
  },
  {
   "cell_type": "code",
   "execution_count": 5,
   "metadata": {},
   "outputs": [],
   "source": [
    "# Initialize the time-dependent manybody state. Use a lower\n",
    "# accuracy for adaptive refinement to speed up the calculation.\n",
    "times = range(220)\n",
    "state = tkwant.manybody.State(syst, tmax=max(times), \n",
    "                              occupations=occup,\n",
    "                              refine=False, combine=True)"
   ]
  },
  {
   "cell_type": "markdown",
   "metadata": {},
   "source": [
    "### 2.1 查看Boundaries"
   ]
  },
  {
   "cell_type": "markdown",
   "metadata": {},
   "source": [
    " - 边界势参数的选择是一个优化过程。\n",
    " \n",
    " - 如何使用这些参数，可以查看源代码，lead.py -> class MonomialAbsorbingBoundary()。文件位置：\n",
    "   anaconda3/envs/env-tkwant/lib/python3.7/site-packages/tkwant\n",
    " \n",
    "   关键代码：\n",
    "   ```python\n",
    "    def _absorb(self, cell):\n",
    "        n = self.degree\n",
    "        return (n + 1) * self.strength * (cell**n / self.num_cells**(n + 1))\n",
    "  ```\n",
    "   \n"
   ]
  },
  {
   "cell_type": "code",
   "execution_count": 6,
   "metadata": {},
   "outputs": [
    {
     "name": "stdout",
     "output_type": "stream",
     "text": [
      "2\n"
     ]
    }
   ],
   "source": [
    "boundaries = state.boundaries\n",
    "print(len(boundaries))"
   ]
  },
  {
   "cell_type": "markdown",
   "metadata": {},
   "source": [
    "第1个lead中的虚势参数"
   ]
  },
  {
   "cell_type": "code",
   "execution_count": 7,
   "metadata": {},
   "outputs": [
    {
     "name": "stdout",
     "output_type": "stream",
     "text": [
      "strength:  45.3618607778088\n",
      "degree:  6\n",
      "buffer:  74\n",
      "imaginary:  65\n"
     ]
    }
   ],
   "source": [
    "print('strength: ', boundaries[0].strength)\n",
    "print('degree: ', boundaries[0].degree)\n",
    "print('buffer: ', boundaries[0].num_buffer_cells)\n",
    "print('imaginary: ', boundaries[0].num_cells )"
   ]
  },
  {
   "cell_type": "markdown",
   "metadata": {},
   "source": [
    "第2个lead中的虚势参数"
   ]
  },
  {
   "cell_type": "code",
   "execution_count": 8,
   "metadata": {},
   "outputs": [
    {
     "name": "stdout",
     "output_type": "stream",
     "text": [
      "strength:  45.3618607778088\n",
      "degree:  6\n",
      "buffer:  74\n",
      "imaginary:  65\n"
     ]
    }
   ],
   "source": [
    "print('strength: ', boundaries[1].strength)\n",
    "print('degree: ', boundaries[1].degree)\n",
    "print('buffer: ', boundaries[1].num_buffer_cells)\n",
    "print('imaginary: ', boundaries[1].num_cells )"
   ]
  },
  {
   "cell_type": "markdown",
   "metadata": {},
   "source": [
    "### 2.2 查看tasks"
   ]
  },
  {
   "cell_type": "markdown",
   "metadata": {},
   "source": [
    " - tasks记录了整个系统中，单体波函数相关的参数\n",
    " \n",
    " - 关于tasks，可以查看源代码，onebody.py中的class Task()，文件位置：\n",
    "   anaconda3/envs/env-tkwant/lib/python3.7/site-packages/tkwant/onebody/onebody.py\n",
    "   \n",
    " - 关于phys_weights，可以查看源代码，manybody.py中的_calc_modes_and_weights()函数。文件位置：\n",
    "   anaconda3/envs/env-tkwant/lib/python3.7/site-packages/tkwant\n",
    "\n",
    "    ```python\n",
    "    jacobian = velocities   #momentum积分\n",
    "    jacobian = 1            #energy积分\n",
    "    phys_weights = jacobian * distribution(energies) / (2 * np.pi)\n",
    "    #经过检查，本例中温度为0，distribution(energies)的输出全为1\n",
    "    ```"
   ]
  },
  {
   "cell_type": "code",
   "execution_count": 9,
   "metadata": {},
   "outputs": [
    {
     "name": "stdout",
     "output_type": "stream",
     "text": [
      "<class 'dict'>\n"
     ]
    }
   ],
   "source": [
    "print(type(state.manybody_wavefunction.tasks))"
   ]
  },
  {
   "cell_type": "code",
   "execution_count": 10,
   "metadata": {},
   "outputs": [
    {
     "name": "stdout",
     "output_type": "stream",
     "text": [
      "dict_keys([0, 1, 2, 3, 4, 5, 6, 7, 8, 9, 10, 11, 12, 13, 14, 15, 16, 17, 18, 19, 20, 21, 22, 23, 24, 25, 26, 27, 28, 29, 30, 31, 32, 33, 34, 35, 36, 37, 38, 39, 40, 41])\n"
     ]
    }
   ],
   "source": [
    "print(state.manybody_wavefunction.tasks.keys())\n",
    "#一维系统有两个lead，入射方向相反的平面波，且使用流归一化。\n",
    "#初始化时，默认采用10阶Gauss-Kronrod对积分区间进行离散化，\n",
    "#momentum空间取样点数为2*order+1=21，两个方向简并，所以一共有42个单体波函数"
   ]
  },
  {
   "cell_type": "code",
   "execution_count": 11,
   "metadata": {},
   "outputs": [
    {
     "name": "stdout",
     "output_type": "stream",
     "text": [
      "lead:  0\n",
      "mode:  0\n",
      "momentum: 0.00227\n",
      "phys_weight:  0.00072\n",
      "math_weight:  [0.        0.0061233]\n",
      "weight:  [0.00000000e+00 4.43209212e-06]\n"
     ]
    }
   ],
   "source": [
    "#以tasks中第一个为例\n",
    "task = state.manybody_wavefunction.tasks[0]\n",
    "\n",
    "print('lead: ',        task.lead) #在本例中，lead=0或1，表示左右两个lead\n",
    "print('mode: ',        task.mode) #一维系统中mode全部为0，在二三维系统中才有意义\n",
    "\n",
    "#该单体态的动量值，以进入散射区的方向为正，所以动量值均为正。注意其单位为1/a，a为晶格常数\n",
    "#动量区间是[0,kF]，然后通过kronrod方法进行离散化\n",
    "print('momentum:',     '%0.5f'%task.momentum) \n",
    "print('phys_weight: ', '%0.5f'%task.phys_weight)#等于 V/2/pi*fermi_distribution\n",
    "print('math_weight: ', task.math_weight) #第一个为Gauss积分系数，第二个为kronrod积分系数，默认使用第2个\n",
    "print('weight: ',      task.weight) #数值积分时的权重，等于math_weight*phys_weight，默认使用第二个系数，即kronrod积分"
   ]
  },
  {
   "cell_type": "markdown",
   "metadata": {},
   "source": [
    "## 三、refine intervals"
   ]
  },
  {
   "cell_type": "code",
   "execution_count": 12,
   "metadata": {},
   "outputs": [],
   "source": [
    "[errsum_max, intervals, errors] =state.refine_intervals(rtol=0.3, atol=0.3)"
   ]
  },
  {
   "cell_type": "markdown",
   "metadata": {},
   "source": [
    "\n",
    " - 目的：tkwant通过该函数细分积分区间，以满足精度要求\n",
    "\n",
    " - 默认情况下，用于估算积分误差的可观测量是散射区格点的粒子密度；\n",
    "   在 class state 初始化函数中，有如下代码：\n",
    "   ```python\n",
    "    if error_op is None:\n",
    "        error_op = kwant.operator.Density(syst)\n",
    "    else:\n",
    "   ```"
   ]
  },
  {
   "cell_type": "markdown",
   "metadata": {},
   "source": [
    " - 估算积分误差的函数：manybody.py - > _error_estimate_quadpack()\n",
    " \n",
    "   该函数的代码并不多，而且注释中提供了详细的解释以及参考文献（没仔细看）\n",
    "   \n",
    "   [1] Piessens, R., de Doncker-Kapenga, E., Ueberhuber, C. W., and Kahaner, D. K., QUADPACK A Subroutine Package for Automatic Integration, Springer-Verlag, Berlin, (1983).\n",
    "\n",
    "   [2] Gonnet, P., A Review of Error Estimation in Adaptive Quadrature, ACM Computing Surveys, Vol. 44, No. 4, Article 22, (2012).\n",
    " \n",
    " \n",
    " - 估算误差的数学表达式：\n",
    " \n",
    "  $$\n",
    "  \\varepsilon = \\tilde{I} \\text{min} \\bigl\\{1, (200\n",
    "        \\frac{G_n[a, b] - K_{2n + 1}[a, b]}{\\tilde{I}})^{3/2} \\bigr\\}\n",
    "  $$\n",
    "  \n",
    "  其中：\n",
    "  \n",
    "  $$\n",
    "  \\tilde{I} = \\int_a^b |f(x) - \\frac{K_{2n + 1}[a, b]}{b - a} |dx\n",
    "  $$\n",
    "  \n",
    "  $G_n[a, b]$为n阶Gauss积分的结果，$K_{2n+1}[a,b]$为n阶Kronrod积分的结果，$[a,b]$为积分区间"
   ]
  },
  {
   "cell_type": "markdown",
   "metadata": {},
   "source": [
    " - 大致流程：\n",
    " \n",
    "   1. 初始interval为[0,kF]的大区间；\n",
    "   \n",
    "   2. 用10阶Gauss-Kronrod方法对该区间进行积分，并估算误差；\n",
    "   \n",
    "   3. 判断每个格点的密度的误差是否满足条件，如果是，则完成区间细分；\n",
    "   \n",
    "   4. 如果否，则找出误差最大的区间，并将其对半分为两个小区间；\n",
    "   \n",
    "   5. 重复上述操作，直到$[0,k_F]$的积分误差满足要求。"
   ]
  },
  {
   "cell_type": "markdown",
   "metadata": {},
   "source": [
    " - 如何查看refine_intervals()的执行过程：在manybod.py->refine_intervals()函数中的while循环中，插入下面代码，即可输出区间的细分过程（大约在manybody.py文件的第1826行）\n",
    " ```python\n",
    "    while True:\n",
    "        for interval in intervals:\n",
    "            print(interval)\n",
    "        print()\n",
    " ```"
   ]
  },
  {
   "cell_type": "markdown",
   "metadata": {},
   "source": [
    " - rtol, atol：相对误差和绝对误差\n",
    " \n",
    "   在refine_intervals()函数中，下面这行计算误差需要满足的条件\n",
    "   \n",
    "   errbnd = np.maximum(atol, rtol * np.abs(result))"
   ]
  },
  {
   "cell_type": "markdown",
   "metadata": {},
   "source": [
    "### 3.1查看interval\n",
    "\n",
    "refine_intervals()函数执行后，[0,kF]的大区间被划分为7个小区间，每个区间有 2*10+1=21 个momentum值，对于每一个lead，有7*21=147个单体波函数。系统有两个lead（编号为0，1），所以总共有294个单体波函数。"
   ]
  },
  {
   "cell_type": "code",
   "execution_count": 13,
   "metadata": {},
   "outputs": [
    {
     "name": "stdout",
     "output_type": "stream",
     "text": [
      "quadrature interval: lead=(0, 1), band=0, kmin=0.523599, kmax=0.785398, order=10, quadrature=kronrod, integration_variable=momentum\n",
      "quadrature interval: lead=(0, 1), band=0, kmin=0.785398, kmax=0.916298, order=10, quadrature=kronrod, integration_variable=momentum\n",
      "quadrature interval: lead=(0, 1), band=0, kmin=0.981748, kmax=1.047198, order=10, quadrature=kronrod, integration_variable=momentum\n",
      "quadrature interval: lead=(0, 1), band=0, kmin=0.916298, kmax=0.981748, order=10, quadrature=kronrod, integration_variable=momentum\n",
      "quadrature interval: lead=(0, 1), band=0, kmin=0.261799, kmax=0.523599, order=10, quadrature=kronrod, integration_variable=momentum\n",
      "quadrature interval: lead=(0, 1), band=0, kmin=0.130900, kmax=0.261799, order=10, quadrature=kronrod, integration_variable=momentum\n",
      "quadrature interval: lead=(0, 1), band=0, kmin=-0.000000, kmax=0.130900, order=10, quadrature=kronrod, integration_variable=momentum\n"
     ]
    }
   ],
   "source": [
    "for interval in intervals:\n",
    "    print(interval)"
   ]
  },
  {
   "cell_type": "markdown",
   "metadata": {},
   "source": [
    "## 四、时域演化（并提取波函数）"
   ]
  },
  {
   "cell_type": "code",
   "execution_count": 14,
   "metadata": {
    "scrolled": true
   },
   "outputs": [],
   "source": [
    "# Loop over timesteps and evaluate the current.\n",
    "currents_my = []\n",
    "currents    = []\n",
    "for time in times:\n",
    "    state.evolve(time)    \n",
    "    current = state.evaluate(current_operator)\n",
    "    currents.append(current)\n",
    "    \n",
    "    #我的电流计算\n",
    "    current  = 0\n",
    "    pos_curr = 77\n",
    "    for key_wf in state.manybody_wavefunction.psi.local_data().keys():\n",
    "        #psi_st = state.manybody_wavefunction.psi.local_data()[key_wf].psi_st #散射初态\n",
    "        psi_vec = state.manybody_wavefunction.psi.local_data()[key_wf].psi()\n",
    "        weight  = (state.manybody_wavefunction.tasks[key_wf].weight)[-1]\n",
    "        current+= weight *  2*np.imag( psi_vec[pos_curr].conj()*(psi_vec[pos_curr+1]) )\n",
    "    currents_my.append(current)"
   ]
  },
  {
   "cell_type": "code",
   "execution_count": 18,
   "metadata": {},
   "outputs": [
    {
     "data": {
      "image/png": "[encoded data removed]",
      "text/plain": [
       "<Figure size 432x288 with 1 Axes>"
      ]
     },
     "metadata": {
      "needs_background": "light"
     },
     "output_type": "display_data"
    }
   ],
   "source": [
    "# Plot the normalized current vs. time.\n",
    "plt.plot(times, currents)\n",
    "plt.plot(times, currents_my, '+')\n",
    "plt.xlabel(r'time $t$')\n",
    "plt.ylabel(r'current $I$')\n",
    "#plt.savefig(\"pic_name.png\", format='png', dpi=200)"
   ]
  },
  {
   "cell_type": "markdown",
   "metadata": {},
   "source": [
    "# Appendix \n",
    "保存momentum&weight数据"
   ]
  },
  {
   "cell_type": "code",
   "execution_count": 16,
   "metadata": {},
   "outputs": [],
   "source": [
    "momentum_vec = []\n",
    "weight_vec   = []\n",
    "\n",
    "tasks = state.manybody_wavefunction.tasks\n",
    "for n_task in tasks.keys():\n",
    "    if (tasks[n_task].lead == 0):\n",
    "        #lead==0, 从左边电子库入射的电子，在我的演示代码中，以从左向右为正方向\n",
    "        momentum_vec.append( tasks[n_task].momentum  )\n",
    "    if (tasks[n_task].lead == 1):\n",
    "        #lead==1, 从右边电子库入射的电子，保存时，加上负号\n",
    "        momentum_vec.append( -tasks[n_task].momentum  )\n",
    "    weight_vec.append( tasks[n_task].weight  )   \n",
    "#np.savez('momentumAndWeight.npz', weight_vec=weight_vec, momentum_vec=momentum_vec)"
   ]
  }
 ],
 "metadata": {
  "kernelspec": {
   "display_name": "env-tkwant",
   "language": "python",
   "name": "env-tkwant"
  },
  "language_info": {
   "codemirror_mode": {
    "name": "ipython",
    "version": 3
   },
   "file_extension": ".py",
   "mimetype": "text/x-python",
   "name": "python",
   "nbconvert_exporter": "python",
   "pygments_lexer": "ipython3",
   "version": "3.7.9"
  }
 },
 "nbformat": 4,
 "nbformat_minor": 4
}
