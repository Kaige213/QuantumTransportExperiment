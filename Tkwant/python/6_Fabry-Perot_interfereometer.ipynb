{
 "cells": [
  {
   "cell_type": "markdown",
   "metadata": {},
   "source": [
    "**Notes:**\n",
    "\n",
    " - 该系统不考虑电子相互作用，哈密顿量与电子波函数没有关系，所以得到一个单电子初态后，可以直接计算它的时间演化，不用同时计算整个多体态\n",
    " \n",
    " - https://kwant-project.org/extensions/tkwant/tutorial/fabry_perot"
   ]
  },
  {
   "cell_type": "code",
   "execution_count": 1,
   "metadata": {},
   "outputs": [],
   "source": [
    "import numpy as np\n",
    "import matplotlib.pyplot as plt\n",
    "import scipy\n",
    "import scipy.sparse as sp\n",
    "from scipy.sparse.linalg import spsolve\n",
    "from scipy.integrate import solve_ivp\n",
    "from tqdm import tqdm"
   ]
  },
  {
   "cell_type": "markdown",
   "metadata": {},
   "source": [
    "##  一、对动量空间采样，用于积分"
   ]
  },
  {
   "cell_type": "code",
   "execution_count": 2,
   "metadata": {},
   "outputs": [],
   "source": [
    "data = np.load('momentumAndWeight.npz')"
   ]
  },
  {
   "cell_type": "code",
   "execution_count": 3,
   "metadata": {},
   "outputs": [],
   "source": [
    "momentum_vec = data['momentum_vec']\n",
    "weight_vec   = data['weight_vec'][:,-1]"
   ]
  },
  {
   "cell_type": "code",
   "execution_count": 4,
   "metadata": {},
   "outputs": [],
   "source": [
    "def dispersionRelation_func(momentum_vec):\n",
    "    energy_vec = 2*(1 - np.cos(momentum_vec)) - 2\n",
    "    return energy_vec"
   ]
  },
  {
   "cell_type": "code",
   "execution_count": 5,
   "metadata": {
    "scrolled": false
   },
   "outputs": [
    {
     "data": {
      "text/plain": [
       "[<matplotlib.lines.Line2D at 0x7f45f0cee710>]"
      ]
     },
     "execution_count": 5,
     "metadata": {},
     "output_type": "execute_result"
    },
    {
     "data": {
      "image/png": "[encoded data removed]",
      "text/plain": [
       "<Figure size 432x288 with 1 Axes>"
      ]
     },
     "metadata": {
      "needs_background": "light"
     },
     "output_type": "display_data"
    }
   ],
   "source": [
    "plt.plot(momentum_vec, dispersionRelation_func(momentum_vec), '+')"
   ]
  },
  {
   "cell_type": "markdown",
   "metadata": {},
   "source": [
    "## 二、求解时域多体态"
   ]
  },
  {
   "cell_type": "code",
   "execution_count": 6,
   "metadata": {},
   "outputs": [],
   "source": [
    "class onebody_wf:\n",
    "    #simple boundery condition\n",
    "    \n",
    "    def __init__(self, momentum):\n",
    "        self.momentum     = momentum\n",
    "        self.energy       = 2*(1 - np.cos(momentum)) - 2  #色散关系\n",
    "        self.speed        = 2*np.sin(abs(momentum))\n",
    "        #散射区格点数\n",
    "        self.num_center   = 81\n",
    "        #add boundaries from tkwant-example\n",
    "        self.boundary_strength = 45.3618607778088\n",
    "        self.boundary_degree   = 6\n",
    "        self.boundary_buffer   = 74\n",
    "        self.boundary_cells    = 65\n",
    "        #total num_cell\n",
    "        self.total_num_cell    = self.num_center + self.boundary_cells*2 + self.boundary_buffer*2\n",
    "        #中心散射区对应的格点位置\n",
    "        self.pos_center_vec    = np.arange(self.boundary_cells + self.boundary_buffer, \n",
    "                                           self.num_center + self.boundary_cells + self.boundary_buffer, 1)\n",
    "        \n",
    "    def init_operator(self):       \n",
    "        # Central scattering region.\n",
    "        diag_vec       = np.zeros(self.num_center, dtype=complex)\n",
    "        # Backgate potential.\n",
    "        diag_vec[6:76] = -0.0956\n",
    "        # Barrier potential.\n",
    "        diag_vec[5]    = 5.19615\n",
    "        diag_vec[76]   = 5.19615\n",
    "        #加上界条件对应的格点\n",
    "        diag_vec = np.concatenate( (np.zeros(self.boundary_cells + self.boundary_buffer, dtype=complex), \n",
    "                                   diag_vec,\n",
    "                                   np.zeros(self.boundary_cells + self.boundary_buffer, dtype=complex) ) )\n",
    "        #hopping\n",
    "        offdiag_vec = - np.ones(self.total_num_cell - 1)\n",
    "        \n",
    "        #---------------------------------------\n",
    "        #生成初始矩阵\n",
    "        self.H0     = scipy.sparse.diags([diag_vec, offdiag_vec, offdiag_vec], [0, 1, -1])\n",
    "        \n",
    "        #---------------------------------------\n",
    "        #生成带边界条件的初始矩阵\n",
    "        #add boundaries from tkwant-example\n",
    "        strength  = self.boundary_strength\n",
    "        degree    = self.boundary_degree\n",
    "        buffer    = self.boundary_buffer\n",
    "        cells     = self.boundary_cells\n",
    "        sigma_vec = -1j*(degree + 1) *strength * (np.arange(cells)/cells)**degree / cells\n",
    "        sigma_vec = np.concatenate( (sigma_vec[::-1],\n",
    "                                     np.zeros(buffer+self.num_center+buffer),\n",
    "                                     sigma_vec) )\n",
    "        self.H0_withBoundary = scipy.sparse.diags([diag_vec+sigma_vec, offdiag_vec, offdiag_vec], [0, 1, -1])\n",
    "        \n",
    "        #Wt\n",
    "        center_site = self.pos_center_vec[0]\n",
    "        lead_site   = center_site - 1\n",
    "        self.Wt     = sp.csr_matrix( ([0.+0.j,0.+0.j], ([lead_site, center_site], [center_site, lead_site]) ), \n",
    "                          shape=(self.total_num_cell, self.total_num_cell) )\n",
    "    \n",
    "    def scatteringState(self):   \n",
    "        #构建定态散射方程\n",
    "        matrix_eq = self.H0 - self.energy * sp.eye(self.total_num_cell)\n",
    "        matrix_eq = sp.csr_matrix(matrix_eq)\n",
    "        #定态散射边界条件\n",
    "        #left\n",
    "        matrix_eq[0,0]   = 1\n",
    "        matrix_eq[0,1]   = -np.exp(1j*abs(self.momentum))\n",
    "        #right\n",
    "        matrix_eq[-1,-1] = 1\n",
    "        matrix_eq[-1,-2] = -np.exp(1j*abs(self.momentum))\n",
    "        #入射态\n",
    "        right_vec        = np.zeros(self.total_num_cell, dtype=complex)\n",
    "        if self.momentum>0:            \n",
    "            right_vec[0] = 1/np.sqrt(self.speed)*(1-np.exp( 2j*self.momentum)) \n",
    "        else:\n",
    "            right_vec[-1]= 1/np.sqrt(self.speed)*(1-np.exp(-2j*self.momentum)) \n",
    "        #求解线性方程组，得到散射初态\n",
    "        self.psi_init     = spsolve(matrix_eq, right_vec)  \n",
    "        \n",
    "    def evolve(self, t_vec): \n",
    "        # Phase from the time integrated voltage V(t).\n",
    "        def phi(time):\n",
    "            vb, tau = 0.6, 30.\n",
    "            if time > tau:\n",
    "                return vb * (time - tau / 2.)\n",
    "            return vb / 2. * (time - tau / np.pi * np.sin(np.pi * time / tau))    \n",
    "        \n",
    "        def dfdt_func(t, psi_bar_vec):\n",
    "            phase                           = phi(t)\n",
    "            self.Wt[lead_site, center_site] = -1*(np.exp( 1j*phase) - 1)  #center -> lead\n",
    "            self.Wt[center_site, lead_site] = -1*(np.exp(-1j*phase) - 1)  #lead -> center\n",
    "            return  -1j*( ((self.H0_withBoundary + self.Wt - self.energy * sp.eye(self.total_num_cell)) )@psi_bar_vec +\n",
    "                         self.Wt@self.psi_init )\n",
    "        \n",
    "        #电压相位对应的hopping位置\n",
    "        center_site = self.pos_center_vec[0]\n",
    "        lead_site   = center_site - 1        \n",
    "        \n",
    "        # %% Solve differential equation\n",
    "        #计算psi_bar\n",
    "        sol = solve_ivp(dfdt_func, [t_vec[0], t_vec[-1]], np.zeros(self.total_num_cell,dtype=complex), t_eval=t_vec, rtol=1e-5,atol=1e-8) \n",
    "        #由psi_bar得到psi\n",
    "        self.psi = np.zeros( (self.total_num_cell, t_vec.size), dtype=complex)\n",
    "        for n_t in range(t_vec.size):\n",
    "            time            = t_vec[n_t]\n",
    "            self.psi[:,n_t] = (sol['y'][:,n_t] + self.psi_init) * np.exp(-1j*self.energy*(time-0))"
   ]
  },
  {
   "cell_type": "code",
   "execution_count": 7,
   "metadata": {},
   "outputs": [
    {
     "name": "stderr",
     "output_type": "stream",
     "text": [
      "100%|██████████| 294/294 [53:16<00:00, 10.87s/it]\n"
     ]
    }
   ],
   "source": [
    "t_vec = np.arange(200)\n",
    "manybody_wf_vec = []\n",
    "\n",
    "for n_k in tqdm(range(momentum_vec.size)):\n",
    "    #入射态的态指标\n",
    "    k      = momentum_vec[n_k]\n",
    "    #实例化\n",
    "    wf_withMomentum = onebody_wf(k)\n",
    "    #初始化H0, H0_withBoundary, Wt\n",
    "    wf_withMomentum.init_operator()\n",
    "    #初态单体波函数\n",
    "    wf_withMomentum.scatteringState()\n",
    "    #时间演化\n",
    "    wf_withMomentum.evolve(t_vec)\n",
    "    #储存该态的演化数据\n",
    "    manybody_wf_vec.append(wf_withMomentum)"
   ]
  },
  {
   "cell_type": "markdown",
   "metadata": {},
   "source": [
    "## 计算Current"
   ]
  },
  {
   "cell_type": "code",
   "execution_count": 8,
   "metadata": {
    "scrolled": false
   },
   "outputs": [],
   "source": [
    "current_vec = np.zeros( t_vec.size )\n",
    "for n_t in range(t_vec.size):\n",
    "    for n_k in range(momentum_vec.size):\n",
    "        #提取波函数\n",
    "        pos_curr = manybody_wf_vec[n_k].pos_center_vec[77]  \n",
    "        psi_vec = manybody_wf_vec[n_k].psi[:,n_t]\n",
    "        current = 2*np.imag( psi_vec[pos_curr].conj()*(psi_vec[pos_curr+1]) )    \n",
    "        #积分\n",
    "        current_vec[n_t] += current*weight_vec[n_k]"
   ]
  },
  {
   "cell_type": "code",
   "execution_count": 9,
   "metadata": {
    "scrolled": true
   },
   "outputs": [
    {
     "data": {
      "image/png": "[encoded data removed]",
      "text/plain": [
       "<Figure size 432x288 with 1 Axes>"
      ]
     },
     "metadata": {
      "needs_background": "light"
     },
     "output_type": "display_data"
    }
   ],
   "source": [
    "# Plot the normalized current vs. time.\n",
    "plt.plot(t_vec, current_vec / current_vec[-1])\n",
    "plt.xlabel(r'time $t$')\n",
    "plt.ylabel(r'current $I$')\n",
    "plt.show()"
   ]
  },
  {
   "cell_type": "code",
   "execution_count": null,
   "metadata": {},
   "outputs": [],
   "source": []
  }
 ],
 "metadata": {
  "kernelspec": {
   "display_name": "env-tkwant",
   "language": "python",
   "name": "env-tkwant"
  },
  "language_info": {
   "codemirror_mode": {
    "name": "ipython",
    "version": 3
   },
   "file_extension": ".py",
   "mimetype": "text/x-python",
   "name": "python",
   "nbconvert_exporter": "python",
   "pygments_lexer": "ipython3",
   "version": "3.7.9"
  }
 },
 "nbformat": 4,
 "nbformat_minor": 4
}
