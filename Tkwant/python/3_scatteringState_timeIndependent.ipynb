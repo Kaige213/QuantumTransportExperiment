{
 "cells": [
  {
   "cell_type": "markdown",
   "metadata": {},
   "source": [
    "### 求解定态散射问题：\n",
    "\n",
    "$$\n",
    "  \\bigg[-\\frac{\\hbar^2}{2m}\\partial_x^2 +V(x) \\bigg] \\Psi_x = E \\Psi_x\n",
    "$$"
   ]
  },
  {
   "cell_type": "markdown",
   "metadata": {},
   "source": [
    "#### a. 离散化: \n",
    "\n",
    "$$\n",
    "\\frac{\\hbar^2}{2ma^2} \\bigg[  -\\Psi_{n-1} + (2-E+V_n)\\Psi_n - \\Psi_{n+1} \\bigg] =0 \n",
    "$$"
   ]
  },
  {
   "cell_type": "markdown",
   "metadata": {},
   "source": [
    "#### b. 边界条件：\n",
    "\n",
    "\n",
    "以k>0为例，即从系统的左边入射平面波，假设系统的格点总数为N个。\n",
    "\n",
    "\n",
    "左边的lead中波函数的表达式：\n",
    "$$\n",
    "  \\Psi^L = \\frac{1}{\\sqrt{V}} \\bigg(e^{ikx} + r e^{-ikx} \\bigg)\n",
    "$$\n",
    "\n",
    "离散化后，最左边的两个格点的波函数：\n",
    "$$\n",
    "\\begin{cases}\n",
    "\\Psi_0 = \\frac{1}{\\sqrt{V}} (1+r)\n",
    "\\\\\n",
    "\\Psi_1 = \\frac{1}{\\sqrt{V}} (e^{ika} + re^{-ika})\n",
    "\\end{cases}\n",
    "$$\n",
    "\n",
    "由此得到左边的边界条件：\n",
    "$$\n",
    "\\Psi_0 - e^{ika}\\ \\Psi_1 = \\frac{1}{\\sqrt{V}} (1-e^{2ika})\n",
    "$$"
   ]
  },
  {
   "cell_type": "markdown",
   "metadata": {},
   "source": [
    "右边边的lead中波函数的表达式：\n",
    "$$\n",
    "  \\Psi^R = \\frac{1}{\\sqrt{V}} t e^{ikx} \n",
    "$$\n",
    "\n",
    "离散化后，最右边的两个格点的波函数：\n",
    "$$\n",
    "\\begin{cases}\n",
    "\\Psi_{N-1} = \\frac{t}{\\sqrt{V}} e^{ika(N-1)}\n",
    "\\\\\n",
    "\\Psi_{N-2} = \\frac{t}{\\sqrt{V}} e^{ika(N-2)}\n",
    "\\end{cases}\n",
    "$$\n",
    "\n",
    "由此得到右边的边界条件：\n",
    "$$\n",
    "\\Psi_{N-1} - e^{ika}\\ \\Psi_{N-2} = 0\n",
    "$$"
   ]
  },
  {
   "cell_type": "code",
   "execution_count": 1,
   "metadata": {},
   "outputs": [],
   "source": [
    "import numpy as np\n",
    "import matplotlib.pyplot as plt\n",
    "import scipy\n",
    "import scipy.sparse as sp\n",
    "from scipy.sparse.linalg import spsolve\n",
    "from tqdm import tqdm"
   ]
  },
  {
   "cell_type": "code",
   "execution_count": 2,
   "metadata": {},
   "outputs": [],
   "source": [
    "class onebody_wf:\n",
    "   \n",
    "    def __init__(self, momentum):\n",
    "        self.momentum     = momentum\n",
    "        self.energy       = 2*(1-np.cos(self.momentum)) #色散关系\n",
    "        self.speed        = 2*np.sin(abs(momentum))\n",
    "        #total num_cell\n",
    "        self.total_num_cell = 100\n",
    "\n",
    "    def init_operator(self):       \n",
    "        #方势垒\n",
    "        def potential_func(num_total):\n",
    "            V0 = 0.1\n",
    "            L  = 20\n",
    "            pos_start     = int(num_total/2-L/2) \n",
    "            potential_vec = np.zeros(num_total)\n",
    "            potential_vec[ pos_start:(pos_start+L) ] = V0\n",
    "            return potential_vec\n",
    "        # Central scattering region.\n",
    "        diag_vec    = 2*np.ones(self.total_num_cell, dtype=complex) + potential_func(self.total_num_cell)\n",
    "        #hopping\n",
    "        offdiag_vec = - np.ones(self.total_num_cell - 1)\n",
    "        #---------------------------------------\n",
    "        #生成初始矩阵\n",
    "        self.H0     = scipy.sparse.diags([diag_vec, offdiag_vec, offdiag_vec], [0, 1, -1])\n",
    "    \n",
    "    def scatteringState(self):   \n",
    "        #构建定态散射方程\n",
    "        matrix_eq = self.H0 - self.energy * sp.eye(self.total_num_cell)\n",
    "        matrix_eq = sp.csr_matrix(matrix_eq)\n",
    "        #定态散射边界条件\n",
    "        #left\n",
    "        matrix_eq[0,0]   = 1\n",
    "        matrix_eq[0,1]   = -np.exp(1j*abs(self.momentum))\n",
    "        #right\n",
    "        matrix_eq[-1,-1] = 1\n",
    "        matrix_eq[-1,-2] = -np.exp(1j*abs(self.momentum))\n",
    "        #入射态对应的边界条件\n",
    "        right_vec        = np.zeros(self.total_num_cell, dtype=complex)\n",
    "        if self.momentum>0:            \n",
    "            right_vec[0] = 1/np.sqrt(self.speed)*(1-np.exp( 2j*self.momentum)) \n",
    "        else:\n",
    "            right_vec[-1]= 1/np.sqrt(self.speed)*(1-np.exp(-2j*self.momentum)) \n",
    "        #求解线性方程组，得到散射初态\n",
    "        self.psi_init     = spsolve(matrix_eq, right_vec)  "
   ]
  },
  {
   "cell_type": "markdown",
   "metadata": {},
   "source": [
    "## 波函数空间分布"
   ]
  },
  {
   "cell_type": "code",
   "execution_count": 3,
   "metadata": {},
   "outputs": [],
   "source": [
    "#入射态的态指标\n",
    "wf_withMomentum = onebody_wf(0.4)\n",
    "#初始化H0\n",
    "wf_withMomentum.init_operator()\n",
    "#初态单体波函数\n",
    "wf_withMomentum.scatteringState()"
   ]
  },
  {
   "cell_type": "code",
   "execution_count": 4,
   "metadata": {
    "scrolled": true
   },
   "outputs": [
    {
     "data": {
      "text/plain": [
       "[<matplotlib.lines.Line2D at 0x7efe2e59c3d0>]"
      ]
     },
     "execution_count": 4,
     "metadata": {},
     "output_type": "execute_result"
    },
    {
     "data": {
      "image/png": "[encoded data removed]",
      "text/plain": [
       "<Figure size 432x288 with 1 Axes>"
      ]
     },
     "metadata": {
      "needs_background": "light"
     },
     "output_type": "display_data"
    }
   ],
   "source": [
    "plt.plot( np.abs(wf_withMomentum.psi_init) )"
   ]
  },
  {
   "cell_type": "markdown",
   "metadata": {},
   "source": [
    "## 与解析解对比"
   ]
  },
  {
   "cell_type": "code",
   "execution_count": 5,
   "metadata": {},
   "outputs": [],
   "source": [
    "momentum_vec              = np.linspace(0, 0.5, 101)[1:]\n",
    "transmission_vec          = np.zeros(momentum_vec.size)\n",
    "transmission_analytic_vec = np.zeros(momentum_vec.size)"
   ]
  },
  {
   "cell_type": "code",
   "execution_count": 6,
   "metadata": {},
   "outputs": [],
   "source": [
    "#解析解\n",
    "#曾谨言，量子力学教程，page39\n",
    "def transmission_ofSquare(k):\n",
    "    V0     = 0.1\n",
    "    L      = 20\n",
    "    energy = 2*(1 - np.cos(k))\n",
    "    kappa  = np.sqrt(V0-energy + 0j)\n",
    "    transmission = 4*(k*kappa)**2/( (k**2-kappa**2)**2*np.sinh(kappa*L)**2 + 4*(k*kappa)**2*np.cosh(kappa*L)**2 )\n",
    "    return abs(transmission)"
   ]
  },
  {
   "cell_type": "code",
   "execution_count": 7,
   "metadata": {},
   "outputs": [],
   "source": [
    "for n_k in range(momentum_vec.size):\n",
    "    #入射态的态指标\n",
    "    k      = momentum_vec[n_k]\n",
    "    #实例化\n",
    "    wf_withMomentum = onebody_wf(k)\n",
    "    #初始化H0\n",
    "    wf_withMomentum.init_operator()\n",
    "    #初态单体波函数\n",
    "    wf_withMomentum.scatteringState()    \n",
    "    #计算投射系数\n",
    "    transmission_vec[n_k] = np.abs(wf_withMomentum.psi_init[-1])**2 * wf_withMomentum.speed\n",
    "    #解析解\n",
    "    transmission_analytic_vec[n_k] = transmission_ofSquare(k)"
   ]
  },
  {
   "cell_type": "code",
   "execution_count": 8,
   "metadata": {},
   "outputs": [
    {
     "data": {
      "text/plain": [
       "Text(0, 0.5, 'T')"
      ]
     },
     "execution_count": 8,
     "metadata": {},
     "output_type": "execute_result"
    },
    {
     "data": {
      "image/png": "[encoded data removed]",
      "text/plain": [
       "<Figure size 432x288 with 1 Axes>"
      ]
     },
     "metadata": {
      "needs_background": "light"
     },
     "output_type": "display_data"
    }
   ],
   "source": [
    "plt.plot(momentum_vec, transmission_analytic_vec)\n",
    "plt.plot(momentum_vec, transmission_vec,'+')\n",
    "plt.xlim([momentum_vec[0],momentum_vec[-1]])\n",
    "plt.xlabel('k')\n",
    "plt.ylabel('T')"
   ]
  }
 ],
 "metadata": {
  "kernelspec": {
   "display_name": "env-tkwant",
   "language": "python",
   "name": "env-tkwant"
  },
  "language_info": {
   "codemirror_mode": {
    "name": "ipython",
    "version": 3
   },
   "file_extension": ".py",
   "mimetype": "text/x-python",
   "name": "python",
   "nbconvert_exporter": "python",
   "pygments_lexer": "ipython3",
   "version": "3.7.9"
  }
 },
 "nbformat": 4,
 "nbformat_minor": 4
}
