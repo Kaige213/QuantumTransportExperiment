{
 "cells": [
  {
   "cell_type": "markdown",
   "metadata": {},
   "source": [
    "**说明：**\n",
    "\n",
    " - 虽然这里的归一化系数没有作用，但为了表达式统一，依然将它加到了程序中"
   ]
  },
  {
   "cell_type": "code",
   "execution_count": 9,
   "metadata": {},
   "outputs": [],
   "source": [
    "import numpy as np\n",
    "import matplotlib.pyplot as plt\n",
    "import scipy\n",
    "import scipy.sparse as sp\n",
    "from scipy.sparse.linalg import spsolve"
   ]
  },
  {
   "cell_type": "markdown",
   "metadata": {},
   "source": [
    "无量纲化：$\\frac{\\hbar^2}{2ma^2}=1$, a= 1\n",
    "\n",
    "色散关系： $E(k) = 2\\frac{\\hbar^2}{2ma^2} (1-\\cos(ka))$"
   ]
  },
  {
   "cell_type": "code",
   "execution_count": null,
   "metadata": {},
   "outputs": [],
   "source": [
    "#方势垒\n",
    "def potential_func(num_total):\n",
    "    V0 = 0.1\n",
    "    L  = 20\n",
    "    pos_start     = int(num_total/2-L/2) \n",
    "    potential_vec = np.zeros(num_total)\n",
    "    potential_vec[ pos_start:(pos_start+L) ] = V0\n",
    "    return potential_vec"
   ]
  },
  {
   "cell_type": "markdown",
   "metadata": {},
   "source": [
    "## 一、算法说明"
   ]
  },
  {
   "cell_type": "markdown",
   "metadata": {},
   "source": [
    "### 散射初态"
   ]
  },
  {
   "cell_type": "code",
   "execution_count": 2,
   "metadata": {},
   "outputs": [],
   "source": [
    "k      = 0.5\n",
    "energy = 2*(1 - np.cos(k))\n",
    "speed  = 2*np.sin(k)"
   ]
  },
  {
   "cell_type": "code",
   "execution_count": 3,
   "metadata": {},
   "outputs": [],
   "source": [
    "Nn     = 100    #格点数\n",
    "xn_vec = np.arange(Nn)"
   ]
  },
  {
   "cell_type": "markdown",
   "metadata": {},
   "source": [
    "### 平直一维空间哈密顿量"
   ]
  },
  {
   "cell_type": "code",
   "execution_count": 4,
   "metadata": {},
   "outputs": [],
   "source": [
    "diag_vec    = 2*np.ones(xn_vec.size)\n",
    "offdiag_vec = - np.ones(xn_vec.size - 1)\n",
    "H0          = scipy.sparse.diags([diag_vec, offdiag_vec, offdiag_vec], [0, 1, -1])"
   ]
  },
  {
   "cell_type": "markdown",
   "metadata": {},
   "source": [
    "### 给定输入波函数"
   ]
  },
  {
   "cell_type": "code",
   "execution_count": 6,
   "metadata": {},
   "outputs": [],
   "source": [
    "diag_vec      = 2*np.ones(xn_vec.size,dtype=complex) + potential_func(xn_vec.size) - energy\n",
    "offdiag_vec = - np.ones(xn_vec.size - 1)\n",
    "matrix_eq   = scipy.sparse.diags([diag_vec, offdiag_vec, offdiag_vec], [0, 1, -1])\n",
    "matrix_eq   = sp.csr_matrix(matrix_eq)\n",
    "\n",
    "#边界条件\n",
    "#left\n",
    "matrix_eq[0,0]   = 1\n",
    "matrix_eq[0,1]   = -np.exp(1j*k)\n",
    "#right\n",
    "matrix_eq[-1,-1] = 1\n",
    "matrix_eq[-1,-2] = -np.exp(1j*k)"
   ]
  },
  {
   "cell_type": "markdown",
   "metadata": {},
   "source": [
    "### 构建方程"
   ]
  },
  {
   "cell_type": "code",
   "execution_count": 11,
   "metadata": {},
   "outputs": [],
   "source": [
    "right_vec    = np.zeros(xn_vec.size, dtype=complex)\n",
    "right_vec[0] = 1/np.sqrt(speed)*(1-np.exp(2j*k)) \n",
    "psi_vec      = spsolve(matrix_eq, right_vec)"
   ]
  },
  {
   "cell_type": "code",
   "execution_count": 12,
   "metadata": {},
   "outputs": [
    {
     "data": {
      "text/plain": [
       "[<matplotlib.lines.Line2D at 0x7fa61b912510>]"
      ]
     },
     "execution_count": 12,
     "metadata": {},
     "output_type": "execute_result"
    },
    {
     "data": {
      "image/png": "[encoded data removed]",
      "text/plain": [
       "<Figure size 432x288 with 1 Axes>"
      ]
     },
     "metadata": {
      "needs_background": "light"
     },
     "output_type": "display_data"
    }
   ],
   "source": [
    "plt.plot( np.abs(psi_vec) )\n",
    "#plt.plot(psi_vec.imag)"
   ]
  },
  {
   "cell_type": "markdown",
   "metadata": {},
   "source": [
    "## 二、与解析解对比"
   ]
  },
  {
   "cell_type": "code",
   "execution_count": 54,
   "metadata": {},
   "outputs": [],
   "source": [
    "#方势垒\n",
    "V0 = 0.1\n",
    "L  = 20\n",
    "def potential_func(num_total):\n",
    "    pos_start     = int(num_total/2-L/2) \n",
    "    potential_vec = np.zeros(num_total)\n",
    "    potential_vec[ pos_start:(pos_start+L) ] = V0\n",
    "    return potential_vec"
   ]
  },
  {
   "cell_type": "code",
   "execution_count": 68,
   "metadata": {},
   "outputs": [],
   "source": [
    "wavevector_vec   = np.linspace(0, 0.5, 101)[1:]\n",
    "transmission_vec = np.zeros(wavevector_vec.size)"
   ]
  },
  {
   "cell_type": "code",
   "execution_count": 69,
   "metadata": {},
   "outputs": [],
   "source": [
    "Nn     = 100\n",
    "xn_vec = np.arange(Nn)"
   ]
  },
  {
   "cell_type": "code",
   "execution_count": 70,
   "metadata": {},
   "outputs": [],
   "source": [
    "for n_k in range(wavevector_vec.size):\n",
    "    k      = wavevector_vec[n_k]\n",
    "    energy = 2*(1 - np.cos(k))\n",
    "    speed  = 2*np.sin(k)\n",
    "    \n",
    "    #构建矩阵方程\n",
    "    diag_vec    = 2*np.ones(xn_vec.size,dtype=complex) + potential_func(xn_vec.size) - energy\n",
    "    offdiag_vec = - np.ones(xn_vec.size - 1)\n",
    "    matrix_eq   = scipy.sparse.diags([diag_vec, offdiag_vec, offdiag_vec], [0, 1, -1])\n",
    "    matrix_eq   = sp.csr_matrix(matrix_eq)\n",
    "\n",
    "    #边界条件\n",
    "    #left\n",
    "    matrix_eq[0,0]   = 1\n",
    "    matrix_eq[0,1]   = -np.exp(1j*k)\n",
    "    #right\n",
    "    matrix_eq[-1,-1] = 1\n",
    "    matrix_eq[-1,-2] = -np.exp(1j*k)\n",
    "    \n",
    "    #给定入射态\n",
    "    right_vec    = np.zeros(xn_vec.size, dtype=complex)\n",
    "    right_vec[0] = 1/np.sqrt(speed)*(1-np.exp(2j*k)) \n",
    "    psi_vec      = spsolve(matrix_eq, right_vec)\n",
    "    \n",
    "    #计算投射系数\n",
    "    transmission_vec[n_k] = np.abs(psi_vec[-1])**2 * speed"
   ]
  },
  {
   "cell_type": "markdown",
   "metadata": {},
   "source": [
    "### 与解析解对比"
   ]
  },
  {
   "cell_type": "code",
   "execution_count": 71,
   "metadata": {},
   "outputs": [],
   "source": [
    "#曾谨言，量子力学教程，page39\n",
    "def transmission_ofSquare(V0, L, k, energy):\n",
    "    kappa = np.sqrt(V0-energy + 0j)\n",
    "    transmission = 4*(k*kappa)**2/( (k**2-kappa**2)**2*np.sinh(kappa*L)**2 + 4*(k*kappa)**2*np.cosh(kappa*L)**2 )\n",
    "    return abs(transmission)"
   ]
  },
  {
   "cell_type": "code",
   "execution_count": 72,
   "metadata": {},
   "outputs": [],
   "source": [
    "transmission_analytic_vec = np.zeros(wavevector_vec.size)\n",
    "\n",
    "for n_k in range(wavevector_vec.size):\n",
    "    k      = wavevector_vec[n_k]\n",
    "    energy = 2*(1 - np.cos(k))\n",
    "    transmission_analytic_vec[n_k] = transmission_ofSquare(V0, L, k, energy)"
   ]
  },
  {
   "cell_type": "code",
   "execution_count": 74,
   "metadata": {},
   "outputs": [
    {
     "data": {
      "text/plain": [
       "Text(0, 0.5, 'T')"
      ]
     },
     "execution_count": 74,
     "metadata": {},
     "output_type": "execute_result"
    },
    {
     "data": {
      "image/png": "[encoded data removed]",
      "text/plain": [
       "<Figure size 432x288 with 1 Axes>"
      ]
     },
     "metadata": {
      "needs_background": "light"
     },
     "output_type": "display_data"
    }
   ],
   "source": [
    "plt.plot(wavevector_vec, transmission_analytic_vec)\n",
    "plt.plot(wavevector_vec, transmission_vec)\n",
    "plt.xlim([wavevector_vec[0],wavevector_vec[-1]])\n",
    "plt.xlabel('k')\n",
    "plt.ylabel('T')"
   ]
  }
 ],
 "metadata": {
  "kernelspec": {
   "display_name": "env-tkwant",
   "language": "python",
   "name": "env-tkwant"
  },
  "language_info": {
   "codemirror_mode": {
    "name": "ipython",
    "version": 3
   },
   "file_extension": ".py",
   "mimetype": "text/x-python",
   "name": "python",
   "nbconvert_exporter": "python",
   "pygments_lexer": "ipython3",
   "version": "3.7.9"
  }
 },
 "nbformat": 4,
 "nbformat_minor": 4
}
