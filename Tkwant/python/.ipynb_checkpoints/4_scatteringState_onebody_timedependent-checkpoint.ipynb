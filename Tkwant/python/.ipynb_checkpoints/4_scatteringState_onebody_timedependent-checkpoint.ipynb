{
 "cells": [
  {
   "cell_type": "markdown",
   "metadata": {},
   "source": [
    "**Notes:**\n",
    "\n",
    " - onsite energy为0，说明能量整体向下平移了2个单位\n",
    "   "
   ]
  },
  {
   "cell_type": "markdown",
   "metadata": {},
   "source": [
    "无量纲化：$\\frac{\\hbar^2}{2ma^2}=1$, a= 1\n",
    "\n",
    "色散关系： $E(k) = 2 (1-\\cos(k)) - 2$"
   ]
  },
  {
   "cell_type": "markdown",
   "metadata": {},
   "source": [
    "### 波函数的时域演化"
   ]
  },
  {
   "cell_type": "markdown",
   "metadata": {},
   "source": [
    "根据X. Waintal的论文，实际求解的时域方程：\n",
    "$$\n",
    "\\partial_t \\bar{\\Psi} = -i \\bigg[(H_0 + W_t - E)\\bar{\\Psi} + W_t \\Psi_{st} \\bigg]\n",
    "$$"
   ]
  },
  {
   "cell_type": "code",
   "execution_count": 1,
   "metadata": {},
   "outputs": [],
   "source": [
    "import numpy as np\n",
    "import matplotlib.pyplot as plt\n",
    "import scipy\n",
    "import scipy.sparse as sp\n",
    "from scipy.sparse.linalg import spsolve\n",
    "from scipy.integrate import solve_ivp\n",
    "from scipy.special import erf\n",
    "from tqdm import tqdm"
   ]
  },
  {
   "cell_type": "code",
   "execution_count": 2,
   "metadata": {},
   "outputs": [],
   "source": [
    "class onebody_wf:   \n",
    "    def __init__(self, momentum):\n",
    "        self.momentum     = momentum\n",
    "        self.energy       = 2*(1 - np.cos(momentum)) - 2  #色散关系\n",
    "        self.speed        = 2*np.sin(abs(momentum))\n",
    "        #散射区格点数\n",
    "        self.num_center   = 400\n",
    "        \n",
    "        # 虚势的参数是根据tkwant得到的\n",
    "        # boundaries from tkwant-example\n",
    "        self.boundary_strength = 33.176446627131625\n",
    "        self.boundary_degree   = 6\n",
    "        self.boundary_buffer   = 101\n",
    "        self.boundary_cells    = 88\n",
    "        \n",
    "        #total num_cell\n",
    "        self.total_num_cell    = self.num_center + self.boundary_cells*2 + self.boundary_buffer*2\n",
    "        #中心散射区对应的格点位置\n",
    "        self.pos_center_vec    = np.arange(self.boundary_cells + self.boundary_buffer, \n",
    "                                           self.num_center + self.boundary_cells + self.boundary_buffer, 1)\n",
    "        \n",
    "    def init_operator(self):         \n",
    "        # 对角元\n",
    "        diag_vec    = np.zeros(self.total_num_cell, dtype=complex)\n",
    "        #hopping\n",
    "        offdiag_vec = - np.ones(self.total_num_cell - 1)\n",
    "        \n",
    "        #---------------------------------------\n",
    "        #生成初始矩阵\n",
    "        self.H0     = scipy.sparse.diags([diag_vec, offdiag_vec, offdiag_vec], [0, 1, -1])\n",
    "        \n",
    "        #---------------------------------------\n",
    "        #生成带边界条件的初始矩阵\n",
    "        #add boundaries from tkwant-example\n",
    "        strength  = self.boundary_strength\n",
    "        degree    = self.boundary_degree\n",
    "        buffer    = self.boundary_buffer\n",
    "        cells     = self.boundary_cells\n",
    "        sigma_vec = -1j*(degree + 1) *strength * (np.arange(cells)/cells)**degree / cells\n",
    "        sigma_vec = np.concatenate( (sigma_vec[::-1],\n",
    "                                     np.zeros(buffer+self.num_center+buffer),\n",
    "                                     sigma_vec) )\n",
    "        self.H0_withBoundary = scipy.sparse.diags([diag_vec+sigma_vec, offdiag_vec, offdiag_vec], [0, 1, -1])\n",
    "        \n",
    "        #初始的 Wt 矩阵\n",
    "        center_site = self.pos_center_vec[0]\n",
    "        lead_site   = center_site - 1\n",
    "        self.Wt     = sp.csr_matrix( ([0.+0.j,0.+0.j], ([lead_site, center_site], [center_site, lead_site]) ), \n",
    "                          shape=(self.total_num_cell, self.total_num_cell) )\n",
    "    \n",
    "    def scatteringState(self):   \n",
    "        #构建定态散射方程\n",
    "        matrix_eq = self.H0 - self.energy * sp.eye(self.total_num_cell)\n",
    "        matrix_eq = sp.csr_matrix(matrix_eq)\n",
    "        #定态散射边界条件\n",
    "        #left\n",
    "        matrix_eq[0,0]   = 1\n",
    "        matrix_eq[0,1]   = -np.exp(1j*abs(self.momentum))\n",
    "        #right\n",
    "        matrix_eq[-1,-1] = 1\n",
    "        matrix_eq[-1,-2] = -np.exp(1j*abs(self.momentum))\n",
    "        #入射态\n",
    "        right_vec        = np.zeros(self.total_num_cell, dtype=complex)\n",
    "        if self.momentum>0:            \n",
    "            right_vec[0] = 1/np.sqrt(self.speed)*(1-np.exp( 2j*self.momentum)) \n",
    "        else:\n",
    "            right_vec[-1]= 1/np.sqrt(self.speed)*(1-np.exp(-2j*self.momentum)) \n",
    "        #求解线性方程组，得到散射初态\n",
    "        self.psi_init     = spsolve(matrix_eq, right_vec)  \n",
    "        \n",
    "    def evolve(self, t_vec): \n",
    "        # Phase from the time integrated voltage V(t).\n",
    "        def phi(time):\n",
    "            return 1.57 * (1 + erf((time - 40) / 20))\n",
    "        \n",
    "        def dfdt_func(t, psi_bar_vec):\n",
    "            #电压相位对应的hopping位置\n",
    "            center_site = self.pos_center_vec[0]\n",
    "            lead_site   = center_site - 1 \n",
    "            phase                           = phi(t)\n",
    "            self.Wt[lead_site, center_site] = -1*(np.exp( 1j*phase) - 1)  #center -> lead\n",
    "            self.Wt[center_site, lead_site] = -1*(np.exp(-1j*phase) - 1)  #lead -> center\n",
    "            return  -1j*( ((self.H0_withBoundary + self.Wt - self.energy * sp.eye(self.total_num_cell)) )@psi_bar_vec +\n",
    "                         self.Wt@self.psi_init )      \n",
    "        \n",
    "        # %% Solve differential equation\n",
    "        #计算psi_bar\n",
    "        sol = solve_ivp(dfdt_func, [t_vec[0], t_vec[-1]], np.zeros(self.total_num_cell,dtype=complex), t_eval=t_vec, rtol=1e-5,atol=1e-8) \n",
    "        #由psi_bar得到psi\n",
    "        self.psi = np.zeros( (self.total_num_cell, t_vec.size), dtype=complex)\n",
    "        for n_t in range(t_vec.size):\n",
    "            time            = t_vec[n_t]\n",
    "            self.psi[:,n_t] = (sol['y'][:,n_t] + self.psi_init) * np.exp(-1j*self.energy*(time-0))"
   ]
  },
  {
   "cell_type": "code",
   "execution_count": 3,
   "metadata": {},
   "outputs": [],
   "source": [
    "t_vec    = np.arange(0, 401, 50)\n",
    "energy   = -1\n",
    "momentum = np.arccos(1-(energy+2)/2)\n",
    "\n",
    "#实例化\n",
    "wf_withMomentum = onebody_wf(momentum)\n",
    "#初始化H0, H0_withBoundary, Wt\n",
    "wf_withMomentum.init_operator()\n",
    "#初态单体波函数\n",
    "wf_withMomentum.scatteringState()\n",
    "#时间演化\n",
    "wf_withMomentum.evolve(t_vec)"
   ]
  },
  {
   "cell_type": "markdown",
   "metadata": {},
   "source": [
    "## 四、结果绘图\n",
    "\n",
    "### 1. 查看中心区的波函数"
   ]
  },
  {
   "cell_type": "code",
   "execution_count": 4,
   "metadata": {},
   "outputs": [
    {
     "data": {
      "image/png": "[encoded data removed]",
      "text/plain": [
       "<Figure size 432x288 with 1 Axes>"
      ]
     },
     "metadata": {
      "needs_background": "light"
     },
     "output_type": "display_data"
    }
   ],
   "source": [
    "%matplotlib inline\n",
    "# Loop over the timesteps and plot the result.\n",
    "for n_t in range(t_vec.size):\n",
    "    psi_vec = wf_withMomentum.psi[:,n_t]\n",
    "    density_vec = np.abs(psi_vec)**2\n",
    "    # Prefactor and shift for representation purpose.\n",
    "    pos_center_vec = wf_withMomentum.pos_center_vec\n",
    "    plt.plot(180 * density_vec[pos_center_vec] + t_vec[n_t])"
   ]
  },
  {
   "cell_type": "markdown",
   "metadata": {},
   "source": [
    "### 2. 查看全部区域波函数"
   ]
  },
  {
   "cell_type": "code",
   "execution_count": 5,
   "metadata": {},
   "outputs": [
    {
     "data": {
      "image/png": "[encoded data removed]",
      "text/plain": [
       "<Figure size 432x288 with 1 Axes>"
      ]
     },
     "metadata": {
      "needs_background": "light"
     },
     "output_type": "display_data"
    }
   ],
   "source": [
    "%matplotlib inline\n",
    "# Loop over the timesteps and plot the result.\n",
    "for n_t in range(t_vec.size):\n",
    "    psi_vec = wf_withMomentum.psi[:,n_t]\n",
    "    density_vec = np.abs(psi_vec)**2\n",
    "    # Prefactor and shift for representation purpose.\n",
    "    plt.plot(180 * density_vec + t_vec[n_t])"
   ]
  }
 ],
 "metadata": {
  "kernelspec": {
   "display_name": "env-tkwant",
   "language": "python",
   "name": "env-tkwant"
  },
  "language_info": {
   "codemirror_mode": {
    "name": "ipython",
    "version": 3
   },
   "file_extension": ".py",
   "mimetype": "text/x-python",
   "name": "python",
   "nbconvert_exporter": "python",
   "pygments_lexer": "ipython3",
   "version": "3.7.9"
  }
 },
 "nbformat": 4,
 "nbformat_minor": 4
}
