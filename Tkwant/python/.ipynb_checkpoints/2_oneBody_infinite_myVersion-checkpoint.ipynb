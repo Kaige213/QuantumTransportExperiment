{
 "cells": [
  {
   "cell_type": "markdown",
   "metadata": {},
   "source": [
    "# 一维含时薛定谔方程求解"
   ]
  },
  {
   "cell_type": "markdown",
   "metadata": {},
   "source": [
    "核心的数学问题是： 将一个标量的二元微分方程转化为向量的一元一次常微分方程，并利用scipy.integrate.solve_ivp求解。\n",
    "\n",
    "方程：\n",
    "\n",
    "$$\n",
    "  i\\partial_t \\Psi_n = \\sum_m H_{n,m} \\Psi_m\n",
    "$$\n",
    "\n",
    "其中，$\\Psi_n$为第n个格点的波函数。"
   ]
  },
  {
   "cell_type": "markdown",
   "metadata": {},
   "source": [
    "**边界条件：**\n",
    "\n",
    "$$\n",
    "  \\Sigma = (n+1) A x^n\n",
    "$$\n",
    "\n",
    "where: $x = x_{lead} / L_{lead}$， $x_{lead}$为坐标，$L_{lead}$为虚势区间长度\n",
    "\n",
    "实际是在无限深势井中，求解方程：\n",
    "\n",
    "$$\n",
    "  i \\partial_t \\Psi = (H - i\\Sigma) \\Psi\n",
    "$$\n",
    "\n"
   ]
  },
  {
   "cell_type": "code",
   "execution_count": 1,
   "metadata": {},
   "outputs": [],
   "source": [
    "import numpy as np\n",
    "import scipy\n",
    "import matplotlib.pyplot as plt\n",
    "from scipy.integrate import solve_ivp"
   ]
  },
  {
   "cell_type": "markdown",
   "metadata": {},
   "source": [
    "## 一、构建计算区域的点阵"
   ]
  },
  {
   "cell_type": "code",
   "execution_count": 2,
   "metadata": {},
   "outputs": [],
   "source": [
    "# Define spacial and temporal grids.\n",
    "num_lead_cells   = 160    #虚势区间长度\n",
    "num_buffer_cells = 182    #用于缓冲长波的区间长度\n",
    "num_center_cells = 400    #散射区长度\n",
    "num_total_cells  = num_lead_cells*2 + num_buffer_cells*2 + num_center_cells\n",
    "\n",
    "#散射区对应的格点位置\n",
    "pos_center_vec   = np.arange(num_lead_cells + num_buffer_cells, num_total_cells-num_lead_cells-num_buffer_cells,1)\n",
    "\n",
    "xn_vec   = np.arange(num_total_cells)\n",
    "t_vec    = np.arange(0, 1201, 50)"
   ]
  },
  {
   "cell_type": "code",
   "execution_count": 3,
   "metadata": {
    "scrolled": false
   },
   "outputs": [
    {
     "data": {
      "text/plain": [
       "[<matplotlib.lines.Line2D at 0x7f484f564610>]"
      ]
     },
     "execution_count": 3,
     "metadata": {},
     "output_type": "execute_result"
    },
    {
     "data": {
      "image/png": "[encoded data removed]",
      "text/plain": [
       "<Figure size 432x288 with 1 Axes>"
      ]
     },
     "metadata": {
      "needs_background": "light"
     },
     "output_type": "display_data"
    }
   ],
   "source": [
    "# Initial condition.\n",
    "n_psiShift = 100 +  num_lead_cells + num_buffer_cells\n",
    "psi0_vec   = np.exp(- 0.001 * (xn_vec - n_psiShift)**2 + 1j * np.pi/6 * xn_vec) #向右平移了100个格点\n",
    "\n",
    "plt.plot(np.abs(psi0_vec[pos_center_vec]))"
   ]
  },
  {
   "cell_type": "markdown",
   "metadata": {},
   "source": [
    "## 二、构建哈密顿量（包括虚势，边界无限高势磊）"
   ]
  },
  {
   "cell_type": "code",
   "execution_count": 4,
   "metadata": {},
   "outputs": [],
   "source": [
    "sigma_degree   = 6\n",
    "sigma_strength = 37\n",
    "sigma_vec      = -1j*(sigma_degree + 1) *sigma_strength * (np.arange(num_lead_cells)/num_lead_cells)**sigma_degree / num_lead_cells"
   ]
  },
  {
   "cell_type": "code",
   "execution_count": 5,
   "metadata": {},
   "outputs": [],
   "source": [
    "# Hamiltonian matrix.\n",
    "diag_vec    = 2 * np.ones(num_buffer_cells*2 + num_center_cells)\n",
    "diag_vec    = np.concatenate( ((sigma_vec+2*np.ones(sigma_vec.size))[::-1], diag_vec) )\n",
    "diag_vec    = np.concatenate( (diag_vec, sigma_vec+2*np.ones(sigma_vec.size)) )\n",
    "\n",
    "offdiag_vec = - np.ones(len(xn_vec) - 1)\n",
    "H           = scipy.sparse.diags([diag_vec, offdiag_vec, offdiag_vec], [0, 1, -1])"
   ]
  },
  {
   "cell_type": "code",
   "execution_count": 6,
   "metadata": {
    "scrolled": false
   },
   "outputs": [
    {
     "data": {
      "text/plain": [
       "[<matplotlib.lines.Line2D at 0x7f484dcfa210>]"
      ]
     },
     "execution_count": 6,
     "metadata": {},
     "output_type": "execute_result"
    },
    {
     "data": {
      "image/png": "[encoded data removed]",
      "text/plain": [
       "<Figure size 432x288 with 1 Axes>"
      ]
     },
     "metadata": {
      "needs_background": "light"
     },
     "output_type": "display_data"
    }
   ],
   "source": [
    "plt.plot(diag_vec.real)\n",
    "plt.plot(diag_vec.imag)"
   ]
  },
  {
   "cell_type": "code",
   "execution_count": null,
   "metadata": {},
   "outputs": [],
   "source": []
  },
  {
   "cell_type": "code",
   "execution_count": null,
   "metadata": {},
   "outputs": [],
   "source": []
  },
  {
   "cell_type": "code",
   "execution_count": 18,
   "metadata": {},
   "outputs": [],
   "source": [
    "#num_buffer_cells = 182\n",
    "#num_lead_cells   = 160    #虚势区间长度\n",
    "#num_center_cells = 400 \n",
    "\n",
    "buffer_vec = np.zeros(num_buffer_cells*2 + num_center_cells)\n",
    "center_vec = np.zeros(num_center_cells)"
   ]
  },
  {
   "cell_type": "code",
   "execution_count": 39,
   "metadata": {},
   "outputs": [
    {
     "data": {
      "text/plain": [
       "[<matplotlib.lines.Line2D at 0x7f484d0aec90>]"
      ]
     },
     "execution_count": 39,
     "metadata": {},
     "output_type": "execute_result"
    },
    {
     "data": {
      "image/png": "[encoded data removed]",
      "text/plain": [
       "<Figure size 432x288 with 1 Axes>"
      ]
     },
     "metadata": {
      "needs_background": "light"
     },
     "output_type": "display_data"
    }
   ],
   "source": [
    "#plt.plot(np.zeros(diag_vec.size), '.')#, ms='1')\n",
    "plt.plot(diag_vec.imag, lw=5,c='C1')\n",
    "plt.plot(np.arange(buffer_vec.size)+num_lead_cells, buffer_vec, lw=5, c='C0')\n",
    "plt.plot(np.arange(center_vec.size)+num_lead_cells+num_buffer_cells, center_vec, lw=5, c='k')"
   ]
  },
  {
   "cell_type": "code",
   "execution_count": null,
   "metadata": {},
   "outputs": [],
   "source": []
  },
  {
   "cell_type": "code",
   "execution_count": null,
   "metadata": {},
   "outputs": [],
   "source": []
  },
  {
   "cell_type": "code",
   "execution_count": null,
   "metadata": {},
   "outputs": [],
   "source": []
  },
  {
   "cell_type": "markdown",
   "metadata": {},
   "source": [
    "## 三、求解所有时间点的波函数"
   ]
  },
  {
   "cell_type": "code",
   "execution_count": 7,
   "metadata": {},
   "outputs": [],
   "source": [
    "def dfdt_func(t,psi_vec):\n",
    "    return H@psi_vec*-1j"
   ]
  },
  {
   "cell_type": "code",
   "execution_count": 8,
   "metadata": {},
   "outputs": [],
   "source": [
    "# %% Solve differential equation\n",
    "sol = solve_ivp(dfdt_func, [t_vec[0], t_vec[-1]], psi0_vec, t_eval=t_vec) "
   ]
  },
  {
   "cell_type": "markdown",
   "metadata": {},
   "source": [
    "## 四、结果绘图\n",
    "\n",
    "### 1. 中心区的波函数"
   ]
  },
  {
   "cell_type": "code",
   "execution_count": 9,
   "metadata": {
    "scrolled": true
   },
   "outputs": [
    {
     "data": {
      "image/png": "[encoded data removed]",
      "text/plain": [
       "<Figure size 432x288 with 1 Axes>"
      ]
     },
     "metadata": {
      "needs_background": "light"
     },
     "output_type": "display_data"
    }
   ],
   "source": [
    "# Loop over the timesteps and plot the result.\n",
    "for n_t in range(t_vec.size):\n",
    "    time        = t_vec[n_t]\n",
    "    psi_vec     = sol.y[:,n_t]\n",
    "    density_vec = np.real(psi_vec * psi_vec.conjugate())\n",
    "    # Prefactor and shift for representation purpose.\n",
    "    plt.plot(xn_vec[pos_center_vec], 180 * density_vec[pos_center_vec] + time)"
   ]
  },
  {
   "cell_type": "markdown",
   "metadata": {},
   "source": [
    "### 2. 求解的全部区域波函数"
   ]
  },
  {
   "cell_type": "code",
   "execution_count": 10,
   "metadata": {},
   "outputs": [
    {
     "data": {
      "image/png": "[encoded data removed]",
      "text/plain": [
       "<Figure size 432x288 with 1 Axes>"
      ]
     },
     "metadata": {
      "needs_background": "light"
     },
     "output_type": "display_data"
    }
   ],
   "source": [
    "# Loop over the timesteps and plot the result.\n",
    "for n_t in range(t_vec.size):\n",
    "    time        = t_vec[n_t]\n",
    "    psi_vec     = sol.y[:,n_t]\n",
    "    density_vec = np.real(psi_vec * psi_vec.conjugate())\n",
    "    # Prefactor and shift for representation purpose.\n",
    "    plt.plot(xn_vec, 180 * density_vec + time)"
   ]
  },
  {
   "cell_type": "code",
   "execution_count": null,
   "metadata": {},
   "outputs": [],
   "source": []
  },
  {
   "cell_type": "code",
   "execution_count": null,
   "metadata": {},
   "outputs": [],
   "source": []
  }
 ],
 "metadata": {
  "kernelspec": {
   "display_name": "env-tkwant",
   "language": "python",
   "name": "env-tkwant"
  },
  "language_info": {
   "codemirror_mode": {
    "name": "ipython",
    "version": 3
   },
   "file_extension": ".py",
   "mimetype": "text/x-python",
   "name": "python",
   "nbconvert_exporter": "python",
   "pygments_lexer": "ipython3",
   "version": "3.7.9"
  }
 },
 "nbformat": 4,
 "nbformat_minor": 4
}
