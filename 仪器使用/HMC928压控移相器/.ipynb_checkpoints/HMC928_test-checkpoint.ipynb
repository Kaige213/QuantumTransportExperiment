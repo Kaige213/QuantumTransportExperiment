{
 "cells": [
  {
   "cell_type": "code",
   "execution_count": 9,
   "metadata": {},
   "outputs": [],
   "source": [
    "import visa\n",
    "#import traceback\n",
    "import numpy as np\n",
    "import matplotlib.pyplot as plt\n",
    "import zhinst\n",
    "import zhinst.utils\n",
    "from tqdm import tqdm\n",
    "import time"
   ]
  },
  {
   "cell_type": "code",
   "execution_count": 2,
   "metadata": {},
   "outputs": [],
   "source": [
    "class N5244A_instrument:\n",
    "    \n",
    "    def __init__(self, address):\n",
    "        self.address = address\n",
    "        \n",
    "    def connect(self):\n",
    "        try:\n",
    "            self.inst = visa.ResourceManager().open_resource(self.address, read_termination='\\n')\n",
    "            #check connection status\n",
    "            command = \"*IDN?\"\n",
    "            return_str = self.inst.query(command)\n",
    "            if (\"N5244A\" in return_str):return \"No error\"\n",
    "            else: return \"Error:N5244A:Connection\"\n",
    "        except: return \"Error:N5244A:connect\"\n",
    "\n",
    "                \n",
    "    def configure_CW(self, frequence, ifPowerOn, power, ifAverage, averaging_factor, IF_BW):\n",
    "        try:\n",
    "            self.inst = visa.ResourceManager().open_resource(self.address, read_termination='\\n')\n",
    "            #==== default setting ====\n",
    "            self.inst.query(\"INITiate1:CONTinuous OFF;*OPC?\")\n",
    "            self.inst.write(\"SENSe1:SWEep:TRIGger:POINt OFF\" )\n",
    "            #set points\n",
    "            points  = 1\n",
    "            self.inst.write(\"SENSe1:SWEep:POINts \" + str(points))\n",
    "            #==== user setting ====\n",
    "            #set averaging\n",
    "            if (ifAverage == True):\n",
    "                self.inst.write(\"SENS:AVER:STAT ON\")  #set averaging_on\n",
    "                self.inst.write(\"SENS:AVER:MODE POINT\") #set point_averaging mode\n",
    "                self.inst.write(\"SENS:AVER:COUN \"+ str(averaging_factor))\n",
    "            else: self.inst.write(\"SENS:AVER:STAT OFF\")\n",
    "            \n",
    "            #set power\n",
    "            if (ifPowerOn == True):            \n",
    "                self.inst.write(\"OUTPUT ON\")\n",
    "                self.inst.write( \"SOURce:POWer \" + str(power))\n",
    "            else: self.inst.write(\"OUTPUT OFF\")\n",
    "\n",
    "            #set IF BW (Hz)\n",
    "            self.inst.write( \"SENSe1:BANDwidth \" + str(IF_BW))\n",
    "            \n",
    "            #set sweep mode\n",
    "            self.inst.write(\"SENSe:SWEep:TYPE CW\")\n",
    "            #set CW frequence (GHz)\n",
    "            self.inst.write( \"SENSe:FREQuency:CW \" + str(frequence*10**9))\n",
    "            \n",
    "            return \"No error\"\n",
    "        except: return \"Error:N5244A:configure_CW\"\n",
    "\n",
    "    #====================================================\n",
    "    def set_trace(self):\n",
    "        try:\n",
    "            self.inst = visa.ResourceManager().open_resource(self.address, read_termination='\\n')\n",
    "\n",
    "            #deleta all before setting trace\n",
    "            self.inst.write(\"CALCulate:PARameter:DELete:ALL\")\n",
    "            \n",
    "            #-------- set trace --------\n",
    "            #---- set Real(S21) ----\n",
    "            #Creates a measurement but does NOT display it.\n",
    "            self.inst.write( \"CALCulate1:PARameter:DEFine:EXT '1', S12\" )\n",
    "            #Creates a new trace <tnum> and associates (feeds) a measurement <name> to the\n",
    "            #specified window<wnum>. \n",
    "            self.inst.write(\"DISPlay:WINDow1:TRACe1:FEED '1'\")\n",
    "            #Sets the selected measurement. \n",
    "            self.inst.write( \"CALCulate1:PARameter:SELect '1'\" )\n",
    "            #set format\n",
    "            self.inst.write( \"CALCulate1:FORMat REAL\" )\n",
    "            self.inst.write(\"CALCulate1:MARKer:STATe ON\") #set marker\n",
    "            \n",
    "            #---- set Imag(S21) ----\n",
    "            self.inst.write( \"CALCulate1:PARameter:DEFine:EXT '2', S12\" )\n",
    "            self.inst.write( \"DISPlay:WINDow1:TRACe2:FEED '2'\" )\n",
    "            self.inst.write( \"CALCulate1:PARameter:SELect '2'\" )\n",
    "            self.inst.write( \"CALCulate1:FORMat IMAGinary\" )\n",
    "            self.inst.write(\"CALCulate1:MARKer:STATe ON\") #set marker\n",
    "            \n",
    "            #---- set R(S21) ----\n",
    "            self.inst.write(\"CALCulate1:PARameter:DEFine:EXT '3', S12\")\n",
    "            self.inst.write(\"DISPlay:WINDow1:TRACe3:FEED '3'\")\n",
    "            self.inst.write(\"CALCulate1:PARameter:SELect '3'\")\n",
    "            self.inst.write(\"CALCulate1:FORMat MLOGarithmic\")\n",
    "            self.inst.write(\"CALCulate1:MARKer:STATe ON\") #set marker\n",
    "            \n",
    "            #---- set Phase(S21) ----\n",
    "            self.inst.write( \"CALCulate1:PARameter:DEFine:EXT '4', S12\" )\n",
    "            self.inst.write( \"DISPlay:WINDow1:TRACe4:FEED '4'\" )\n",
    "            self.inst.write( \"CALCulate1:PARameter:SELect '4'\" )\n",
    "            self.inst.write( \"CALCulate1:FORMat PHASe\" ) \n",
    "            self.inst.write(\"CALCulate1:MARKer:STATe ON\") #set marker\n",
    "            \n",
    "            #marker properties\n",
    "            self.inst.write(\"DISP:WIND:ANN:MARK:SIZE LARG\") #marker size\n",
    "            self.inst.write(\"CALCulate1:MARKer:COUP ON\")    #marker coupled\n",
    "            self.inst.write(\"CALCulate1:MARKer:DISC ON\")    #marker discrete\n",
    "        \n",
    "            return \"No error\"\n",
    "        except: return \"Error:N5244A:set_trace\"\n",
    "        \n",
    "    def initiate_and_read_data(self):\n",
    "        try:\n",
    "            self.inst = visa.ResourceManager().open_resource(self.address, read_termination='\\n')\n",
    "            #initiate or trigger\n",
    "            self.inst.write(\"INITiate1\")\n",
    "            #wait for completing operation\n",
    "            self.inst.write(\"*OPC?\")\n",
    "            while True:\n",
    "                try: self.inst.read();break\n",
    "                except:pass\n",
    "                \n",
    "            #---- read data ----\n",
    "            #x axis\n",
    "            data_str = self.inst.query(\"CALCulate1:X?\").split(\",\")\n",
    "            X_axis   = list(map(float, data_str) )\n",
    "\n",
    "            #select measurement            \n",
    "            self.inst.write(\"CALCulate1:PARameter:SELect '1'\")\n",
    "            #set format\n",
    "            self.inst.write(\"FORMat ASCII\")\n",
    "            #read data\n",
    "            data_str = self.inst.query(\"CALCulate1:DATA? FDATA\").split(\",\")\n",
    "            S12_real = list(map(float, data_str) )\n",
    "\n",
    "            #select measurement\n",
    "            self.inst.write(\"CALCulate1:PARameter:SELect '2'\")\n",
    "            #set format\n",
    "            self.inst.write(\"FORMat ASCII\")\n",
    "            #read data\n",
    "            data_str = self.inst.query(\"CALCulate1:DATA? FDATA\").split(\",\")\n",
    "            S12_imag = list(map(float, data_str) )\n",
    "\n",
    "            #select measurement\n",
    "            self.inst.write( \"CALCulate1:PARameter:SELect '3'\" )\n",
    "            #set format\n",
    "            self.inst.write( \"FORMat ASCII\" )\n",
    "            #read data\n",
    "            data_str = self.inst.query(\"CALCulate1:DATA? FDATA\").split(\",\")\n",
    "            S12_R = list(map(float, data_str) )\n",
    "\n",
    "            #select measurement\n",
    "            self.inst.write(\"CALCulate1:PARameter:SELect '4'\")\n",
    "            #set format\n",
    "            self.inst.write(\"FORMat ASCII\")\n",
    "            #read data\n",
    "            data_str = self.inst.query(\"CALCulate1:DATA? FDATA\").split(\",\")\n",
    "            S12_phase = list(map(float, data_str) )\n",
    "            \n",
    "            #convert unit if sweepType = LINear frequence\n",
    "            sweepType= self.inst.query(\"SENSe:SWEep:TYPE?\")\n",
    "            if (sweepType == \"LIN\"): X_axis = list(map(lambda freq: freq/10**9, X_axis))#convert Hz to GHz\n",
    "            \n",
    "            return [X_axis   , S12_real   , S12_imag   , S12_R   , S12_phase   , \"No error\"]\n",
    "        except: return [[float(\"NAN\")]]*5+[[\"Error:N5244A:initiate_and_read_data\"]]"
   ]
  },
  {
   "cell_type": "code",
   "execution_count": 39,
   "metadata": {},
   "outputs": [
    {
     "name": "stdout",
     "output_type": "stream",
     "text": [
      "Connection: No error\n",
      "\n",
      "\n",
      "CW: \n",
      "Configure: No error\n",
      "Set_trace: No error\n",
      "Loss  -44.60687 , Phase:  -97.46735\n"
     ]
    }
   ],
   "source": [
    "#=====================================================================\n",
    "if __name__ == \"__main__\":\n",
    "    address = \"GPIB0::5::INSTR\"\n",
    "    #address = \"TCPIP0::127.0.0.1::33566::SOCKET\"\n",
    "    inst    = N5244A_instrument(address)\n",
    "       \n",
    "    #----  check connection ----\n",
    "    error_info = inst.connect()\n",
    "    print(\"Connection:\", error_info)\n",
    "    \n",
    "    #----------------------------------------------------------------------\n",
    "    print();print();print(\"CW: \")\n",
    "    \n",
    "    #---- configure sweepFreuence ----\n",
    "    frequence        = 1     #unit: GHz\n",
    "    ifPowerOn        = True\n",
    "    power            = -10   #unit: dBm\n",
    "    ifAverage        = True\n",
    "    averaging_factor = 11\n",
    "    IF_BW            = 10    #unit: Hz\n",
    "    error_info = inst.configure_CW(frequence, ifPowerOn, power, ifAverage, averaging_factor, IF_BW)\n",
    "    print(\"Configure:\", error_info)\n",
    "\n",
    "    #---- set trace ----\n",
    "    error_info = inst.set_trace()\n",
    "    print(\"Set_trace:\", error_info)\n",
    "    \n",
    "    #---- initiate measurement and read data ----\n",
    "    [X_axis, S12_real, S12_imag, S12_R, S12_phase, error_info] = np.array(inst.initiate_and_read_data())\n",
    "    #print(X_axis)\n",
    "    #print( S12_real, S12_imag, S12_R, S12_phase )\n",
    "    print(\"Loss \", S12_R[0], \", Phase: \", S12_phase[0] )"
   ]
  },
  {
   "cell_type": "markdown",
   "metadata": {},
   "source": [
    "用母对母头代替HMC928，测量线路的损耗：-1.203535 dB"
   ]
  },
  {
   "cell_type": "code",
   "execution_count": 40,
   "metadata": {},
   "outputs": [
    {
     "name": "stdout",
     "output_type": "stream",
     "text": [
      "Discovered device `dev2374`: UHFLI with options .\n",
      "Creating an API session for device `dev2374` on `127.0.0.1`, `8004` with apilevel `6`.\n"
     ]
    }
   ],
   "source": [
    "device_id    = 'dev2374'\n",
    "apilevel     = 6\n",
    "(daq, device, _) = zhinst.utils.create_api_session(device_id, apilevel)\n",
    "\n",
    "daq.setInt('/dev2374/auxouts/0/outputselect', -1)"
   ]
  },
  {
   "cell_type": "code",
   "execution_count": 53,
   "metadata": {},
   "outputs": [
    {
     "name": "stderr",
     "output_type": "stream",
     "text": [
      "100%|███████████████████████████████████████████| 21/21 [00:28<00:00,  1.35s/it]\n"
     ]
    }
   ],
   "source": [
    "Vin_vec   = np.linspace(0,10,21)\n",
    "phase_vec = np.zeros(Vin_vec.size)\n",
    "loss_vec  = np.zeros(Vin_vec.size)\n",
    "\n",
    "for n_Vin in tqdm(range(Vin_vec.size)):\n",
    "    Vin = Vin_vec[n_Vin]\n",
    "    \n",
    "    #set Vin\n",
    "    daq.setDouble('/dev2374/auxouts/0/offset', Vin)\n",
    "    time.sleep(0.2)\n",
    "    #read data\n",
    "    [X_axis, S12_real, S12_imag, S12_R, S12_phase, error_info] = np.array(inst.initiate_and_read_data())\n",
    "    loss_vec[n_Vin] = S12_R[0] - (-1.203535)\n",
    "    phase_vec[n_Vin]= S12_phase[0]"
   ]
  },
  {
   "cell_type": "code",
   "execution_count": 57,
   "metadata": {},
   "outputs": [],
   "source": [
    "#phase_back_vec = phase_vec\n",
    "#phase_vec = phase_back_vec\n",
    "#phase_vec[8:] = phase_vec[8:] + 360"
   ]
  },
  {
   "cell_type": "code",
   "execution_count": 65,
   "metadata": {
    "scrolled": true
   },
   "outputs": [
    {
     "data": {
      "image/png": "[encoded data removed]",
      "text/plain": [
       "<Figure size 864x288 with 2 Axes>"
      ]
     },
     "metadata": {
      "needs_background": "light"
     },
     "output_type": "display_data"
    }
   ],
   "source": [
    "plt.figure(figsize=(12,4))\n",
    "\n",
    "plt.subplot(1,2,1)\n",
    "plt.plot(Vin_vec, phase_vec)\n",
    "plt.xlim([Vin_vec[0],Vin_vec[-1]])\n",
    "plt.ylim([-100, 300])\n",
    "plt.xlabel(r'$V_{in}$', fontsize=14)\n",
    "plt.ylabel('Phase', fontsize=14)\n",
    "plt.yticks(np.linspace(-100,300,5))\n",
    "plt.text(1, 200, r'$f = 1GHz$', fontsize=14)\n",
    "plt.grid()\n",
    "\n",
    "plt.subplot(1,2,2)\n",
    "plt.plot(Vin_vec, loss_vec)\n",
    "plt.xlim([Vin_vec[0],Vin_vec[-1]])\n",
    "plt.ylim([-50, 0])\n",
    "plt.xlabel(r'$V_{in}$', fontsize=14)\n",
    "plt.ylabel('Loss (dB)', fontsize=14)\n",
    "plt.grid()\n",
    "\n",
    "plt.tight_layout()\n",
    "plt.savefig(\"pic_name.png\", format='png', dpi=200)"
   ]
  }
 ],
 "metadata": {
  "kernelspec": {
   "display_name": "Python 3",
   "language": "python",
   "name": "python3"
  },
  "language_info": {
   "codemirror_mode": {
    "name": "ipython",
    "version": 3
   },
   "file_extension": ".py",
   "mimetype": "text/x-python",
   "name": "python",
   "nbconvert_exporter": "python",
   "pygments_lexer": "ipython3",
   "version": "3.8.1"
  }
 },
 "nbformat": 4,
 "nbformat_minor": 2
}
