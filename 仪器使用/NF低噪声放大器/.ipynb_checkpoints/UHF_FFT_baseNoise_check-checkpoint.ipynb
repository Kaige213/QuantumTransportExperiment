{
 "cells": [
  {
   "cell_type": "code",
   "execution_count": 1,
   "metadata": {},
   "outputs": [],
   "source": [
    "from __future__ import print_function\n",
    "import time\n",
    "import numpy as np\n",
    "import zhinst.utils\n",
    "from tqdm import tqdm\n",
    "import matplotlib.pyplot as plt"
   ]
  },
  {
   "cell_type": "code",
   "execution_count": 2,
   "metadata": {},
   "outputs": [
    {
     "name": "stdout",
     "output_type": "stream",
     "text": [
      "Discovered device `dev2374`: UHFLI with options .\n",
      "Creating an API session for device `dev2374` on `127.0.0.1`, `8004` with apilevel `6`.\n"
     ]
    }
   ],
   "source": [
    "device_id    = 'dev2374'\n",
    "scope_length = 2**16\n",
    "scope_time   = 7\n",
    "in_channel   = 0\n",
    "apilevel     = 6\n",
    "(daq, device, _) = zhinst.utils.create_api_session(device_id, apilevel)\n",
    "#zhinst.utils.disable_everything(daq, device)"
   ]
  },
  {
   "cell_type": "code",
   "execution_count": 3,
   "metadata": {},
   "outputs": [],
   "source": [
    "zhinst.utils.sigin_autorange(daq, device, in_channel) #调整输入端的range（ADC前的放大器）\n",
    "\n",
    "#signal intput\n",
    "daq.setInt('/dev2374/sigins/0/ac', 0)\n",
    "daq.setInt('/dev2374/sigins/0/imp50', 1)\n",
    "\n",
    "#==========================================================================\n",
    "# Configure the scope and obtain data with triggering disabled.\n",
    "daq.setInt('/%s/scopes/0/length' % device, scope_length)\n",
    "daq.setInt('/%s/scopes/0/channel' % device, 1)\n",
    "daq.setInt('/%s/scopes/0/channels/%d/bwlimit' % (device, in_channel), 1)\n",
    "daq.setInt('/%s/scopes/0/channels/%d/inputselect' % (device, in_channel), 0)\n",
    "daq.setInt('/%s/scopes/0/single' % device, 1)\n",
    "daq.setInt('/%s/scopes/0/time' % device, scope_time)\n",
    "daq.setInt('/%s/scopes/0/segments/count' % device, 1)\n",
    "\n",
    "\n",
    "#trigger\n",
    "daq.setInt('/%s/scopes/0/trigenable' % device, 0)\n",
    "daq.setDouble('/%s/scopes/0/trigholdoff' % device, 0.050)\n",
    "daq.setInt('/%s/scopes/0/segments/enable' % device, 0)\n",
    "daq.sync()\n",
    "\n",
    "#==========================================================================\n",
    "# Now initialize and configure the Scope Module.\n",
    "scopeModule = daq.scopeModule()\n",
    "scopeModule.set('mode', 1)\n",
    "scopeModule.set('averager/weight', 1) #   weight=1 - don't average.\n",
    "scopeModule.set('historylength', 1)\n",
    "scopeModule.subscribe('/dev2374/scopes/0/wave')"
   ]
  },
  {
   "cell_type": "code",
   "execution_count": 4,
   "metadata": {},
   "outputs": [],
   "source": [
    "def readScope_func():\n",
    "    # Tell the module to be ready to acquire data; reset the module's progress to 0.0.\n",
    "    scopeModule.execute()\n",
    "\n",
    "    # Enable the scope: Now the scope is ready to record data upon receiving triggers.\n",
    "    daq.setInt('/%s/scopes/0/enable' % device, 1)\n",
    "    daq.sync()\n",
    "\n",
    "    start = time.time()\n",
    "    timeout = 5  # [s]\n",
    "    records = 0\n",
    "    # Wait until the Scope Module has received and processed the desired number of records.\n",
    "    while (records < 1):\n",
    "        time.sleep(0.1)\n",
    "        records = scopeModule.getInt(\"records\")\n",
    "        #progress = scopeModule.progress()[0]\n",
    "        if (time.time() - start) > timeout:\n",
    "            print(\"\\nTimeout!\\n\")\n",
    "            break    \n",
    "\n",
    "    # Stop the module; to use it again we need to call execute().\n",
    "    scopeModule.finish()  #在读取数据前停止module，防止继续读取数据\n",
    "\n",
    "    # Read out the scope data from the module.\n",
    "    daq.setInt('/%s/scopes/0/enable' % device, 0)\n",
    "\n",
    "\n",
    "    data_return = scopeModule.read(True)['/dev2374/scopes/0/wave']\n",
    "    voltage_vec = data_return[0][0]['wave'][0]\n",
    "    delta_t     = data_return[0][0]['dt']\n",
    "    t_vec       = delta_t*np.arange(0,len(voltage_vec))\n",
    "    return [t_vec, voltage_vec]"
   ]
  },
  {
   "cell_type": "code",
   "execution_count": 5,
   "metadata": {},
   "outputs": [],
   "source": [
    "def noiseSpectrum_func(t_vec, voltage_vec):\n",
    "    tf = t_vec[-1]-t_vec[0]\n",
    "    freq_vec        = 1/tf*np.arange(1,t_vec.size//2+1)\n",
    "    voltageFreq_vec = np.fft.fft(voltage_vec)[1:(t_vec.size//2+1)]\n",
    "    noiseSpectrum   = np.abs(voltageFreq_vec)**2*tf/t_vec.size**2\n",
    "    return [freq_vec, noiseSpectrum]"
   ]
  },
  {
   "cell_type": "code",
   "execution_count": 6,
   "metadata": {
    "scrolled": true
   },
   "outputs": [
    {
     "name": "stderr",
     "output_type": "stream",
     "text": [
      "100%|████████████████████████████████████████████████████████████████████████████████| 100/100 [00:16<00:00,  6.08it/s]\n"
     ]
    }
   ],
   "source": [
    "noise_vec = np.zeros(scope_length//2)\n",
    "N_exp     = 100\n",
    "\n",
    "for n in tqdm(range(N_exp)):\n",
    "    [t_vec, voltage_vec] = readScope_func()\n",
    "    [freq_vec, noise_temp] = noiseSpectrum_func(t_vec, voltage_vec)\n",
    "    noise_vec = noise_vec + noise_temp / N_exp"
   ]
  },
  {
   "cell_type": "code",
   "execution_count": 8,
   "metadata": {},
   "outputs": [
    {
     "data": {
      "text/plain": [
       "Text(0,0.5,'$\\\\rm Noise \\\\ \\\\ V^2/\\\\sqrt{Hz}$')"
      ]
     },
     "execution_count": 8,
     "metadata": {},
     "output_type": "execute_result"
    },
    {
     "data": {
      "image/png": "[encoded data removed]",
      "text/plain": [
       "<Figure size 432x288 with 1 Axes>"
      ]
     },
     "metadata": {
      "needs_background": "light"
     },
     "output_type": "display_data"
    }
   ],
   "source": [
    "plt.plot(freq_vec/1e6, noise_vec)\n",
    "plt.ylim([0, 1e-16])\n",
    "plt.xlim([0,1])\n",
    "plt.xlabel(\"Frequence (MHz)\", fontsize=13)\n",
    "plt.ylabel(r\"$\\rm Noise \\ \\ V^2/\\sqrt{Hz}$\", fontsize=13)\n",
    "#plt.savefig(\"SA421F5_GS210_Noise.png\", format='png', dpi=200)"
   ]
  },
  {
   "cell_type": "code",
   "execution_count": null,
   "metadata": {},
   "outputs": [],
   "source": []
  }
 ],
 "metadata": {
  "kernelspec": {
   "display_name": "Python 3",
   "language": "python",
   "name": "python3"
  },
  "language_info": {
   "codemirror_mode": {
    "name": "ipython",
    "version": 3
   },
   "file_extension": ".py",
   "mimetype": "text/x-python",
   "name": "python",
   "nbconvert_exporter": "python",
   "pygments_lexer": "ipython3",
   "version": "3.7.0"
  }
 },
 "nbformat": 4,
 "nbformat_minor": 2
}
