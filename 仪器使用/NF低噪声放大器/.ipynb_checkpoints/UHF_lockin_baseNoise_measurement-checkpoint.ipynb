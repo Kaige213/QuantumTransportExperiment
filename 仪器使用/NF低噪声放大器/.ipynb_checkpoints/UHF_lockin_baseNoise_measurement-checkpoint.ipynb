{
 "cells": [
  {
   "cell_type": "markdown",
   "metadata": {},
   "source": [
    "**说明：** \n",
    " - 本程序是在正式测量Shot Noise之前的线路测试，需要保证在无光电流的情况下，本底噪声数量级（交叉关联的实部）小于目标噪声谱的数量级\n",
    " - 本程序只测量两个通道的自关联和互关联噪声，不作仪器设置，所以很多地方需要手动设置\n",
    "\n",
    "**测试步骤：**\n",
    "\n",
    " 1. 用两个BNC接头将UHF的两个信号输入端短路，然后执行下面程序，测量UHF的基础噪声，重点关注互关联的数量级是否远小于自关联；\n",
    " 2. 逐步完善线路，每改变一点，就执行一次下面的测试，保证互关联中没有多余噪声；\n",
    " 3. ...\n",
    " 4. 线路全部搭建完成，然后在光电二极管上加反向电压5V（未导通），LED灯为0V，执行本程序，观察各个噪声是否为最低；\n",
    " 5. LED灯电压增加为4V，使光电二极管产生电流（Shot Noise），在Labone中用scope观察通道1的直流电压（注意关掉AC功能，并调整量程，直流电压大约40mV），执行本程序，观察交叉关联的实部是否有明显增加，且其值 $S_V \\approx e\\bar V R \\approx 1\\times 10^{-18} V^2/Hz$；\n",
    " 6. 经过上面的检查，没有问题，则可以开始正式的Shot Noise测量；"
   ]
  },
  {
   "cell_type": "code",
   "execution_count": 1,
   "metadata": {},
   "outputs": [],
   "source": [
    "from __future__ import print_function\n",
    "import time\n",
    "import numpy as np\n",
    "import zhinst.utils\n",
    "from tqdm import tqdm\n",
    "from scipy import integrate\n",
    "import matplotlib.pyplot as plt"
   ]
  },
  {
   "cell_type": "code",
   "execution_count": 2,
   "metadata": {},
   "outputs": [
    {
     "name": "stdout",
     "output_type": "stream",
     "text": [
      "Discovered device `dev2374`: UHFLI with options .\n",
      "Creating an API session for device `dev2374` on `127.0.0.1`, `8004` with apilevel `6`.\n"
     ]
    },
    {
     "data": {
      "text/plain": [
       "[['/dev2374/aucarts/*/enable', 0],\n",
       " ['/dev2374/aupolars/*/enable', 0],\n",
       " ['/dev2374/dios/*/drive', 0],\n",
       " ['/dev2374/demods/*/enable', 0],\n",
       " ['/dev2374/demods/*/trigger', 0],\n",
       " ['/dev2374/demods/*/sinc', 0],\n",
       " ['/dev2374/demods/*/oscselect', 0],\n",
       " ['/dev2374/demods/*/harmonic', 1],\n",
       " ['/dev2374/demods/*/phaseshift', 0],\n",
       " ['/dev2374/extrefs/*/enable', 0],\n",
       " ['/dev2374/sigins/*/ac', 0],\n",
       " ['/dev2374/sigins/*/imp50', 0],\n",
       " ['/dev2374/sigins/*/diff', 0],\n",
       " ['/dev2374/sigouts/*/on', 0],\n",
       " ['/dev2374/sigouts/*/enables/*', 0],\n",
       " ['/dev2374/sigouts/*/offset', 0.0],\n",
       " ['/dev2374/sigouts/*/imp50', 0],\n",
       " ['/dev2374/scopes/*/enable', 0],\n",
       " ['/dev2374/scopes/*/segments/enable', 0],\n",
       " ['/dev2374/triggers/out/*/drive', 0]]"
      ]
     },
     "execution_count": 2,
     "metadata": {},
     "output_type": "execute_result"
    }
   ],
   "source": [
    "device_id    = 'dev2374'\n",
    "apilevel     = 6\n",
    "(daq, device, _) = zhinst.utils.create_api_session(device_id, apilevel)\n",
    "zhinst.utils.disable_everything(daq, device)"
   ]
  },
  {
   "cell_type": "code",
   "execution_count": 3,
   "metadata": {},
   "outputs": [],
   "source": [
    "def readBiChannelXY_func(daq, timeLength):\n",
    "    # Create a base configuration: Disable all available outputs, awgs, demods, scopes,...\n",
    "    #zhinst.utils.disable_everything(daq, device)\n",
    "\n",
    "    # Unsubscribe any streaming data.\n",
    "    daq.unsubscribe('*')\n",
    "\n",
    "    # Wait for the demodulator filter to settle.\n",
    "    time_constant = daq.getDouble('/dev2374/demods/0/timeconstant')\n",
    "    time.sleep(10*time_constant)\n",
    "\n",
    "    # Perform a global synchronisation between the device and the data server:\n",
    "    # Ensure that 1. the settings have taken effect on the device before issuing\n",
    "    # the poll() command and 2. clear the API's data buffers. Note: the sync()\n",
    "    # must be issued after waiting for the demodulator filter to settle above.\n",
    "    daq.sync()\n",
    "    clockbase = float(daq.getInt('/dev2374/clockbase'))\n",
    "\n",
    "\n",
    "    # Poll the subscribed data from the data server. Poll will block and record\n",
    "    # for poll_length seconds.\n",
    "    poll_length = 0.1  # [s]\n",
    "    poll_timeout = 500  # [ms]\n",
    "    poll_flags = 0\n",
    "    poll_return_flat_dict = True\n",
    "\n",
    "    # Subscribe to the demodulator's sample node path.\n",
    "    path1 = '/dev2374/demods/0/sample'\n",
    "    daq.subscribe(path1) #UHF的DEMOD0从这里开始记录数据 \n",
    "    path2 = '/dev2374/demods/4/sample'\n",
    "    daq.subscribe(path2) #UHF的DEMOD4从这里开始记录数据\n",
    "    \n",
    "    time.sleep(timeLength)\n",
    "    #poll data\n",
    "    sample = daq.poll(poll_length, poll_timeout, poll_flags, poll_return_flat_dict)\n",
    "    # Unsubscribe from all paths.\n",
    "    daq.unsubscribe('*')\n",
    "\n",
    "    #data\n",
    "    X1_vec  = sample[path1]['x']*np.sqrt(2) \n",
    "    Y1_vec  = sample[path1]['y']*np.sqrt(2)\n",
    "    timestamp1 = sample[path1]['timestamp']\n",
    "    \n",
    "    X2_vec  = sample[path2]['x']*np.sqrt(2) \n",
    "    Y2_vec  = sample[path2]['y']*np.sqrt(2)\n",
    "    timestamp2 = sample[path2]['timestamp']\n",
    "\n",
    "    #--------------------------------------------------------------\n",
    "    #只保留时间同步的数据\n",
    "    #使数据开头的timestamp齐平\n",
    "    if (timestamp1[0] > timestamp2[0]):\n",
    "        for n in range(len(timestamp2)):\n",
    "            if (timestamp2[n] == timestamp1[0]):break\n",
    "        X2_vec     = X2_vec[n:]\n",
    "        Y2_vec     = Y2_vec[n:]\n",
    "        timestamp2 = timestamp2[n:]\n",
    "    if (timestamp1[0] < timestamp2[0]):\n",
    "        for n in range(len(timestamp1)):\n",
    "            if (timestamp1[n] == timestamp2[0]):break\n",
    "        X1_vec     = X1_vec[n:]\n",
    "        Y1_vec     = Y1_vec[n:]\n",
    "        timestamp1 = timestamp1[n:]\n",
    "\n",
    "    #使数据结尾的timestamp齐平\n",
    "    if (timestamp1[-1] > timestamp2[-1]):\n",
    "        for n in range(-1, -len(timestamp1),-1):\n",
    "            if (timestamp1[n] == timestamp2[-1]):break\n",
    "        X1_vec     = X1_vec[:(n+1)]\n",
    "        Y1_vec     = Y1_vec[:(n+1)]\n",
    "        timestamp1 = timestamp1[:(n+1)]\n",
    "    if (timestamp1[-1] < timestamp2[-1]):\n",
    "        for n in range(-1, -len(timestamp2),-1):\n",
    "            if (timestamp2[n] == timestamp1[-1]):break\n",
    "        X2_vec     = X2_vec[:(n+1)]\n",
    "        Y2_vec     = Y2_vec[:(n+1)]\n",
    "        timestamp2 = timestamp2[:(n+1)]\n",
    "    if (np.sum(np.abs(timestamp2 - timestamp1))>1e-10): print(\"Error!\")\n",
    "\n",
    "    t_vec  = (timestamp1 - timestamp1[0])/clockbase\n",
    "    return [t_vec, X1_vec, Y1_vec, X2_vec, Y2_vec]"
   ]
  },
  {
   "cell_type": "code",
   "execution_count": 4,
   "metadata": {},
   "outputs": [],
   "source": [
    "def lowPassFilter_GainSquare_func(daq):\n",
    "    order = daq.getInt('/dev2374/demods/0/order')\n",
    "    tc    = daq.getDouble('/dev2374/demods/0/timeconstant')\n",
    "    int_f = lambda freq: np.abs( 1/(1+1j*2*np.pi*freq*tc)**order )**2\n",
    "    return 2*integrate.quad(int_f, 0, (1/tc/2/np.pi)*100)[0] #这里包括负频率，所以有系数2"
   ]
  },
  {
   "cell_type": "markdown",
   "metadata": {},
   "source": [
    "## 设置噪声谱的频率并同步两通道的参照信号"
   ]
  },
  {
   "cell_type": "code",
   "execution_count": 5,
   "metadata": {},
   "outputs": [],
   "source": [
    "freq  = 200e3\n",
    "daq.setDouble('/dev2374/oscs/1/freq', freq)\n",
    "#Wait for the osc to settle\n",
    "time.sleep(1)\n",
    "\n",
    "ref_synchronize_setting = [\n",
    "    ['/dev2374/extrefs/0/enable', 1],\n",
    "    ['/dev2374/demods/3/adcselect', 11]]\n",
    "daq.set(ref_synchronize_setting)\n",
    "time.sleep(1)"
   ]
  },
  {
   "cell_type": "markdown",
   "metadata": {},
   "source": [
    "## 设置光电二极管的电压"
   ]
  },
  {
   "cell_type": "code",
   "execution_count": 6,
   "metadata": {},
   "outputs": [],
   "source": [
    "#设置UHF的两个AUXOUT功能为电压源\n",
    "daq.setInt('/dev2374/auxouts/0/outputselect', -1)\n",
    "daq.setInt('/dev2374/auxouts/1/outputselect', -1)\n",
    "#光电二极管电压\n",
    "daq.setDouble('/dev2374/auxouts/0/offset', 5)\n",
    "daq.setDouble('/dev2374/auxouts/1/offset', 0)"
   ]
  },
  {
   "cell_type": "markdown",
   "metadata": {},
   "source": [
    "## 通道、滤波器、数据传输"
   ]
  },
  {
   "cell_type": "code",
   "execution_count": 7,
   "metadata": {},
   "outputs": [],
   "source": [
    "channel1_setting = [\n",
    "    ['/dev2374/sigins/0/imp50', 1],\n",
    "    ['/dev2374/sigins/0/ac', 0],\n",
    "    ['/dev2374/sigins/0/autorange', 1],\n",
    "    ['/dev2374/demods/0/timeconstant',13.84e-6],  #low pass filter\n",
    "    ['/dev2374/demods/0/order', 4],\n",
    "    ['/dev2374/demods/0/enable', 1], #data transfer\n",
    "    ['/dev2374/demods/0/rate', 100e3]]\n",
    "channel2_setting = [\n",
    "    ['/dev2374/sigins/1/imp50', 1],\n",
    "    ['/dev2374/sigins/1/ac', 0],\n",
    "    ['/dev2374/sigins/1/autorange', 1],\n",
    "    ['/dev2374/demods/4/timeconstant', 13.84e-6],\n",
    "    ['/dev2374/demods/4/order', 4],\n",
    "    ['/dev2374/demods/4/enable', 1],\n",
    "    ['/dev2374/demods/4/rate', 100e3]]\n",
    "\n",
    "daq.set(channel1_setting)\n",
    "time.sleep(5)\n",
    "daq.set(channel2_setting)\n",
    "time.sleep(5)"
   ]
  },
  {
   "cell_type": "code",
   "execution_count": 22,
   "metadata": {},
   "outputs": [],
   "source": [
    "#XY from lockin-amplifer\n",
    "tf   = 10\n",
    "[t_vec, X1_vec, Y1_vec, X2_vec, Y2_vec] = readBiChannelXY_func(daq, tf)\n",
    "Gain_square   = lowPassFilter_GainSquare_func(daq)\n",
    "#get noise\n",
    "voltage1_auto_noise = np.sum(X1_vec**2 + Y1_vec**2)/t_vec.size/4/Gain_square\n",
    "voltage2_auto_noise = np.sum(X2_vec**2 + Y2_vec**2)/t_vec.size/4/Gain_square\n",
    "voltage_cross_noise = np.sum( (1j*X1_vec + Y1_vec)*(1j*X2_vec - Y2_vec))/t_vec.size/4/Gain_square"
   ]
  },
  {
   "cell_type": "code",
   "execution_count": 23,
   "metadata": {},
   "outputs": [
    {
     "name": "stdout",
     "output_type": "stream",
     "text": [
      "1   : 2.80e-14\n",
      "2   : 1.23e-14\n",
      "Real: -8.35e-17\n",
      "Imag: -5.32e-17\n"
     ]
    }
   ],
   "source": [
    "print(\"1   : %1.2e\"%voltage1_auto_noise)\n",
    "print(\"2   : %1.2e\"%voltage2_auto_noise)\n",
    "print(\"Real: %1.2e\"% (voltage_cross_noise.real))\n",
    "print(\"Imag: %1.2e\"%voltage_cross_noise.imag)"
   ]
  },
  {
   "cell_type": "code",
   "execution_count": 24,
   "metadata": {},
   "outputs": [
    {
     "name": "stdout",
     "output_type": "stream",
     "text": [
      "Target:  1.2815999999999998e-14\n"
     ]
    }
   ],
   "source": [
    "print(\"Target: \", 10e-3*1.602*1e-19*2e2*200**2)"
   ]
  },
  {
   "cell_type": "markdown",
   "metadata": {},
   "source": [
    "## Todo\n",
    "\n",
    " - 杜邦线在兆赫兹频段的传输？"
   ]
  },
  {
   "cell_type": "markdown",
   "metadata": {},
   "source": [
    "## Note\n",
    "\n",
    " - 一开始为了增大信号，使用10k欧姆的电阻，测量基础噪声时，发现噪声谱不平滑，存在很多峰刺，找不到原因。后来使用1k欧姆，噪声谱平滑一些，但仍然存在峰刺，后来使用200欧姆，峰刺变少，重点时噪声谱更加稳定（包括关联噪声）；\n",
    " \n",
    " - 在做锁相交叉关联测量噪声时，选择不同的滤波器带宽以及数据传输速度似乎对基础噪声（即两个采集卡之间的关联）有影响。例如，用BNC接头将UHF的两个信号输入端短路，测量关联噪声，选择滤波器带宽1kHz，5kHz，10kHz，数据传输速度100k，200k等，测量结果似乎有明显区别。在后面的正式实验中，再看看需不需要仔细查看这方面的问题。"
   ]
  },
  {
   "cell_type": "code",
   "execution_count": null,
   "metadata": {},
   "outputs": [],
   "source": []
  }
 ],
 "metadata": {
  "kernelspec": {
   "display_name": "Python 3",
   "language": "python",
   "name": "python3"
  },
  "language_info": {
   "codemirror_mode": {
    "name": "ipython",
    "version": 3
   },
   "file_extension": ".py",
   "mimetype": "text/x-python",
   "name": "python",
   "nbconvert_exporter": "python",
   "pygments_lexer": "ipython3",
   "version": "3.7.0"
  }
 },
 "nbformat": 4,
 "nbformat_minor": 2
}
