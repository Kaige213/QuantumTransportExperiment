{
 "cells": [
  {
   "cell_type": "markdown",
   "metadata": {},
   "source": [
    "Note： \n",
    " - 本实验使用电阻为200欧姆，光电二极管4个，led灯2个\n",
    " - 为了方便，本实验中统一设置量程：测量直流电压时，100mV；测噪声时，10mV"
   ]
  },
  {
   "cell_type": "markdown",
   "metadata": {},
   "source": [
    "**四次测量结果：**\n",
    "\n",
    " - Electron Charge: 1.567e-19 C，Relative Error: 2.20%\n",
    " - Electron Charge: 1.589e-19 C，Relative Error: 0.81%\n",
    " - Electron Charge: 1.569e-19 C，Relative Error: 2.07%\n",
    " - Electron Charge: 1.590e-19 C，Relative Error: 0.75%\n",
    " \n",
    "从测量结果来看，精度不错，都偏小，说明存在系统误差。由于本实验只是为了摸索锁相+交叉关联测量技术，所以就不再花时间去探究系统误差的原因。"
   ]
  },
  {
   "cell_type": "code",
   "execution_count": 1,
   "metadata": {},
   "outputs": [],
   "source": [
    "from __future__ import print_function\n",
    "import time\n",
    "import numpy as np\n",
    "import zhinst.utils\n",
    "from tqdm import tqdm\n",
    "from scipy import integrate\n",
    "import matplotlib.pyplot as plt"
   ]
  },
  {
   "cell_type": "code",
   "execution_count": 2,
   "metadata": {},
   "outputs": [
    {
     "name": "stdout",
     "output_type": "stream",
     "text": [
      "C:\\Users\\LAB\\Anaconda3\\lib\\site-packages\\zhinst\\__init__.py\n"
     ]
    }
   ],
   "source": [
    "import zhinst\n",
    "print(zhinst.__file__)"
   ]
  },
  {
   "cell_type": "code",
   "execution_count": 3,
   "metadata": {},
   "outputs": [
    {
     "name": "stdout",
     "output_type": "stream",
     "text": [
      "Discovered device `dev2374`: UHFLI with options .\n",
      "Creating an API session for device `dev2374` on `127.0.0.1`, `8004` with apilevel `6`.\n"
     ]
    },
    {
     "data": {
      "text/plain": [
       "[['/dev2374/aucarts/*/enable', 0],\n",
       " ['/dev2374/aupolars/*/enable', 0],\n",
       " ['/dev2374/dios/*/drive', 0],\n",
       " ['/dev2374/demods/*/enable', 0],\n",
       " ['/dev2374/demods/*/trigger', 0],\n",
       " ['/dev2374/demods/*/sinc', 0],\n",
       " ['/dev2374/demods/*/oscselect', 0],\n",
       " ['/dev2374/demods/*/harmonic', 1],\n",
       " ['/dev2374/demods/*/phaseshift', 0],\n",
       " ['/dev2374/extrefs/*/enable', 0],\n",
       " ['/dev2374/sigins/*/ac', 0],\n",
       " ['/dev2374/sigins/*/imp50', 0],\n",
       " ['/dev2374/sigins/*/diff', 0],\n",
       " ['/dev2374/sigouts/*/on', 0],\n",
       " ['/dev2374/sigouts/*/enables/*', 0],\n",
       " ['/dev2374/sigouts/*/offset', 0.0],\n",
       " ['/dev2374/sigouts/*/imp50', 0],\n",
       " ['/dev2374/scopes/*/enable', 0],\n",
       " ['/dev2374/scopes/*/segments/enable', 0],\n",
       " ['/dev2374/triggers/out/*/drive', 0]]"
      ]
     },
     "execution_count": 3,
     "metadata": {},
     "output_type": "execute_result"
    }
   ],
   "source": [
    "device_id    = 'dev2374'\n",
    "apilevel     = 6\n",
    "(daq, device, _) = zhinst.utils.create_api_session(device_id, apilevel)\n",
    "zhinst.utils.disable_everything(daq, device)"
   ]
  },
  {
   "cell_type": "markdown",
   "metadata": {},
   "source": [
    "## Scope Part"
   ]
  },
  {
   "cell_type": "code",
   "execution_count": 4,
   "metadata": {},
   "outputs": [],
   "source": [
    "scope_length = 2**12\n",
    "scope_time   = 14\n",
    "in_channel   = 0\n",
    "#==========================================================================\n",
    "# Configure the scope and obtain data with triggering disabled.\n",
    "daq.setInt('/%s/scopes/0/length' % device, scope_length)\n",
    "daq.setInt('/%s/scopes/0/channel' % device, 1)\n",
    "daq.setInt('/%s/scopes/0/channels/%d/bwlimit' % (device, in_channel), 1)\n",
    "daq.setInt('/%s/scopes/0/channels/%d/inputselect' % (device, in_channel), 0)\n",
    "daq.setInt('/%s/scopes/0/single' % device, 1)\n",
    "daq.setInt('/%s/scopes/0/time' % device, scope_time)\n",
    "daq.setInt('/%s/scopes/0/segments/count' % device, 1)\n",
    "\n",
    "\n",
    "#trigger\n",
    "daq.setInt('/%s/scopes/0/trigenable' % device, 0)\n",
    "daq.setDouble('/%s/scopes/0/trigholdoff' % device, 0.050)\n",
    "daq.setInt('/%s/scopes/0/segments/enable' % device, 0)\n",
    "daq.sync()\n",
    "\n",
    "#==========================================================================\n",
    "# Now initialize and configure the Scope Module.\n",
    "scopeModule = daq.scopeModule()\n",
    "scopeModule.set('mode', 1)\n",
    "scopeModule.set('averager/weight', 1) #   weight=1 - don't average.\n",
    "scopeModule.set('historylength', 1)\n",
    "scopeModule.subscribe('/dev2374/scopes/0/wave')"
   ]
  },
  {
   "cell_type": "code",
   "execution_count": 5,
   "metadata": {},
   "outputs": [],
   "source": [
    "def readScope_func():\n",
    "    # Tell the module to be ready to acquire data; reset the module's progress to 0.0.\n",
    "    #zhinst.utils.sigin_autorange(daq, device, in_channel) #调整输入端的range（ADC前的放大器）\n",
    "    #并关闭signal 1的AC功能，调整量程\n",
    "    channel1_setting = [['/dev2374/sigins/0/imp50', 0],\n",
    "                        ['/dev2374/sigins/0/ac', 0],\n",
    "                        ['/dev2374/sigins/0/range', 0.1]]\n",
    "    daq.set(channel1_setting)\n",
    "    time.sleep(0.5)\n",
    "    \n",
    "    scopeModule.execute()\n",
    "\n",
    "    # Enable the scope: Now the scope is ready to record data upon receiving triggers.\n",
    "    daq.setInt('/%s/scopes/0/enable' % device, 1)\n",
    "    daq.sync()\n",
    "\n",
    "    start = time.time()\n",
    "    timeout = 10  # [s]\n",
    "    records = 0\n",
    "    # Wait until the Scope Module has received and processed the desired number of records.\n",
    "    while (records < 1):\n",
    "        time.sleep(0.1)\n",
    "        records = scopeModule.getInt(\"records\")\n",
    "        #progress = scopeModule.progress()[0]\n",
    "        if (time.time() - start) > timeout:\n",
    "            print(\"\\nTimeout!\\n\")\n",
    "            break    \n",
    "\n",
    "    # Stop the module; to use it again we need to call execute().\n",
    "    scopeModule.finish()  #在读取数据前停止module，防止继续读取数据\n",
    "\n",
    "    # Read out the scope data from the module.\n",
    "    daq.setInt('/%s/scopes/0/enable' % device, 0)\n",
    "\n",
    "\n",
    "    data_return = scopeModule.read(True)['/dev2374/scopes/0/wave']\n",
    "    voltage_vec = data_return[0][0]['wave'][0]\n",
    "    delta_t     = data_return[0][0]['dt']\n",
    "    t_vec       = delta_t*np.arange(0,len(voltage_vec))\n",
    "    return [t_vec, voltage_vec]"
   ]
  },
  {
   "cell_type": "markdown",
   "metadata": {},
   "source": [
    "## Lockin XY"
   ]
  },
  {
   "cell_type": "code",
   "execution_count": 6,
   "metadata": {},
   "outputs": [],
   "source": [
    "#通道2不用测直流，所以只需要设置1次\n",
    "channel2_setting = [['/dev2374/sigins/1/imp50', 0],\n",
    "                    ['/dev2374/sigins/1/ac', 1],\n",
    "                    ['/dev2374/sigins/1/range', 0.01]]\n",
    "daq.set(channel2_setting)\n",
    "time.sleep(5)\n",
    "\n",
    "def readBiChannelXY_func(daq, timeLength):\n",
    "    #关闭50欧姆，打开AC功能，设置量程始终为10mV\n",
    "    channel1_setting = [['/dev2374/sigins/0/imp50', 0],\n",
    "                        ['/dev2374/sigins/0/ac', 1],\n",
    "                        ['/dev2374/sigins/0/range', 0.01]]\n",
    "    daq.set(channel1_setting)\n",
    "    time.sleep(1)\n",
    "\n",
    "    # Unsubscribe any streaming data.\n",
    "    daq.unsubscribe('*')\n",
    "\n",
    "    # Wait for the demodulator filter to settle.\n",
    "    time_constant = daq.getDouble('/dev2374/demods/0/timeconstant')\n",
    "    time.sleep(10*time_constant)\n",
    "\n",
    "    # Perform a global synchronisation between the device and the data server:\n",
    "    # Ensure that 1. the settings have taken effect on the device before issuing\n",
    "    # the poll() command and 2. clear the API's data buffers. Note: the sync()\n",
    "    # must be issued after waiting for the demodulator filter to settle above.\n",
    "    daq.sync()\n",
    "    clockbase = float(daq.getInt('/dev2374/clockbase'))\n",
    "\n",
    "    # Poll the subscribed data from the data server. Poll will block and record\n",
    "    # for poll_length seconds.\n",
    "    poll_length = 0.1  # [s]\n",
    "    poll_timeout = 500  # [ms]\n",
    "    poll_flags = 0\n",
    "    poll_return_flat_dict = True\n",
    "\n",
    "    # Subscribe to the demodulator's sample node path.\n",
    "    path1 = '/dev2374/demods/0/sample'\n",
    "    daq.subscribe(path1) #UHF的DEMOD0从这里开始记录数据 \n",
    "    path2 = '/dev2374/demods/4/sample'\n",
    "    daq.subscribe(path2) #UHF的DEMOD4从这里开始记录数据\n",
    "    \n",
    "    time.sleep(timeLength)\n",
    "    #poll data\n",
    "    sample = daq.poll(poll_length, poll_timeout, poll_flags, poll_return_flat_dict)\n",
    "    # Unsubscribe from all paths.\n",
    "    daq.unsubscribe('*')\n",
    "\n",
    "    #data\n",
    "    X1_vec  = sample[path1]['x']*np.sqrt(2) \n",
    "    Y1_vec  = sample[path1]['y']*np.sqrt(2)\n",
    "    timestamp1 = sample[path1]['timestamp']\n",
    "    \n",
    "    X2_vec  = sample[path2]['x']*np.sqrt(2) \n",
    "    Y2_vec  = sample[path2]['y']*np.sqrt(2)\n",
    "    timestamp2 = sample[path2]['timestamp']\n",
    "\n",
    "    #--------------------------------------------------------------\n",
    "    #只保留时间同步的数据\n",
    "    #使数据开头的timestamp齐平\n",
    "    if (timestamp1[0] > timestamp2[0]):\n",
    "        for n in range(len(timestamp2)):\n",
    "            if (timestamp2[n] == timestamp1[0]):break\n",
    "        X2_vec     = X2_vec[n:]\n",
    "        Y2_vec     = Y2_vec[n:]\n",
    "        timestamp2 = timestamp2[n:]\n",
    "    if (timestamp1[0] < timestamp2[0]):\n",
    "        for n in range(len(timestamp1)):\n",
    "            if (timestamp1[n] == timestamp2[0]):break\n",
    "        X1_vec     = X1_vec[n:]\n",
    "        Y1_vec     = Y1_vec[n:]\n",
    "        timestamp1 = timestamp1[n:]\n",
    "\n",
    "    #使数据结尾的timestamp齐平\n",
    "    if (timestamp1[-1] > timestamp2[-1]):\n",
    "        for n in range(-1, -len(timestamp1),-1):\n",
    "            if (timestamp1[n] == timestamp2[-1]):break\n",
    "        X1_vec     = X1_vec[:(n+1)]\n",
    "        Y1_vec     = Y1_vec[:(n+1)]\n",
    "        timestamp1 = timestamp1[:(n+1)]\n",
    "    if (timestamp1[-1] < timestamp2[-1]):\n",
    "        for n in range(-1, -len(timestamp2),-1):\n",
    "            if (timestamp2[n] == timestamp1[-1]):break\n",
    "        X2_vec     = X2_vec[:(n+1)]\n",
    "        Y2_vec     = Y2_vec[:(n+1)]\n",
    "        timestamp2 = timestamp2[:(n+1)]\n",
    "    if (np.sum(np.abs(timestamp2 - timestamp1))>1e-10): print(\"Error!\")\n",
    "\n",
    "    t_vec  = (timestamp1 - timestamp1[0])/clockbase\n",
    "    return [t_vec, X1_vec, Y1_vec, X2_vec, Y2_vec]"
   ]
  },
  {
   "cell_type": "code",
   "execution_count": 7,
   "metadata": {},
   "outputs": [
    {
     "data": {
      "text/plain": [
       "11285.82986527911"
      ]
     },
     "execution_count": 7,
     "metadata": {},
     "output_type": "execute_result"
    }
   ],
   "source": [
    "def lowPassFilter_GainSquare_func(daq):\n",
    "    order = daq.getInt('/dev2374/demods/0/order')\n",
    "    tc    = daq.getDouble('/dev2374/demods/0/timeconstant')\n",
    "    int_f = lambda freq: np.abs( 1/(1+1j*2*np.pi*freq*tc)**order )**2\n",
    "    return 2*integrate.quad(int_f, 0, (1/tc/2/np.pi)*100)[0]\n",
    "lowPassFilter_GainSquare_func(daq)"
   ]
  },
  {
   "cell_type": "markdown",
   "metadata": {},
   "source": [
    "## 滤波器、数据传输"
   ]
  },
  {
   "cell_type": "code",
   "execution_count": 8,
   "metadata": {},
   "outputs": [],
   "source": [
    "channel1_setting = [\n",
    "    ['/dev2374/demods/0/timeconstant',13.84e-6],  #low pass filter\n",
    "    ['/dev2374/demods/0/order', 4],\n",
    "    ['/dev2374/demods/0/enable', 1], #data transfer\n",
    "    ['/dev2374/demods/0/rate', 100e3]] #2kHz\n",
    "channel2_setting = [\n",
    "    ['/dev2374/demods/4/timeconstant',13.84e-6],\n",
    "    ['/dev2374/demods/4/order', 4],\n",
    "    ['/dev2374/demods/4/enable', 1],\n",
    "    ['/dev2374/demods/4/rate', 100e3]]\n",
    "\n",
    "daq.set(channel1_setting)\n",
    "time.sleep(1)\n",
    "daq.set(channel2_setting)\n",
    "time.sleep(1)"
   ]
  },
  {
   "cell_type": "markdown",
   "metadata": {},
   "source": [
    "## 待测噪声谱的频率（并同步两通道的参照信号）"
   ]
  },
  {
   "cell_type": "code",
   "execution_count": 9,
   "metadata": {},
   "outputs": [],
   "source": [
    "freq_noise    = 300e3\n",
    "daq.setDouble('/dev2374/oscs/1/freq', freq_noise)\n",
    "\n",
    "#让通道1中的参照信号与其同步\n",
    "ref_synchronize_setting = [ ['/dev2374/extrefs/0/enable', 1], \n",
    "                           ['/dev2374/demods/3/adcselect', 11]] #11表示选择通道2的参照信号\n",
    "daq.set(ref_synchronize_setting)\n",
    "time.sleep(1)"
   ]
  },
  {
   "cell_type": "markdown",
   "metadata": {},
   "source": [
    "## 设置光电二极管的电压"
   ]
  },
  {
   "cell_type": "code",
   "execution_count": 10,
   "metadata": {},
   "outputs": [],
   "source": [
    "#设置UHF的两个AUXOUT功能为电压源\n",
    "daq.setInt('/dev2374/auxouts/0/outputselect', -1)\n",
    "daq.setInt('/dev2374/auxouts/1/outputselect', -1)\n",
    "#光电二极管电压\n",
    "daq.setDouble('/dev2374/auxouts/0/offset', 5)"
   ]
  },
  {
   "cell_type": "markdown",
   "metadata": {},
   "source": [
    "## 开始扫描led电压"
   ]
  },
  {
   "cell_type": "code",
   "execution_count": 11,
   "metadata": {
    "scrolled": true
   },
   "outputs": [
    {
     "name": "stderr",
     "output_type": "stream",
     "text": [
      "100%|██████████████████████████████████████████████████████████████████████████████████| 21/21 [04:14<00:00, 12.12s/it]\n"
     ]
    }
   ],
   "source": [
    "V_led_vec     = np.linspace(2.5, 5, 21)\n",
    "Vavg_vec      = np.zeros(V_led_vec.size)\n",
    "Sv1_auto_vec  = np.zeros(V_led_vec.size)\n",
    "Sv2_auto_vec  = np.zeros(V_led_vec.size)\n",
    "Sv_cross_vec  = np.zeros(V_led_vec.size, dtype=complex)\n",
    "\n",
    "for n_led in tqdm(range(V_led_vec.size)):   \n",
    "    #设置led电压\n",
    "    daq.setDouble('/dev2374/auxouts/1/offset', V_led_vec[n_led])\n",
    "    time.sleep(0.1)\n",
    "    \n",
    "    #----------------------------------------------------------------------\n",
    "    #测量直流电压\n",
    "    [_, voltage_vec] = readScope_func()\n",
    "    Vavg_vec[n_led]  = np.mean(voltage_vec)\n",
    "\n",
    "    #----------------------------------------------------------------------\n",
    "    #测量噪声    \n",
    "    #XY from lockin-amplifer\n",
    "    tf   = 10\n",
    "    [t_vec, X1_vec, Y1_vec, X2_vec, Y2_vec] = readBiChannelXY_func(daq, tf)\n",
    "    Gain_square   = lowPassFilter_GainSquare_func(daq)\n",
    "    #calculate noise\n",
    "    voltage1_auto_noise = np.sum(X1_vec**2 + Y1_vec**2)/t_vec.size/4/Gain_square\n",
    "    voltage2_auto_noise = np.sum(X2_vec**2 + Y2_vec**2)/t_vec.size/4/Gain_square\n",
    "    voltage_cross_noise = np.sum( (1j*X1_vec + Y1_vec)*(1j*X2_vec - Y2_vec))/t_vec.size/4/Gain_square\n",
    "    #store data\n",
    "    Sv1_auto_vec[n_led] = voltage1_auto_noise \n",
    "    Sv2_auto_vec[n_led] = voltage2_auto_noise \n",
    "    Sv_cross_vec[n_led] = voltage_cross_noise"
   ]
  },
  {
   "cell_type": "markdown",
   "metadata": {},
   "source": [
    "## 光电流与LED电压的关系"
   ]
  },
  {
   "cell_type": "code",
   "execution_count": 12,
   "metadata": {
    "scrolled": true
   },
   "outputs": [
    {
     "data": {
      "image/png": "[encoded data removed]",
      "text/plain": [
       "<Figure size 432x288 with 1 Axes>"
      ]
     },
     "metadata": {
      "needs_background": "light"
     },
     "output_type": "display_data"
    }
   ],
   "source": [
    "R = 200\n",
    "plt.plot(V_led_vec,  Vavg_vec/R*1e3, label='LED')\n",
    "plt.xlabel('LED Voltage (V)', fontsize=13)\n",
    "plt.ylabel('Photo-current (mA)', fontsize=13)\n",
    "plt.autoscale(enable=True, tight=True)\n",
    "#plt.ylim([0, 0.5])"
   ]
  },
  {
   "cell_type": "markdown",
   "metadata": {},
   "source": [
    "## 拟合噪声与电流 $S_I = eI$，得到电荷值"
   ]
  },
  {
   "cell_type": "code",
   "execution_count": 13,
   "metadata": {},
   "outputs": [
    {
     "name": "stdout",
     "output_type": "stream",
     "text": [
      "Electron Charge: 1.508e-19 C\n"
     ]
    }
   ],
   "source": [
    "R         = 2e2\n",
    "Z         = np.polyfit(Vavg_vec/R, Sv_cross_vec.real/R**2, 1)\n",
    "p_func    = np.poly1d(Z)\n",
    "e_charge  = Z[0]\n",
    "print(\"Electron Charge: %4.3e C\"%e_charge)"
   ]
  },
  {
   "cell_type": "markdown",
   "metadata": {},
   "source": [
    "## 噪声测量结果（自关联和互关联对比）"
   ]
  },
  {
   "cell_type": "code",
   "execution_count": 19,
   "metadata": {
    "scrolled": true
   },
   "outputs": [
    {
     "data": {
      "image/png": "[encoded data removed]",
      "text/plain": [
       "<Figure size 720x252 with 2 Axes>"
      ]
     },
     "metadata": {
      "needs_background": "light"
     },
     "output_type": "display_data"
    }
   ],
   "source": [
    "%matplotlib inline\n",
    "\n",
    "plt.figure(figsize=(10,3.5))\n",
    "#-------------------------------------------------------------------------------------------\n",
    "plt.subplot(1,2,1)\n",
    "plt.plot(Vavg_vec/R*1e3, Sv_cross_vec.real/R**2, label='Real')\n",
    "plt.plot(Vavg_vec/R*1e3, Sv_cross_vec.imag/R**2, label='Imag')\n",
    "plt.plot(Vavg_vec/R*1e3, Sv1_auto_vec/R**2, label='Auto1')\n",
    "plt.plot(Vavg_vec/R*1e3, Sv2_auto_vec/R**2, label='Auto2')\n",
    "plt.plot(Vavg_vec/R*1e3, p_func(Vavg_vec/R))\n",
    "\n",
    "plt.xlabel(r'$I_{avg}$ (mA)', fontsize=13)\n",
    "plt.ylabel(r'$S_I\\ \\rm (A^2/Hz)$', fontsize=13)\n",
    "plt.legend(fontsize=13)\n",
    "plt.autoscale(enable=True, tight=True)\n",
    "#plt.ylim([-2e-22,10e-22])\n",
    "\n",
    "#-------------------------------------------------------------------------------------------\n",
    "plt.subplot(1,2,2)\n",
    "plt.plot(Vavg_vec/R*1e3, Sv_cross_vec.real/R**2, label='Real')\n",
    "plt.plot(Vavg_vec/R*1e3, Sv_cross_vec.imag/R**2, label='Imag')\n",
    "plt.plot(Vavg_vec/R*1e3, p_func(Vavg_vec/R), 'k--', label=r'$S_I=Q\\bar{I}$')\n",
    "\n",
    "plt.xlabel(r'$I_{avg}$ (mA)', fontsize=13)\n",
    "plt.ylabel(r'$S_I\\ \\rm (A^2/Hz)$', fontsize=13)\n",
    "plt.legend(fontsize=13)\n",
    "plt.autoscale(enable=True, tight=True)\n",
    "#plt.ylim([-0.2e-22,1.4e-22])\n",
    "#plt.text(0.1, 6e-23, \"Q = %1.2e C\"%e_charge, fontsize=13)\n",
    "plt.tight_layout()"
   ]
  },
  {
   "cell_type": "markdown",
   "metadata": {},
   "source": [
    "## 相对误差"
   ]
  },
  {
   "cell_type": "code",
   "execution_count": 15,
   "metadata": {},
   "outputs": [
    {
     "name": "stdout",
     "output_type": "stream",
     "text": [
      "Relative Error: 5.86%\n"
     ]
    }
   ],
   "source": [
    "print(\"Relative Error: %1.2f%%\"%abs((e_charge - 1.602e-19) / 1.602e-19*100))"
   ]
  },
  {
   "cell_type": "code",
   "execution_count": 17,
   "metadata": {},
   "outputs": [
    {
     "data": {
      "text/plain": [
       "0.0125"
      ]
     },
     "execution_count": 17,
     "metadata": {},
     "output_type": "execute_result"
    }
   ],
   "source": [
    "500/200**2"
   ]
  },
  {
   "cell_type": "code",
   "execution_count": null,
   "metadata": {},
   "outputs": [],
   "source": []
  }
 ],
 "metadata": {
  "kernelspec": {
   "display_name": "Python 3",
   "language": "python",
   "name": "python3"
  },
  "language_info": {
   "codemirror_mode": {
    "name": "ipython",
    "version": 3
   },
   "file_extension": ".py",
   "mimetype": "text/x-python",
   "name": "python",
   "nbconvert_exporter": "python",
   "pygments_lexer": "ipython3",
   "version": "3.7.0"
  }
 },
 "nbformat": 4,
 "nbformat_minor": 2
}
