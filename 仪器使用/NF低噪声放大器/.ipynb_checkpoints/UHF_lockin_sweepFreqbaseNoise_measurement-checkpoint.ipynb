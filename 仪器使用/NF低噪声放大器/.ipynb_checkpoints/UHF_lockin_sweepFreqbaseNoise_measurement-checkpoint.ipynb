{
 "cells": [
  {
   "cell_type": "code",
   "execution_count": 1,
   "metadata": {},
   "outputs": [],
   "source": [
    "from __future__ import print_function\n",
    "import time\n",
    "import numpy as np\n",
    "import zhinst.utils\n",
    "from tqdm import tqdm\n",
    "from scipy import integrate\n",
    "import matplotlib.pyplot as plt"
   ]
  },
  {
   "cell_type": "code",
   "execution_count": 2,
   "metadata": {},
   "outputs": [
    {
     "name": "stdout",
     "output_type": "stream",
     "text": [
      "Discovered device `dev2374`: UHFLI with options .\n",
      "Creating an API session for device `dev2374` on `127.0.0.1`, `8004` with apilevel `6`.\n"
     ]
    },
    {
     "data": {
      "text/plain": [
       "[['/dev2374/aucarts/*/enable', 0],\n",
       " ['/dev2374/aupolars/*/enable', 0],\n",
       " ['/dev2374/dios/*/drive', 0],\n",
       " ['/dev2374/demods/*/enable', 0],\n",
       " ['/dev2374/demods/*/trigger', 0],\n",
       " ['/dev2374/demods/*/sinc', 0],\n",
       " ['/dev2374/demods/*/oscselect', 0],\n",
       " ['/dev2374/demods/*/harmonic', 1],\n",
       " ['/dev2374/demods/*/phaseshift', 0],\n",
       " ['/dev2374/extrefs/*/enable', 0],\n",
       " ['/dev2374/sigins/*/ac', 0],\n",
       " ['/dev2374/sigins/*/imp50', 0],\n",
       " ['/dev2374/sigins/*/diff', 0],\n",
       " ['/dev2374/sigouts/*/on', 0],\n",
       " ['/dev2374/sigouts/*/enables/*', 0],\n",
       " ['/dev2374/sigouts/*/offset', 0.0],\n",
       " ['/dev2374/sigouts/*/imp50', 0],\n",
       " ['/dev2374/scopes/*/enable', 0],\n",
       " ['/dev2374/scopes/*/segments/enable', 0],\n",
       " ['/dev2374/triggers/out/*/drive', 0]]"
      ]
     },
     "execution_count": 2,
     "metadata": {},
     "output_type": "execute_result"
    }
   ],
   "source": [
    "device_id    = 'dev2374'\n",
    "apilevel     = 6\n",
    "(daq, device, _) = zhinst.utils.create_api_session(device_id, apilevel)\n",
    "zhinst.utils.disable_everything(daq, device)"
   ]
  },
  {
   "cell_type": "code",
   "execution_count": 3,
   "metadata": {},
   "outputs": [],
   "source": [
    "def readBiChannelXY_func(daq, timeLength):\n",
    "    # Create a base configuration: Disable all available outputs, awgs, demods, scopes,...\n",
    "    #zhinst.utils.disable_everything(daq, device)\n",
    "\n",
    "    # Unsubscribe any streaming data.\n",
    "    daq.unsubscribe('*')\n",
    "\n",
    "    # Wait for the demodulator filter to settle.\n",
    "    time_constant = daq.getDouble('/dev2374/demods/0/timeconstant')\n",
    "    time.sleep(10*time_constant)\n",
    "\n",
    "    # Perform a global synchronisation between the device and the data server:\n",
    "    # Ensure that 1. the settings have taken effect on the device before issuing\n",
    "    # the poll() command and 2. clear the API's data buffers. Note: the sync()\n",
    "    # must be issued after waiting for the demodulator filter to settle above.\n",
    "    daq.sync()\n",
    "    clockbase = float(daq.getInt('/dev2374/clockbase'))\n",
    "\n",
    "\n",
    "    # Poll the subscribed data from the data server. Poll will block and record\n",
    "    # for poll_length seconds.\n",
    "    poll_length = 0.1  # [s]\n",
    "    poll_timeout = 500  # [ms]\n",
    "    poll_flags = 0\n",
    "    poll_return_flat_dict = True\n",
    "\n",
    "    # Subscribe to the demodulator's sample node path.\n",
    "    path1 = '/dev2374/demods/0/sample'\n",
    "    daq.subscribe(path1) #UHF的DEMOD0从这里开始记录数据 \n",
    "    path2 = '/dev2374/demods/4/sample'\n",
    "    daq.subscribe(path2) #UHF的DEMOD4从这里开始记录数据\n",
    "    \n",
    "    time.sleep(timeLength)\n",
    "    #poll data\n",
    "    sample = daq.poll(poll_length, poll_timeout, poll_flags, poll_return_flat_dict)\n",
    "    # Unsubscribe from all paths.\n",
    "    daq.unsubscribe('*')\n",
    "\n",
    "    #data\n",
    "    X1_vec  = sample[path1]['x']*np.sqrt(2) \n",
    "    Y1_vec  = sample[path1]['y']*np.sqrt(2)\n",
    "    timestamp1 = sample[path1]['timestamp']\n",
    "    \n",
    "    X2_vec  = sample[path2]['x']*np.sqrt(2) \n",
    "    Y2_vec  = sample[path2]['y']*np.sqrt(2)\n",
    "    timestamp2 = sample[path2]['timestamp']\n",
    "\n",
    "    #--------------------------------------------------------------\n",
    "    #只保留时间同步的数据\n",
    "    #使数据开头的timestamp齐平\n",
    "    if (timestamp1[0] > timestamp2[0]):\n",
    "        for n in range(len(timestamp2)):\n",
    "            if (timestamp2[n] == timestamp1[0]):break\n",
    "        X2_vec     = X2_vec[n:]\n",
    "        Y2_vec     = Y2_vec[n:]\n",
    "        timestamp2 = timestamp2[n:]\n",
    "    if (timestamp1[0] < timestamp2[0]):\n",
    "        for n in range(len(timestamp1)):\n",
    "            if (timestamp1[n] == timestamp2[0]):break\n",
    "        X1_vec     = X1_vec[n:]\n",
    "        Y1_vec     = Y1_vec[n:]\n",
    "        timestamp1 = timestamp1[n:]\n",
    "\n",
    "    #使数据结尾的timestamp齐平\n",
    "    if (timestamp1[-1] > timestamp2[-1]):\n",
    "        for n in range(-1, -len(timestamp1),-1):\n",
    "            if (timestamp1[n] == timestamp2[-1]):break\n",
    "        X1_vec     = X1_vec[:(n+1)]\n",
    "        Y1_vec     = Y1_vec[:(n+1)]\n",
    "        timestamp1 = timestamp1[:(n+1)]\n",
    "    if (timestamp1[-1] < timestamp2[-1]):\n",
    "        for n in range(-1, -len(timestamp2),-1):\n",
    "            if (timestamp2[n] == timestamp1[-1]):break\n",
    "        X2_vec     = X2_vec[:(n+1)]\n",
    "        Y2_vec     = Y2_vec[:(n+1)]\n",
    "        timestamp2 = timestamp2[:(n+1)]\n",
    "    if (np.sum(np.abs(timestamp2 - timestamp1))>1e-10): print(\"Error!\")\n",
    "\n",
    "    t_vec  = (timestamp1 - timestamp1[0])/clockbase\n",
    "    return [t_vec, X1_vec, Y1_vec, X2_vec, Y2_vec]"
   ]
  },
  {
   "cell_type": "code",
   "execution_count": 4,
   "metadata": {},
   "outputs": [],
   "source": [
    "def lowPassFilter_GainSquare_func(daq):\n",
    "    order = daq.getInt('/dev2374/demods/0/order')\n",
    "    tc    = daq.getDouble('/dev2374/demods/0/timeconstant')\n",
    "    int_f = lambda freq: np.abs( 1/(1+1j*2*np.pi*freq*tc)**order )**2\n",
    "    return 2*integrate.quad(int_f, 0, (1/tc/2/np.pi)*100)[0] #这里包括负频率，所以有系数2"
   ]
  },
  {
   "cell_type": "markdown",
   "metadata": {},
   "source": [
    "## 设置噪声谱的频率并同步两通道的参照信号"
   ]
  },
  {
   "cell_type": "code",
   "execution_count": 5,
   "metadata": {},
   "outputs": [],
   "source": [
    "freq  = 200e3\n",
    "daq.setDouble('/dev2374/oscs/1/freq', freq)\n",
    "#Wait for the osc to settle\n",
    "time.sleep(1)\n",
    "\n",
    "ref_synchronize_setting = [\n",
    "    ['/dev2374/extrefs/0/enable', 1],\n",
    "    ['/dev2374/demods/3/adcselect', 11]]\n",
    "daq.set(ref_synchronize_setting)\n",
    "time.sleep(1)"
   ]
  },
  {
   "cell_type": "markdown",
   "metadata": {},
   "source": [
    "## 设置光电二极管的电压"
   ]
  },
  {
   "cell_type": "code",
   "execution_count": 6,
   "metadata": {},
   "outputs": [],
   "source": [
    "#设置UHF的两个AUXOUT功能为电压源\n",
    "daq.setInt('/dev2374/auxouts/0/outputselect', -1)\n",
    "daq.setInt('/dev2374/auxouts/1/outputselect', -1)\n",
    "#光电二极管电压\n",
    "daq.setDouble('/dev2374/auxouts/0/offset', 5)\n",
    "daq.setDouble('/dev2374/auxouts/1/offset', 0)"
   ]
  },
  {
   "cell_type": "markdown",
   "metadata": {},
   "source": [
    "## 通道、滤波器、数据传输"
   ]
  },
  {
   "cell_type": "code",
   "execution_count": 7,
   "metadata": {},
   "outputs": [],
   "source": [
    "channel1_setting = [\n",
    "    ['/dev2374/sigins/0/imp50', 0],\n",
    "    ['/dev2374/sigins/0/ac', 0],\n",
    "    ['/dev2374/sigins/0/autorange', 1],\n",
    "    ['/dev2374/demods/0/timeconstant',13.84e-6],  #low pass filter\n",
    "    ['/dev2374/demods/0/order', 4],\n",
    "    ['/dev2374/demods/0/enable', 1], #data transfer\n",
    "    ['/dev2374/demods/0/rate', 100e3]]\n",
    "channel2_setting = [\n",
    "    ['/dev2374/sigins/1/imp50', 0],\n",
    "    ['/dev2374/sigins/1/ac', 0],\n",
    "    ['/dev2374/sigins/1/autorange', 1],\n",
    "    ['/dev2374/demods/4/timeconstant', 13.84e-6],\n",
    "    ['/dev2374/demods/4/order', 4],\n",
    "    ['/dev2374/demods/4/enable', 1],\n",
    "    ['/dev2374/demods/4/rate', 100e3]]\n",
    "\n",
    "daq.set(channel1_setting)\n",
    "time.sleep(5)\n",
    "daq.set(channel2_setting)\n",
    "time.sleep(5)"
   ]
  },
  {
   "cell_type": "markdown",
   "metadata": {},
   "source": [
    "# Sweep Frequence"
   ]
  },
  {
   "cell_type": "code",
   "execution_count": 12,
   "metadata": {},
   "outputs": [
    {
     "name": "stderr",
     "output_type": "stream",
     "text": [
      "100%|██████████████████████████████████████████████████████████████████████████████████| 21/21 [03:34<00:00, 10.23s/it]\n"
     ]
    }
   ],
   "source": [
    "freq_vec = np.linspace(2e5, 10e6, 21)\n",
    "noise1_auto_vec = np.zeros(freq_vec.size)\n",
    "noise2_auto_vec = np.zeros(freq_vec.size)\n",
    "noise_cross_vec = np.zeros(freq_vec.size, dtype=complex)\n",
    "\n",
    "for n_freq in tqdm(range(freq_vec.size)):\n",
    "    freq  = freq_vec[n_freq]\n",
    "    daq.setDouble('/dev2374/oscs/1/freq', freq)\n",
    "\n",
    "    #XY from lockin-amplifer\n",
    "    tf   = 10\n",
    "    [t_vec, X1_vec, Y1_vec, X2_vec, Y2_vec] = readBiChannelXY_func(daq, tf)\n",
    "    Gain_square   = lowPassFilter_GainSquare_func(daq)\n",
    "    #get noise\n",
    "    noise1_auto_vec[n_freq] = np.sum(X1_vec**2 + Y1_vec**2)/t_vec.size/4/Gain_square\n",
    "    noise2_auto_vec[n_freq] = np.sum(X2_vec**2 + Y2_vec**2)/t_vec.size/4/Gain_square\n",
    "    noise_cross_vec[n_freq] = np.sum( (1j*X1_vec + Y1_vec)*(-1j*X2_vec + Y2_vec))/t_vec.size/4/Gain_square"
   ]
  },
  {
   "cell_type": "code",
   "execution_count": 13,
   "metadata": {},
   "outputs": [
    {
     "data": {
      "text/plain": [
       "<matplotlib.legend.Legend at 0x1206566ae10>"
      ]
     },
     "execution_count": 13,
     "metadata": {},
     "output_type": "execute_result"
    },
    {
     "data": {
      "image/png": "[encoded data removed]",
      "text/plain": [
       "<Figure size 432x288 with 1 Axes>"
      ]
     },
     "metadata": {
      "needs_background": "light"
     },
     "output_type": "display_data"
    }
   ],
   "source": [
    "%matplotlib inline\n",
    "plt.plot(freq_vec/1e6, noise1_auto_vec, label='Auto1')\n",
    "plt.plot(freq_vec/1e6, noise2_auto_vec, label='Auto2')\n",
    "plt.plot(freq_vec/1e6, noise_cross_vec.real, label='Real')\n",
    "plt.plot(freq_vec/1e6, noise_cross_vec.imag, label='Imag')\n",
    "plt.plot(freq_vec/1e6, np.mean(noise_cross_vec.real)*np.ones(freq_vec.size), 'k--', label='Mean')\n",
    "#plt.ylim([-1e-18,1e-18])\n",
    "plt.grid()\n",
    "plt.legend(fontsize=13)"
   ]
  },
  {
   "cell_type": "code",
   "execution_count": 18,
   "metadata": {},
   "outputs": [
    {
     "name": "stdout",
     "output_type": "stream",
     "text": [
      "[3.64197798e-17 3.40283151e-17 3.25502249e-17 3.10760183e-17\n",
      " 2.98823188e-17 2.91422934e-17 2.84772662e-17 2.81288191e-17\n",
      " 2.76337837e-17 2.74371751e-17 2.71599154e-17 2.70037223e-17\n",
      " 2.71253438e-17 2.67682442e-17 2.67232981e-17 2.66940316e-17\n",
      " 2.67194030e-17 2.66696239e-17 2.67810692e-17 2.66375272e-17\n",
      " 2.69211739e-17]\n",
      "[3.71676626e-17 3.45503243e-17 3.27157484e-17 3.11411582e-17\n",
      " 3.02310918e-17 2.91575759e-17 2.85545636e-17 2.81408575e-17\n",
      " 2.75088590e-17 2.73797580e-17 2.71297169e-17 2.72098578e-17\n",
      " 2.68833290e-17 2.67438357e-17 2.67034282e-17 2.65936728e-17\n",
      " 2.64235835e-17 2.64520463e-17 2.63815126e-17 2.65231640e-17\n",
      " 2.65259609e-17]\n",
      "[8.21192974e-18-4.62540538e-20j 7.46584258e-18-1.44200938e-19j\n",
      " 6.10804506e-18-4.30010710e-19j 4.67019651e-18-8.05517945e-20j\n",
      " 3.62668609e-18-2.21907490e-19j 3.06133609e-18-2.08915874e-19j\n",
      " 2.57394530e-18-1.96915137e-19j 1.98101285e-18-2.51689142e-19j\n",
      " 1.44877513e-18-1.52860446e-19j 1.37437173e-18-1.33337396e-19j\n",
      " 9.72089684e-19-2.50911583e-19j 8.74486521e-19-2.08599742e-19j\n",
      " 7.55758511e-19-3.84809202e-20j 6.39049213e-19-1.72234232e-20j\n",
      " 6.72443756e-19-9.98179868e-20j 5.31981349e-19-1.03040632e-19j\n",
      " 6.47865671e-19-9.35050747e-20j 5.10135083e-19-1.54141944e-19j\n",
      " 4.51445515e-19-7.03226230e-20j 2.89663715e-19-1.42166280e-19j\n",
      " 6.95671973e-19-3.43366957e-19j]\n"
     ]
    }
   ],
   "source": [
    "print(noise1_auto_vec)\n",
    "print(noise2_auto_vec)\n",
    "print(noise_cross_vec)"
   ]
  },
  {
   "cell_type": "markdown",
   "metadata": {},
   "source": [
    "[3.64197798e-17 3.40283151e-17 3.25502249e-17 3.10760183e-17\n",
    " 2.98823188e-17 2.91422934e-17 2.84772662e-17 2.81288191e-17\n",
    " 2.76337837e-17 2.74371751e-17 2.71599154e-17 2.70037223e-17\n",
    " 2.71253438e-17 2.67682442e-17 2.67232981e-17 2.66940316e-17\n",
    " 2.67194030e-17 2.66696239e-17 2.67810692e-17 2.66375272e-17\n",
    " 2.69211739e-17]\n",
    "[3.71676626e-17 3.45503243e-17 3.27157484e-17 3.11411582e-17\n",
    " 3.02310918e-17 2.91575759e-17 2.85545636e-17 2.81408575e-17\n",
    " 2.75088590e-17 2.73797580e-17 2.71297169e-17 2.72098578e-17\n",
    " 2.68833290e-17 2.67438357e-17 2.67034282e-17 2.65936728e-17\n",
    " 2.64235835e-17 2.64520463e-17 2.63815126e-17 2.65231640e-17\n",
    " 2.65259609e-17]\n",
    "[8.21192974e-18-4.62540538e-20j 7.46584258e-18-1.44200938e-19j\n",
    " 6.10804506e-18-4.30010710e-19j 4.67019651e-18-8.05517945e-20j\n",
    " 3.62668609e-18-2.21907490e-19j 3.06133609e-18-2.08915874e-19j\n",
    " 2.57394530e-18-1.96915137e-19j 1.98101285e-18-2.51689142e-19j\n",
    " 1.44877513e-18-1.52860446e-19j 1.37437173e-18-1.33337396e-19j\n",
    " 9.72089684e-19-2.50911583e-19j 8.74486521e-19-2.08599742e-19j\n",
    " 7.55758511e-19-3.84809202e-20j 6.39049213e-19-1.72234232e-20j\n",
    " 6.72443756e-19-9.98179868e-20j 5.31981349e-19-1.03040632e-19j\n",
    " 6.47865671e-19-9.35050747e-20j 5.10135083e-19-1.54141944e-19j\n",
    " 4.51445515e-19-7.03226230e-20j 2.89663715e-19-1.42166280e-19j\n",
    " 6.95671973e-19-3.43366957e-19j]"
   ]
  },
  {
   "cell_type": "code",
   "execution_count": 16,
   "metadata": {},
   "outputs": [
    {
     "name": "stdout",
     "output_type": "stream",
     "text": [
      "[8.28470701 0.08026287]\n"
     ]
    }
   ],
   "source": [
    "from scipy.optimize import curve_fit\n",
    "#Unit:\n",
    "#noise: nV**2/Hz\n",
    "#freq: MHz\n",
    "#R    : kOu\n",
    "#C    : nf\n",
    "\n",
    "def thermalNoise_func(freq_vec, Seq, C):\n",
    "    R = 1\n",
    "    return Seq / (1+(2*np.pi*freq_vec*C*R)**2)\n",
    "    \n",
    "popt, pcov = curve_fit(thermalNoise_func, freq_vec/1e6, noise_cross_vec.real/1e-18, bounds=(0, [100, 1]))\n",
    "print(popt)"
   ]
  },
  {
   "cell_type": "code",
   "execution_count": 17,
   "metadata": {},
   "outputs": [
    {
     "data": {
      "text/plain": [
       "[<matplotlib.lines.Line2D at 0x120664af748>]"
      ]
     },
     "execution_count": 17,
     "metadata": {},
     "output_type": "execute_result"
    },
    {
     "data": {
      "image/png": "[encoded data removed]",
      "text/plain": [
       "<Figure size 432x288 with 1 Axes>"
      ]
     },
     "metadata": {
      "needs_background": "light"
     },
     "output_type": "display_data"
    }
   ],
   "source": [
    "plt.plot(freq_vec/1e6, noise_cross_vec.real, label='Real')\n",
    "plt.plot(freq_vec/1e6,  thermalNoise_func(freq_vec/1e6, *popt)*1e-18, label='Real')"
   ]
  },
  {
   "cell_type": "markdown",
   "metadata": {},
   "source": [
    "## Data\n",
    "Unit: kOu, nV^2/Hz, nF\n",
    "\n",
    "R = 0.1,  Seq = 0.88,  C = 0.0768\n",
    "\n",
    "R = 0.2 , Seq = 1.68,  C = 0.0784\n",
    "\n",
    "R = 0.4 , Seq = 3.36,  C = 0.0785\n",
    "\n",
    "R = 0.51, Seq = 4.26,  C = 0.0808\n",
    "\n",
    "R = 0.6 , Seq = 5.04,  C = 0.0806\n",
    "\n",
    "R = 0.8,  Seq = 6.59,  C = 0.0782\n",
    "\n",
    "R = 1   , Seq = 8.39,  C = 0.0797\n",
    "\n",
    "R = 2   , Seq = 16.52, C = 0.0788\n",
    "\n",
    "R = 4   , Seq = 32.15, C = 0.0783\n",
    "\n",
    "R = 6   , Seq = 46.87, C = 0.0779\n",
    "\n",
    "R = 8   , Seq = 68.41, C = 0.0833\n",
    "\n",
    "R = 10  , Seq = 82.79, C = 0.0792"
   ]
  },
  {
   "cell_type": "code",
   "execution_count": null,
   "metadata": {},
   "outputs": [],
   "source": [
    "R_vec   = np.array([ 0.1,  0.2,  0.4, 0.51,  0.6,  0.8,    1,     2,     4,     6,     8,    10] )*1e3\n",
    "Seq_vec = np.array([0.88, 1.68, 3.36, 4.26, 5.04, 6.59, 8.39, 16.52, 32.15, 46.87, 68.41, 82.79] )*1e-18"
   ]
  },
  {
   "cell_type": "code",
   "execution_count": null,
   "metadata": {},
   "outputs": [],
   "source": [
    "#Seq = 2kTR\n",
    "T      = 300\n",
    "Z      = np.polyfit(R_vec*2*T, Seq_vec, 1)\n",
    "p_func = np.poly1d(Z)\n",
    "k_B    = Z[0]\n",
    "print(\"Boltzmann constant: %6.5e \"%k_B) \n",
    "print(\"Relative Error: %1.2f%%\"%abs((k_B - 1.38064852e-23) / 1.38064852e-23*100))"
   ]
  },
  {
   "cell_type": "code",
   "execution_count": null,
   "metadata": {},
   "outputs": [],
   "source": [
    "#目标值：\n",
    "#print(\"Target: \", 10e-3*1.602*1e-19*2e2*200**2)\n",
    "2*1.380649e-23*300*800"
   ]
  },
  {
   "cell_type": "markdown",
   "metadata": {},
   "source": [
    "## 注意\n",
    "\n",
    " - 使用放大器之后，为了阻抗匹配，一定要开启UHF的50欧功能；"
   ]
  }
 ],
 "metadata": {
  "kernelspec": {
   "display_name": "Python 3",
   "language": "python",
   "name": "python3"
  },
  "language_info": {
   "codemirror_mode": {
    "name": "ipython",
    "version": 3
   },
   "file_extension": ".py",
   "mimetype": "text/x-python",
   "name": "python",
   "nbconvert_exporter": "python",
   "pygments_lexer": "ipython3",
   "version": "3.7.0"
  }
 },
 "nbformat": 4,
 "nbformat_minor": 2
}
