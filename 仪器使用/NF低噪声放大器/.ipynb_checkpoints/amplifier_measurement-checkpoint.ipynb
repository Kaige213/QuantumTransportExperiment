{
 "cells": [
  {
   "cell_type": "code",
   "execution_count": 1,
   "metadata": {},
   "outputs": [],
   "source": [
    "from __future__ import print_function\n",
    "import time\n",
    "import numpy as np\n",
    "import zhinst.utils\n",
    "from tqdm import tqdm\n",
    "import matplotlib.pyplot as plt"
   ]
  },
  {
   "cell_type": "code",
   "execution_count": 2,
   "metadata": {
    "scrolled": true
   },
   "outputs": [
    {
     "name": "stdout",
     "output_type": "stream",
     "text": [
      "Discovered device `dev2374`: UHFLI with options .\n",
      "Creating an API session for device `dev2374` on `127.0.0.1`, `8004` with apilevel `6`.\n",
      "Will try to connect device `DEV2374` on interface USB.\n"
     ]
    },
    {
     "data": {
      "text/plain": [
       "[['/dev2374/aucarts/*/enable', 0],\n",
       " ['/dev2374/aupolars/*/enable', 0],\n",
       " ['/dev2374/dios/*/drive', 0],\n",
       " ['/dev2374/demods/*/enable', 0],\n",
       " ['/dev2374/demods/*/trigger', 0],\n",
       " ['/dev2374/demods/*/sinc', 0],\n",
       " ['/dev2374/demods/*/oscselect', 0],\n",
       " ['/dev2374/demods/*/harmonic', 1],\n",
       " ['/dev2374/demods/*/phaseshift', 0],\n",
       " ['/dev2374/extrefs/*/enable', 0],\n",
       " ['/dev2374/sigins/*/ac', 0],\n",
       " ['/dev2374/sigins/*/imp50', 0],\n",
       " ['/dev2374/sigins/*/diff', 0],\n",
       " ['/dev2374/sigouts/*/on', 0],\n",
       " ['/dev2374/sigouts/*/enables/*', 0],\n",
       " ['/dev2374/sigouts/*/offset', 0.0],\n",
       " ['/dev2374/sigouts/*/imp50', 0],\n",
       " ['/dev2374/scopes/*/enable', 0],\n",
       " ['/dev2374/scopes/*/segments/enable', 0],\n",
       " ['/dev2374/triggers/out/*/drive', 0]]"
      ]
     },
     "execution_count": 2,
     "metadata": {},
     "output_type": "execute_result"
    }
   ],
   "source": [
    "device_id = 'dev2374'\n",
    "apilevel  = 6 \n",
    "(daq, device,_) = zhinst.utils.create_api_session(device_id, apilevel)\n",
    "\n",
    "# Create a base configuration: Disable all available outputs,demods, scopes,...\n",
    "zhinst.utils.disable_everything(daq, device)"
   ]
  },
  {
   "cell_type": "code",
   "execution_count": 3,
   "metadata": {},
   "outputs": [],
   "source": [
    "#signal output setting\n",
    "amplitude     = 0.005\n",
    "setting = [\n",
    "    ['/dev2374/sigouts/0/on'          , 1],\n",
    "    ['/dev2374/sigouts/0/on'          , 1],\n",
    "    ['/dev2374/sigouts/0/enables/3'   , 1],\n",
    "    ['/dev2374/sigouts/0/range'       , 0.15],\n",
    "    ['/dev2374/sigouts/0/amplitudes/3', amplitude]\n",
    "]\n",
    "daq.set(setting)\n",
    "time.sleep(1)"
   ]
  },
  {
   "cell_type": "code",
   "execution_count": 4,
   "metadata": {},
   "outputs": [],
   "source": [
    "#signal input setting\n",
    "setting = [\n",
    "    ['/dev2374/sigins/0/ac'       , 0],\n",
    "    ['/dev2374/sigins/0/imp50'    , 1],\n",
    "    ['/dev2374/demods/3/adcselect', 0],\n",
    "    ['/dev2374/extrefs/0/enable'  , 0],\n",
    "    ['/dev2374/demods/0/enable'   , 1],\n",
    "    ['/dev2374/demods/0/rate'     ,10],\n",
    "    ['/dev2374/sigins/0/autorange', 1]\n",
    "]\n",
    "daq.set(setting)\n",
    "time.sleep(1)"
   ]
  },
  {
   "cell_type": "code",
   "execution_count": 5,
   "metadata": {},
   "outputs": [],
   "source": [
    "#demod setting\n",
    "setting = [\n",
    "    ['/dev2374/demods/0/enable', 1],\n",
    "    ['/dev2374/demods/0/order',  4]]\n",
    "daq.set(setting)\n",
    "time.sleep(1)"
   ]
  },
  {
   "cell_type": "code",
   "execution_count": 6,
   "metadata": {},
   "outputs": [],
   "source": [
    "def measure_by_frequence_func(daq, freq):\n",
    "    #zhinst.utils.sigin_autorange(daq, 'dev2374', in_channel) #调整输入端的range（ADC前的放大器）\n",
    "    time_constant = 1/(2*np.pi*freq)*100\n",
    "    daq.setDouble('/dev2374/oscs/0/freq', freq)\n",
    "    daq.setDouble('/dev2374/demods/0/timeconstant', time_constant)\n",
    "    time.sleep(20*time_constant)\n",
    "    daq.sync()\n",
    "    time.sleep(20*time_constant)\n",
    "    time.sleep(0.5)\n",
    "    sample = daq.getSample('/dev2374/demods/0/sample')\n",
    "    X      = sample['x'][0]\n",
    "    Y      = sample['y'][0]\n",
    "    R      = abs(X+1j*Y)\n",
    "    phase  = np.angle(X+1j*Y)*180/np.pi\n",
    "    return [R, phase]"
   ]
  },
  {
   "cell_type": "code",
   "execution_count": 7,
   "metadata": {},
   "outputs": [
    {
     "name": "stderr",
     "output_type": "stream",
     "text": [
      "100%|████████████████████████████████████████████████████████████████████████████████| 101/101 [01:01<00:00,  1.67it/s]\n"
     ]
    }
   ],
   "source": [
    "freq_vec  = 3*10**np.linspace(3, 8,101)\n",
    "R_vec     = np.zeros(freq_vec.size)\n",
    "phase_vec = np.zeros(freq_vec.size)\n",
    "\n",
    "for n in tqdm(range(freq_vec.size)):\n",
    "    freq         = freq_vec[n]\n",
    "    [R, phase]   = measure_by_frequence_func(daq, freq)\n",
    "    R_vec[n]     = R\n",
    "    phase_vec[n] = phase"
   ]
  },
  {
   "cell_type": "code",
   "execution_count": 8,
   "metadata": {
    "scrolled": true
   },
   "outputs": [
    {
     "data": {
      "image/png": "[encoded data removed]",
      "text/plain": [
       "<Figure size 720x252 with 2 Axes>"
      ]
     },
     "metadata": {
      "needs_background": "light"
     },
     "output_type": "display_data"
    }
   ],
   "source": [
    "V_in = daq.getDouble('/dev2374/sigouts/0/amplitudes/3')\n",
    "Gain = 20*np.log10(R_vec*np.sqrt(2)/V_in)\n",
    "\n",
    "plt.figure(figsize=(10,3.5))\n",
    "fontsize=13\n",
    "\n",
    "plt.subplot(1,2,1)\n",
    "R_analytic = 1e-3\n",
    "plt.plot(freq_vec, Gain)\n",
    "#plt.plot(freq_vec, R_vec*np.sqrt(2)/V_in)\n",
    "\n",
    "plt.xlabel('f (Hz))', fontsize=fontsize)\n",
    "plt.ylabel('Gain (dB)', fontsize=fontsize)\n",
    "plt.xscale('log')\n",
    "plt.grid()\n",
    "\n",
    "#plt.ylim([0.9,1.1])\n",
    "\n",
    "\n",
    "plt.subplot(1,2,2)\n",
    "plt.plot(freq_vec, phase_vec)\n",
    "\n",
    "plt.xscale('log')\n",
    "plt.xlabel('f (Hz))', fontsize=fontsize)\n",
    "plt.ylabel('Phase', fontsize=fontsize)\n",
    "plt.grid()\n",
    "\n",
    "plt.tight_layout()\n",
    "#plt.savefig(\"LineResponce_length=1m.png\", format='png', dpi=200)"
   ]
  },
  {
   "cell_type": "code",
   "execution_count": null,
   "metadata": {},
   "outputs": [],
   "source": [
    "#np.savez(\"SA421F5Responce_data.npz\", Gain=Gain, phase_vec=phase_vec, freq_vec=freq_vec)"
   ]
  },
  {
   "cell_type": "code",
   "execution_count": null,
   "metadata": {},
   "outputs": [],
   "source": []
  }
 ],
 "metadata": {
  "kernelspec": {
   "display_name": "Python 3",
   "language": "python",
   "name": "python3"
  },
  "language_info": {
   "codemirror_mode": {
    "name": "ipython",
    "version": 3
   },
   "file_extension": ".py",
   "mimetype": "text/x-python",
   "name": "python",
   "nbconvert_exporter": "python",
   "pygments_lexer": "ipython3",
   "version": "3.7.0"
  }
 },
 "nbformat": 4,
 "nbformat_minor": 2
}
