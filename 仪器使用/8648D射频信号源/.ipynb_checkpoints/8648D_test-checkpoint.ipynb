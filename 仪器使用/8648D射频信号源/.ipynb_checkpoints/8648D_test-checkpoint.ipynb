{
 "cells": [
  {
   "cell_type": "code",
   "execution_count": 1,
   "metadata": {},
   "outputs": [],
   "source": [
    "import time\n",
    "import visa\n",
    "import numpy as np\n",
    "import zhinst.utils\n",
    "from tqdm import tqdm\n",
    "import matplotlib.pyplot as plt"
   ]
  },
  {
   "cell_type": "markdown",
   "metadata": {},
   "source": [
    "## UHF采集卡"
   ]
  },
  {
   "cell_type": "code",
   "execution_count": 2,
   "metadata": {},
   "outputs": [
    {
     "name": "stdout",
     "output_type": "stream",
     "text": [
      "Discovered device `dev2374`: UHFLI with options .\n",
      "Creating an API session for device `dev2374` on `127.0.0.1`, `8004` with apilevel `6`.\n"
     ]
    }
   ],
   "source": [
    "device_id    = 'dev2374'\n",
    "scope_length = 2**16\n",
    "scope_time   = 6\n",
    "in_channel   = 0\n",
    "apilevel     = 6\n",
    "(daq, device, _) = zhinst.utils.create_api_session(device_id, apilevel)\n",
    "#zhinst.utils.disable_everything(daq, device)"
   ]
  },
  {
   "cell_type": "code",
   "execution_count": 3,
   "metadata": {},
   "outputs": [],
   "source": [
    "daq.setInt('/dev2374/sigins/0/imp50', 1)\n",
    "zhinst.utils.sigin_autorange(daq, device, in_channel) #调整输入端的range（ADC前的放大器）\n",
    "\n",
    "#==========================================================================\n",
    "# Configure the scope and obtain data with triggering disabled.\n",
    "daq.setInt('/%s/scopes/0/length' % device, scope_length)\n",
    "daq.setInt('/%s/scopes/0/channel' % device, 1)\n",
    "daq.setInt('/%s/scopes/0/channels/%d/bwlimit' % (device, in_channel), 1)\n",
    "daq.setInt('/%s/scopes/0/channels/%d/inputselect' % (device, in_channel), 0)\n",
    "daq.setInt('/%s/scopes/0/single' % device, 1)\n",
    "daq.setInt('/%s/scopes/0/time' % device, scope_time)\n",
    "daq.setInt('/%s/scopes/0/segments/count' % device, 1)\n",
    "\n",
    "\n",
    "#trigger\n",
    "daq.setInt('/%s/scopes/0/trigenable' % device, 0)\n",
    "daq.setDouble('/%s/scopes/0/trigholdoff' % device, 0.050)\n",
    "daq.setInt('/%s/scopes/0/segments/enable' % device, 0)\n",
    "daq.sync()\n",
    "\n",
    "#==========================================================================\n",
    "# Now initialize and configure the Scope Module.\n",
    "scopeModule = daq.scopeModule()\n",
    "scopeModule.set('mode', 1)\n",
    "scopeModule.set('averager/weight', 1) #   weight=1 - don't average.\n",
    "scopeModule.set('historylength', 1)\n",
    "scopeModule.subscribe('/dev2374/scopes/0/wave')"
   ]
  },
  {
   "cell_type": "code",
   "execution_count": 4,
   "metadata": {},
   "outputs": [],
   "source": [
    "def readScope_func():\n",
    "    # Tell the module to be ready to acquire data; reset the module's progress to 0.0.\n",
    "    scopeModule.execute()\n",
    "\n",
    "    # Enable the scope: Now the scope is ready to record data upon receiving triggers.\n",
    "    daq.setInt('/%s/scopes/0/enable' % device, 1)\n",
    "    daq.sync()\n",
    "\n",
    "    start = time.time()\n",
    "    timeout = 5  # [s]\n",
    "    records = 0\n",
    "    # Wait until the Scope Module has received and processed the desired number of records.\n",
    "    while (records < 1):\n",
    "        time.sleep(0.1)\n",
    "        records = scopeModule.getInt(\"records\")\n",
    "        #progress = scopeModule.progress()[0]\n",
    "        if (time.time() - start) > timeout:\n",
    "            print(\"\\nTimeout!\\n\")\n",
    "            break    \n",
    "\n",
    "    # Stop the module; to use it again we need to call execute().\n",
    "    scopeModule.finish()  #在读取数据前停止module，防止继续读取数据\n",
    "\n",
    "    # Read out the scope data from the module.\n",
    "    daq.setInt('/%s/scopes/0/enable' % device, 0)\n",
    "\n",
    "\n",
    "    data_return = scopeModule.read(True)['/dev2374/scopes/0/wave']\n",
    "    voltage_vec = data_return[0][0]['wave'][0]\n",
    "    delta_t     = data_return[0][0]['dt']\n",
    "    t_vec       = delta_t*np.arange(0,len(voltage_vec))\n",
    "    return [t_vec, voltage_vec]"
   ]
  },
  {
   "cell_type": "code",
   "execution_count": 5,
   "metadata": {},
   "outputs": [],
   "source": [
    "def Lockin_R_func(signal_vec, t_vec, freq):\n",
    "    sX    = 2*signal_vec*np.sin(2*np.pi*t_vec*freq)  #相乘\n",
    "    sY    = 2*signal_vec*np.cos(2*np.pi*t_vec*freq)  #相乘\n",
    "    sX = np.sum(sX) / len(sX)\n",
    "    sY = np.sum(sY) / len(sY)\n",
    "    R = np.sqrt(sX**2 + sY**2)\n",
    "    #如果不平均，则直接输出滤波后的信号\n",
    "    return R"
   ]
  },
  {
   "cell_type": "code",
   "execution_count": 14,
   "metadata": {},
   "outputs": [],
   "source": [
    "[t_vec, voltage_vec] = readScope_func()\n",
    "\n",
    "R = Lockin_R_func(voltage_vec, t_vec, 50.556e6)"
   ]
  },
  {
   "cell_type": "code",
   "execution_count": 15,
   "metadata": {},
   "outputs": [
    {
     "name": "stdout",
     "output_type": "stream",
     "text": [
      "5.4003320193957805e-05\n"
     ]
    }
   ],
   "source": [
    "print(R)"
   ]
  },
  {
   "cell_type": "code",
   "execution_count": 16,
   "metadata": {},
   "outputs": [
    {
     "name": "stdout",
     "output_type": "stream",
     "text": [
      "-75.35159076739708\n"
     ]
    }
   ],
   "source": [
    "power_dBm = 10*np.log10(R**2/2/50 / 1e-3)\n",
    "print(power_dBm)"
   ]
  },
  {
   "cell_type": "code",
   "execution_count": null,
   "metadata": {},
   "outputs": [],
   "source": []
  }
 ],
 "metadata": {
  "kernelspec": {
   "display_name": "Python 3",
   "language": "python",
   "name": "python3"
  },
  "language_info": {
   "codemirror_mode": {
    "name": "ipython",
    "version": 3
   },
   "file_extension": ".py",
   "mimetype": "text/x-python",
   "name": "python",
   "nbconvert_exporter": "python",
   "pygments_lexer": "ipython3",
   "version": "3.7.0"
  }
 },
 "nbformat": 4,
 "nbformat_minor": 2
}
