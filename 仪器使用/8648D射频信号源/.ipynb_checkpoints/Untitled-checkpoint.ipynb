{
 "cells": [
  {
   "cell_type": "code",
   "execution_count": 4,
   "metadata": {},
   "outputs": [
    {
     "data": {
      "text/plain": [
       "'+1'"
      ]
     },
     "execution_count": 4,
     "metadata": {},
     "output_type": "execute_result"
    }
   ],
   "source": [
    "import visa\n",
    "#import traceback\n",
    "import numpy as np\n",
    "import matplotlib.pyplot as plt\n",
    "\n",
    "\n",
    "address = \"GPIB0::19::INSTR\"\n",
    "inst = visa.ResourceManager().open_resource(address, read_termination='\\n')\n",
    "\n",
    "#设备初始化\n",
    "inst.write('*RST')\n",
    "inst.write('*CLS')\n",
    "inst.query(\"*OPC?\")"
   ]
  },
  {
   "cell_type": "code",
   "execution_count": 3,
   "metadata": {},
   "outputs": [
    {
     "data": {
      "text/plain": [
       "'+1'"
      ]
     },
     "execution_count": 3,
     "metadata": {},
     "output_type": "execute_result"
    }
   ],
   "source": [
    "#Parameters\n",
    "freq = 50.556e6 #Hz\n",
    "power = -21 #dBm\n",
    "\n",
    "#sent commands to inst\n",
    "inst.write(\"FREQ:CW %fHz\"%freq)\n",
    "inst.write(\"POW:AMPL %fDBM\"%power)\n",
    "inst.write(\":OUTP:STAT ON\")\n",
    "inst.query(\"*OPC?\")\n",
    "#inst.query(\"FREQ:CW?\")"
   ]
  }
 ],
 "metadata": {
  "kernelspec": {
   "display_name": "Python 3",
   "language": "python",
   "name": "python3"
  },
  "language_info": {
   "codemirror_mode": {
    "name": "ipython",
    "version": 3
   },
   "file_extension": ".py",
   "mimetype": "text/x-python",
   "name": "python",
   "nbconvert_exporter": "python",
   "pygments_lexer": "ipython3",
   "version": "3.7.0"
  }
 },
 "nbformat": 4,
 "nbformat_minor": 2
}
