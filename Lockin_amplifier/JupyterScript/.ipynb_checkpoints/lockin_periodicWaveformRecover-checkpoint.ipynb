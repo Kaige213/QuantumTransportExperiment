{
 "cells": [
  {
   "cell_type": "markdown",
   "metadata": {},
   "source": [
    "## 模拟锁相放大器测量周期信号的波形"
   ]
  },
  {
   "cell_type": "markdown",
   "metadata": {},
   "source": [
    "**周期信号傅里叶级数展开：**\n",
    "\n",
    "$$\n",
    "\\begin{cases}\n",
    "f = \\sum_n C_n e^{-in\\Omega t}\n",
    "\\\\\n",
    "C_n = \\int_0^{t_f} \\frac{dt}{t_f} e^{in\\Omega t} f\n",
    "\\end{cases}\n",
    "$$"
   ]
  },
  {
   "cell_type": "markdown",
   "metadata": {},
   "source": [
    "其中，$t_f$为锁相的积分时间，应该远大于$2\\pi/\\Omega$。"
   ]
  },
  {
   "cell_type": "markdown",
   "metadata": {},
   "source": [
    "傅里叶级数与锁相测量结果的关系：\n",
    "\n",
    "$$\n",
    "\\begin{cases}\n",
    "Cn &=& \\int \\frac{dt}{t_f} (\\cos(n\\Omega t) + i\\sin(n\\Omega t)) f\n",
    "\\\\\n",
    "&=& \\int \\frac{dt}{t_f} \\cos(n\\Omega t) f+ i \\int \\frac{dt}{t_f} \\sin(n\\Omega t) f\n",
    "\\\\\n",
    "&=& \\frac12 Y_n + \\frac i2 X_n\n",
    "\\\\\n",
    "C_{-n} &=& C_n^*\n",
    "\\end{cases}\n",
    "$$"
   ]
  },
  {
   "cell_type": "markdown",
   "metadata": {},
   "source": [
    "其中，$X_n$，$Y_n$即为锁相的测量结果。"
   ]
  },
  {
   "cell_type": "code",
   "execution_count": 1,
   "metadata": {},
   "outputs": [],
   "source": [
    "import numpy as np\n",
    "import matplotlib.pyplot as plt"
   ]
  },
  {
   "cell_type": "markdown",
   "metadata": {},
   "source": [
    "## 1. 待测量的方波信号"
   ]
  },
  {
   "cell_type": "markdown",
   "metadata": {},
   "source": [
    "### Perameters"
   ]
  },
  {
   "cell_type": "code",
   "execution_count": 2,
   "metadata": {},
   "outputs": [],
   "source": [
    "freq  = 0.2e6\n",
    "T     = 1 / freq\n",
    "omega = 2*np.pi/T\n",
    "V0    = 0.2"
   ]
  },
  {
   "cell_type": "markdown",
   "metadata": {},
   "source": [
    "### Periodic Signal"
   ]
  },
  {
   "cell_type": "code",
   "execution_count": 3,
   "metadata": {},
   "outputs": [
    {
     "data": {
      "text/plain": [
       "[<matplotlib.lines.Line2D at 0x7f5f99412990>]"
      ]
     },
     "execution_count": 3,
     "metadata": {},
     "output_type": "execute_result"
    },
    {
     "data": {
      "image/png": "[encoded data removed]",
      "text/plain": [
       "<Figure size 432x288 with 1 Axes>"
      ]
     },
     "metadata": {
      "needs_background": "light"
     },
     "output_type": "display_data"
    }
   ],
   "source": [
    "def squareSmooth_func(t_vec, T, V0):\n",
    "    delta_t  = T/50\n",
    "    return 1/(1+np.exp( (t_vec-T/4*3)/delta_t)) * (1 - 1/(1+np.exp( (t_vec-T/4)/delta_t)) ) * V0\n",
    "\n",
    "def squarePeriodic_func(t_vec, T, V0):\n",
    "    N_period = int(float(np.round( ( (t_vec[-1] - t_vec[0]) / T ) )))\n",
    "    N_singleT= int( t_vec.size / N_period)\n",
    "    \n",
    "    #定义单个周期中的信号\n",
    "    tSingle_vec = np.linspace(0, T, N_singleT+1)[:-1] #扔掉末尾的点\n",
    "    VSingle_vec = squareSmooth_func(tSingle_vec, T, V0)\n",
    "    \n",
    "    #将所有周期的信号连接起来\n",
    "    output = np.array([])\n",
    "    for n in range(N_period):\n",
    "        output = np.concatenate( (output, VSingle_vec) )\n",
    "        \n",
    "    return output\n",
    "\n",
    "\n",
    "\n",
    "t_vec = np.linspace(0, T*3,3001)[:-1]\n",
    "plt.plot(t_vec, squarePeriodic_func(t_vec, T, V0))"
   ]
  },
  {
   "cell_type": "markdown",
   "metadata": {},
   "source": [
    "## 2. 锁相测量 Cn"
   ]
  },
  {
   "cell_type": "code",
   "execution_count": 4,
   "metadata": {},
   "outputs": [],
   "source": [
    "def Lockin_XY_func(signal_vec, t_vec, freq):\n",
    "    sX    = 2*signal_vec*np.sin(2*np.pi*t_vec*freq)\n",
    "    sY    = 2*signal_vec*np.cos(2*np.pi*t_vec*freq)\n",
    "    sX    = np.sum(sX) / len(sX)\n",
    "    sY    = np.sum(sY) / len(sY)\n",
    "    \n",
    "    return sX,sY"
   ]
  },
  {
   "cell_type": "markdown",
   "metadata": {},
   "source": [
    "### Signal"
   ]
  },
  {
   "cell_type": "code",
   "execution_count": 5,
   "metadata": {},
   "outputs": [],
   "source": [
    "t_vec = np.linspace(0,T*1000, 100001)[:-1]\n",
    "g_vec = squarePeriodic_func(t_vec, T, V0)"
   ]
  },
  {
   "cell_type": "markdown",
   "metadata": {},
   "source": [
    "### Measurement"
   ]
  },
  {
   "cell_type": "code",
   "execution_count": 6,
   "metadata": {},
   "outputs": [],
   "source": [
    "Nn     = 10\n",
    "Cn_vec = np.zeros(Nn, dtype=complex)"
   ]
  },
  {
   "cell_type": "code",
   "execution_count": 7,
   "metadata": {},
   "outputs": [],
   "source": [
    "Cn_vec[0] = np.average(g_vec)"
   ]
  },
  {
   "cell_type": "code",
   "execution_count": 8,
   "metadata": {},
   "outputs": [],
   "source": [
    "#AC measurement\n",
    "for n in range(1,Nn):\n",
    "    #UHF_ready_check()\n",
    "    [X, Y]    = Lockin_XY_func(g_vec, t_vec, n*freq)\n",
    "    Cn_vec[n] = 0.5j*X + 0.5*Y"
   ]
  },
  {
   "cell_type": "code",
   "execution_count": 9,
   "metadata": {},
   "outputs": [
    {
     "name": "stdout",
     "output_type": "stream",
     "text": [
      "X=0.000 mV Y=-87.735 mV\n"
     ]
    }
   ],
   "source": [
    "[X, Y]    = Lockin_XY_func(g_vec, t_vec, 1*freq)\n",
    "print(\"X=%.3f mV\"%(X/np.sqrt(2)*1e3), \"Y=%.3f mV\"%(Y/np.sqrt(2)*1e3) )"
   ]
  },
  {
   "cell_type": "markdown",
   "metadata": {},
   "source": [
    "## 3. 还原信号"
   ]
  },
  {
   "cell_type": "code",
   "execution_count": 10,
   "metadata": {},
   "outputs": [],
   "source": [
    "squareRecover_vec = np.zeros(t_vec.size)\n",
    "\n",
    "#DC recover\n",
    "squareRecover_vec = squareRecover_vec + Cn_vec[0]\n",
    "\n",
    "#AC recover\n",
    "for n in range(1, Cn_vec.size):\n",
    "    omega             = 2*np.pi*freq\n",
    "    Cn                = Cn_vec[n]\n",
    "    squareRecover_vec = squareRecover_vec + np.exp(-1j*n*omega*t_vec) * Cn + np.exp(1j*n*omega*t_vec) * Cn.conj()"
   ]
  },
  {
   "cell_type": "code",
   "execution_count": 11,
   "metadata": {
    "scrolled": true
   },
   "outputs": [
    {
     "data": {
      "text/plain": [
       "(0.0, 1.5000000000000002e-05)"
      ]
     },
     "execution_count": 11,
     "metadata": {},
     "output_type": "execute_result"
    },
    {
     "data": {
      "image/png": "[encoded data removed]",
      "text/plain": [
       "<Figure size 432x288 with 1 Axes>"
      ]
     },
     "metadata": {
      "needs_background": "light"
     },
     "output_type": "display_data"
    }
   ],
   "source": [
    "plt.plot(t_vec, squarePeriodic_func(t_vec, T, V0))\n",
    "plt.plot(t_vec, squareRecover_vec.real, '--')\n",
    "plt.xlim([0,T*3])"
   ]
  }
 ],
 "metadata": {
  "kernelspec": {
   "display_name": "Python 3",
   "language": "python",
   "name": "python3"
  },
  "language_info": {
   "codemirror_mode": {
    "name": "ipython",
    "version": 3
   },
   "file_extension": ".py",
   "mimetype": "text/x-python",
   "name": "python",
   "nbconvert_exporter": "python",
   "pygments_lexer": "ipython3",
   "version": "3.7.9"
  }
 },
 "nbformat": 4,
 "nbformat_minor": 2
}
