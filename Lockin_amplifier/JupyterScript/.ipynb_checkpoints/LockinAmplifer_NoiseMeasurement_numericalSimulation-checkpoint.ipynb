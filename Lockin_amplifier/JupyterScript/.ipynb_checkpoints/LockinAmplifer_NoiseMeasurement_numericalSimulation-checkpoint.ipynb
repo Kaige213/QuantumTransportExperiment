{
 "cells": [
  {
   "cell_type": "markdown",
   "metadata": {},
   "source": [
    "# 使用锁相放大器测量Shot Noise（数值模拟）\n",
    "\n",
    "[2020.6.29]"
   ]
  },
  {
   "cell_type": "markdown",
   "metadata": {},
   "source": [
    "## 1. 电压信号：\n",
    "\n",
    "利用随机过程，产生含有Shot Noise的电压信号。下面的$g(t)$表示电子的时域分布：\n",
    "$$\n",
    " V(t) = R\\sum D_n g(t-nT)\n",
    "$$\n",
    "\n",
    "## 2. 对应噪声\n",
    "\n",
    "为了方便，我们使用方波来模拟电子的时域分布(高度为$I_0$, 宽度为$T$)，对应的电荷量$Q = I_0 T。该随机过程的噪声谱：\n",
    "\n",
    "$$\n",
    "  \\frac{S}{Q^2D(1-D)/T} = \\mathrm{sinc^2}(\\frac{f}{f_0})\n",
    "$$"
   ]
  },
  {
   "cell_type": "markdown",
   "metadata": {},
   "source": [
    "## 3. 锁相放大器测量噪声\n",
    "\n",
    "### 3.1 锁相&自关联测量噪声\n",
    "\n",
    "将锁相放大器看作带通滤波器，输入信号与输出数据之间的关系：\n",
    "$$\n",
    "\\frac12 e^{-i2\\pi f t} (iX(t)+Y(t)) = \\int \\frac{d\\omega}{2\\pi} e^{i\\omega t} \\ V(\\omega)\\ H(\\omega+2\\pi f)\n",
    "$$\n",
    "\n",
    "其中： \n",
    " - $V(\\omega) = \\int dt V(t) e^{-i\\omega t}$，即对输入信号作傅里叶变换。\n",
    " - $f$表示参照信号的频率\n",
    " \n",
    "如果在低通滤波器的通带内，噪声不随频率变化，我们可以得到输出数据与噪声谱的关系：\n",
    "$$\n",
    "\\int \\frac{dt}{t_f} (X(t)^2 + Y(t)^2) = 4 S_f \\int_0^{+\\infty} df |H(f)|^2\n",
    "$$\n",
    "\n",
    "其中，$t_f$表示测量时长。等式的左边即带通滤波器的平均输出功率。"
   ]
  },
  {
   "cell_type": "markdown",
   "metadata": {},
   "source": [
    "### 3.2 锁相&互关联提高信噪比\n",
    "通道1中的信号处理过程：\n",
    "$$\n",
    "\\frac12 e^{-i2\\pi ft}(iX_1(t) + Y_1(t)) = \\int \\frac{d\\omega}{2\\pi} e^{i\\omega t} (V(\\omega) + \\delta V_1(\\omega)) H(\\omega + 2\\pi f)\n",
    "$$\n",
    "\n",
    "通道2中的信号处理过程：\n",
    "$$\n",
    "\\frac12 e^{-i2\\pi ft}(iX_2(t) + Y_2(t)) = \\int \\frac{d\\omega}{2\\pi} e^{i\\omega t} (V(\\omega) + \\delta V_2(\\omega)) H(\\omega + 2\\pi f)\n",
    "$$\n",
    "\n",
    "1式乘以2式的共厄：\n",
    "$$\n",
    "\\frac14 \\int \\frac{dt}{t_f} (iX_1 + Y_1) (-iX_2 + Y_2) = \\int \\frac{d\\omega}{2\\pi} \\frac{|V(\\omega)|^2}{t_f} |H(\\omega + 2\\pi f)|^2 + \n",
    "\\int \\frac{d\\omega}{2\\pi t_f} ( V(\\omega)\\delta V_1 +  V(\\omega)\\delta V_2 +  \\delta V_1 \\delta V_2 ) |H(\\omega + 2\\pi f)|^2\n",
    "$$\n",
    "\n",
    "上式右边的第一项就是我们的目标噪声谱。上式右边的第二项是需要被消除的外界噪声，由于$V(\\omega)$、$\\delta V_1$、$\\delta V_2$三个电压源相互独立，所以相位没有关联，在滤波器$H(\\omega+2\\pi f)$的通带内对$\\omega$积分，三项的贡献趋近于0（准确地说，应该是长时间平均消去了后面三项。$t_f$越大，对电压作傅立叶变化后的频率分辨率越高，滤波器通带内的相位越混乱，积分就越趋近于0。不过，这只是定性地分析，由于时间关系，没有进一步做定量分析）。\n",
    "\n",
    "**Question：** \n",
    "\n",
    " - 看起来低通滤波器的带宽会影响多余噪声的消除效果，带宽越大，达到同样的信噪比所花的时间就越少。但同时，噪声谱的频率分辨率也会降低。那么该如何选择滤波器的带宽呢？\n",
    " \n",
    " - 另外，我们依然可以用FFT&交叉关联的方法来测量噪声，并提高信噪比。那么与这种长时间求平均的方式相比，达到相同信噪比，哪一种所花时间更少？或者两种方式等价？需要进一步思考。"
   ]
  },
  {
   "cell_type": "code",
   "execution_count": 1,
   "metadata": {},
   "outputs": [],
   "source": [
    "import numpy as np\n",
    "from scipy import signal\n",
    "import matplotlib.pyplot as plt\n",
    "from tqdm import tqdm\n",
    "from scipy import integrate"
   ]
  },
  {
   "cell_type": "markdown",
   "metadata": {},
   "source": [
    "## 1. 含有Shot Noise的电压信号\n",
    "$$\n",
    " V(t) = R\\sum D_n g(t-nT)\n",
    "$$"
   ]
  },
  {
   "cell_type": "code",
   "execution_count": 2,
   "metadata": {
    "scrolled": true
   },
   "outputs": [
    {
     "data": {
      "text/plain": [
       "[<matplotlib.lines.Line2D at 0x7f53384a7490>]"
      ]
     },
     "execution_count": 2,
     "metadata": {},
     "output_type": "execute_result"
    },
    {
     "data": {
      "image/png": "[encoded data removed]",
      "text/plain": [
       "<Figure size 432x288 with 1 Axes>"
      ]
     },
     "metadata": {
      "needs_background": "light"
     },
     "output_type": "display_data"
    }
   ],
   "source": [
    "def voltage_withNoise_func(t_vec):\n",
    "    def g_func(t_vec, T, V0):\n",
    "        output = V0*np.ones(t_vec.size)\n",
    "        #V(t>T) = 0\n",
    "        pos_vec, = np.where(t_vec > (T-1e-8)) #防止边界点被重复赋值\n",
    "        output[pos_vec] = 0\n",
    "        #V(t<0) = 0\n",
    "        pos_vec, = np.where(t_vec < -1e-8)\n",
    "        output[pos_vec] = 0\n",
    "        return output\n",
    "    #voltage source parameters\n",
    "    I0= 1\n",
    "    R = 1\n",
    "    V0= I0*R\n",
    "    f = 20\n",
    "    T = 1/f\n",
    "    D = 0.5\n",
    "    Q = I0*T\n",
    "    #produce signal\n",
    "    N = int((t_vec[-1]-t_vec[0])*f)\n",
    "    output = np.zeros(t_vec.size)\n",
    "    for n in range(-1, N+2):\n",
    "        if (np.random.random() < D): Dn = 1\n",
    "        else: Dn = 0\n",
    "        output = output + Dn*g_func(t_vec-n*T, T, V0)\n",
    "    return [output, Q, D, T, R]\n",
    "\n",
    "\n",
    "t_vec = np.linspace(0,5, 10001)\n",
    "plt.plot(t_vec, voltage_withNoise_func(t_vec)[0])"
   ]
  },
  {
   "cell_type": "markdown",
   "metadata": {},
   "source": [
    "## 2. 测量噪声谱"
   ]
  },
  {
   "cell_type": "markdown",
   "metadata": {},
   "source": [
    "### 2.1 采集卡 + FFT测量噪声"
   ]
  },
  {
   "cell_type": "code",
   "execution_count": 3,
   "metadata": {},
   "outputs": [],
   "source": [
    "def noiseSpectrum_func(t_vec, voltage_vec):\n",
    "    tf = t_vec[-1]-t_vec[0]\n",
    "    voltageFreq_vec = np.fft.fft(voltage_vec)[1:(t_vec.size//2+1)]\n",
    "    noiseSpectrum   = np.abs(voltageFreq_vec)**2*tf/t_vec.size**2\n",
    "    return noiseSpectrum"
   ]
  },
  {
   "cell_type": "code",
   "execution_count": 4,
   "metadata": {},
   "outputs": [
    {
     "name": "stderr",
     "output_type": "stream",
     "text": [
      "100%|██████████| 1000/1000 [00:37<00:00, 26.75it/s]\n"
     ]
    }
   ],
   "source": [
    "fs     = 1000\n",
    "tf     = 10\n",
    "Nt     = int(fs*tf) + 1\n",
    "t_vec  = np.linspace(0,tf, Nt)\n",
    "delta_t= 1 / fs\n",
    "\n",
    "N_exp  = 1000\n",
    "freq_vec = np.arange(1, Nt//2+1) / tf\n",
    "\n",
    "#read voltage data\n",
    "Sw_vec = np.zeros(Nt//2)\n",
    "for n in tqdm(range(N_exp)):\n",
    "    [voltage_vec,Q,D,T,R] = voltage_withNoise_func(t_vec)\n",
    "    Sw_vec      = Sw_vec + noiseSpectrum_func(t_vec, voltage_vec) / N_exp\n",
    "        \n",
    "\n",
    "#show result\n",
    "Si_vec          = Sw_vec / R**2\n",
    "Si_analytic_vec = Q**2*D*(1-D)/T*np.sinc(freq_vec*T)**2"
   ]
  },
  {
   "cell_type": "code",
   "execution_count": 5,
   "metadata": {},
   "outputs": [
    {
     "data": {
      "text/plain": [
       "<matplotlib.legend.Legend at 0x7f5338446f40>"
      ]
     },
     "execution_count": 5,
     "metadata": {},
     "output_type": "execute_result"
    },
    {
     "data": {
      "image/png": "[encoded data removed]",
      "text/plain": [
       "<Figure size 432x288 with 1 Axes>"
      ]
     },
     "metadata": {
      "needs_background": "light"
     },
     "output_type": "display_data"
    }
   ],
   "source": [
    "plt.plot(freq_vec*T,  Si_vec / (Q**2*D*(1-D)/T ), label='Experiment')\n",
    "plt.plot(freq_vec*T,  Si_analytic_vec/ (Q**2*D*(1-D)/T ), 'k--', label=r'$ \\mathrm{sinc}^2(\\frac{f}{f_0})$')\n",
    "plt.xlim([0,4])\n",
    "plt.ylim([0,1.2])\n",
    "plt.ylabel(r'$S_I \\ / \\ (Q^2D(1-D)/T)$', fontsize=13)\n",
    "plt.xlabel(r'$f\\ /\\ f_0$', fontsize=13)\n",
    "plt.legend(fontsize=13)\n",
    "#plt.savefig(\"shotNoise_simulationExperiment.png\", format='png', dpi=200)"
   ]
  },
  {
   "cell_type": "markdown",
   "metadata": {},
   "source": [
    "### 2.2 锁相放大器测量噪声"
   ]
  },
  {
   "cell_type": "code",
   "execution_count": 9,
   "metadata": {},
   "outputs": [],
   "source": [
    "def Lockin_XY_func(signal_vec, fs, freq, cutoff=100, order=8):\n",
    "    t_vec = np.linspace(0, len(signal_vec)/fs,len(signal_vec))      #时间坐标\n",
    "    sos   = signal.butter(order, cutoff, btype='low', fs=fs, output='sos')\n",
    "    sX    = 2*signal.sosfilt(sos, signal_vec*np.sin(2*np.pi*t_vec*freq))\n",
    "    sY    = 2*signal.sosfilt(sos, signal_vec*np.cos(2*np.pi*t_vec*freq))\n",
    "    return sX,sY\n",
    "\n",
    "def lowPassFilter_GainSquare_func(cutoff, order):\n",
    "    lp_b, lp_a = signal.butter(order, cutoff, 'low', analog=True)\n",
    "    int_f = lambda freq: np.abs(signal.freqs(lp_b, lp_a, freq)[1])**2\n",
    "    return 2*integrate.quad(int_f, 0, cutoff*10)[0]"
   ]
  },
  {
   "cell_type": "code",
   "execution_count": 10,
   "metadata": {},
   "outputs": [
    {
     "name": "stderr",
     "output_type": "stream",
     "text": [
      "100%|██████████| 101/101 [00:33<00:00,  3.05it/s]\n"
     ]
    }
   ],
   "source": [
    "[_,Q,D,T,R] = voltage_withNoise_func( np.linspace(0,1,11)) #获取信号源参数，确定扫描频率范围\n",
    "\n",
    "f0       = 1/T\n",
    "N_freq   = 101\n",
    "freq_vec = np.linspace(f0/10, f0*4, N_freq)\n",
    "Si_vec   = np.zeros(freq_vec.size)\n",
    "\n",
    "for n in tqdm(range(freq_vec.size)):\n",
    "    freq = freq_vec[n]\n",
    "    #voltage signal\n",
    "    tf   = 1000/freq\n",
    "    fs   = freq*20\n",
    "    t_vec= np.linspace(0, tf, int(fs*tf)+1)\n",
    "    voltage_vec = voltage_withNoise_func(t_vec)[0]\n",
    "    #lockin amplifer\n",
    "    cutoff= 1\n",
    "    order = 8\n",
    "    [sX, sY]      = Lockin_XY_func(voltage_vec, fs, freq, cutoff=cutoff, order=order)\n",
    "    #Gain square\n",
    "    Gain_square   = lowPassFilter_GainSquare_func(cutoff, order)\n",
    "    #get noise\n",
    "    voltage_noise = np.sum(sX**2 + sY**2)/t_vec.size/4/Gain_square\n",
    "    #current noise\n",
    "    Si_vec[n]     = voltage_noise / R**2\n",
    "\n",
    "Si_analytic_vec = Q**2*D*(1-D)/T*np.sinc(freq_vec*T)**2"
   ]
  },
  {
   "cell_type": "code",
   "execution_count": 11,
   "metadata": {
    "scrolled": true
   },
   "outputs": [
    {
     "data": {
      "text/plain": [
       "<matplotlib.legend.Legend at 0x7f533847a880>"
      ]
     },
     "execution_count": 11,
     "metadata": {},
     "output_type": "execute_result"
    },
    {
     "data": {
      "image/png": "[encoded data removed]",
      "text/plain": [
       "<Figure size 432x288 with 1 Axes>"
      ]
     },
     "metadata": {
      "needs_background": "light"
     },
     "output_type": "display_data"
    }
   ],
   "source": [
    "%matplotlib inline\n",
    "plt.plot(freq_vec*T,  Si_vec / (Q**2*D*(1-D)/T ), 'o', c='C1', label='Experiment')\n",
    "plt.plot(freq_vec*T,  Si_analytic_vec/ (Q**2*D*(1-D)/T ), '--', c='C0', lw=2, label=r'$ \\mathrm{sinc}^2(\\frac{f}{f_0})$')\n",
    "plt.xlim([0,4])\n",
    "plt.ylim([0,1.2])\n",
    "plt.ylabel(r'$S_I \\ / \\ (Q^2D(1-D)/T)$', fontsize=13)\n",
    "plt.xlabel(r'$f\\ /\\ f_0$', fontsize=13)\n",
    "plt.legend(fontsize=13)\n",
    "#plt.savefig(\"shotNoise_simulationExperiment.png\", format='png', dpi=200)"
   ]
  },
  {
   "cell_type": "markdown",
   "metadata": {},
   "source": [
    "### 2.3 锁相放大器&交叉关联测量噪声"
   ]
  },
  {
   "cell_type": "markdown",
   "metadata": {},
   "source": [
    "在下面的模拟中，我们同样使用函数 voltage_withNoise_func(t) 来生成两个通道的多余噪声。为了对比，首先使用单通道测量，再进行双通道互关联测量。可以看到，单通道测量中，测量结果比理论值大了一倍（符合预期）。"
   ]
  },
  {
   "cell_type": "markdown",
   "metadata": {},
   "source": [
    "#### 2.3.1 单通道测量"
   ]
  },
  {
   "cell_type": "code",
   "execution_count": 14,
   "metadata": {},
   "outputs": [
    {
     "name": "stderr",
     "output_type": "stream",
     "text": [
      "100%|██████████| 101/101 [00:55<00:00,  1.81it/s]\n"
     ]
    }
   ],
   "source": [
    "[_,Q,D,T,R] = voltage_withNoise_func( np.linspace(0,1,11)) #获取信号源参数，确定扫描频率范围\n",
    "\n",
    "f0       = 1/T\n",
    "N_freq   = 101\n",
    "freq_vec = np.linspace(f0/10, f0*4, N_freq)\n",
    "Si_vec   = np.zeros(freq_vec.size)\n",
    "\n",
    "for n in tqdm(range(freq_vec.size)):\n",
    "    freq = freq_vec[n]\n",
    "    #voltage signal\n",
    "    tf   = 1000/freq\n",
    "    fs   = freq*20\n",
    "    t_vec= np.linspace(0, tf, int(fs*tf)+1)\n",
    "    voltage_vec = voltage_withNoise_func(t_vec)[0]\n",
    "    noise_vec   = voltage_withNoise_func(t_vec)[0]\n",
    "    #lockin amplifer\n",
    "    cutoff= 1\n",
    "    order = 8\n",
    "    [sX, sY]      = Lockin_XY_func(voltage_vec+noise_vec, fs, freq, cutoff=cutoff, order=order)\n",
    "    \n",
    "    #Gain square\n",
    "    Gain_square   = lowPassFilter_GainSquare_func(cutoff, order)\n",
    "    \n",
    "    #get noise\n",
    "    voltage_noise = np.sum( sX**2+sY**2 )/t_vec.size/4/Gain_square\n",
    "    #current noise\n",
    "    Si_vec[n]     = voltage_noise / R**2\n",
    "\n",
    "Si_analytic_vec = 2*Q**2*D*(1-D)/T*np.sinc(freq_vec*T)**2"
   ]
  },
  {
   "cell_type": "code",
   "execution_count": 12,
   "metadata": {},
   "outputs": [
    {
     "data": {
      "text/plain": [
       "<matplotlib.legend.Legend at 0x7f5337a7b8b0>"
      ]
     },
     "execution_count": 12,
     "metadata": {},
     "output_type": "execute_result"
    },
    {
     "data": {
      "image/png": "[encoded data removed]",
      "text/plain": [
       "<Figure size 432x288 with 1 Axes>"
      ]
     },
     "metadata": {
      "needs_background": "light"
     },
     "output_type": "display_data"
    }
   ],
   "source": [
    "#==== plot ====\n",
    "%matplotlib inline\n",
    "plt.plot(freq_vec*T,  Si_vec / (2*Q**2*D*(1-D)/T ), 'o', c='C1', label='Experiment')\n",
    "plt.plot(freq_vec*T,  Si_analytic_vec/ (2*Q**2*D*(1-D)/T ), '--', c='C0', lw=2, label=r'$ \\mathrm{sinc}^2(\\frac{f}{f_0})$')\n",
    "plt.xlim([0,4.0])\n",
    "#plt.ylim([-0.01,0.01])\n",
    "plt.ylabel(r'$S_I \\ / \\ (Q^2D(1-D)/T)$', fontsize=13)\n",
    "plt.xlabel(r'$f\\ /\\ f_0$', fontsize=13)\n",
    "plt.legend(fontsize=13)"
   ]
  },
  {
   "cell_type": "markdown",
   "metadata": {},
   "source": [
    "#### 2.3.2 双通道测量"
   ]
  },
  {
   "cell_type": "code",
   "execution_count": 13,
   "metadata": {},
   "outputs": [
    {
     "name": "stderr",
     "output_type": "stream",
     "text": [
      "100%|██████████| 101/101 [01:26<00:00,  1.17it/s]\n"
     ]
    }
   ],
   "source": [
    "[_,Q,D,T,R] = voltage_withNoise_func( np.linspace(0,1,11)) #获取信号源参数，确定扫描频率范围\n",
    "\n",
    "f0       = 1/T\n",
    "N_freq   = 101\n",
    "freq_vec = np.linspace(f0/10, f0*4, N_freq)\n",
    "Si_vec   = np.zeros(freq_vec.size, dtype=complex)\n",
    "\n",
    "for n in tqdm(range(freq_vec.size)):\n",
    "    freq = freq_vec[n]\n",
    "    #voltage signal\n",
    "    tf   = 1000/freq\n",
    "    fs   = freq*20\n",
    "    t_vec= np.linspace(0, tf, int(fs*tf)+1)\n",
    "    voltage_vec = voltage_withNoise_func(t_vec)[0]\n",
    "    noise1_vec  = voltage_withNoise_func(t_vec)[0]\n",
    "    noise2_vec  = voltage_withNoise_func(t_vec)[0]\n",
    "    #lockin amplifer\n",
    "    cutoff= 1\n",
    "    order = 8\n",
    "    [sX1, sY1]      = Lockin_XY_func(voltage_vec+noise1_vec, fs, freq, cutoff=cutoff, order=order)\n",
    "    [sX2, sY2]      = Lockin_XY_func(voltage_vec+noise2_vec, fs, freq, cutoff=cutoff, order=order)\n",
    "    \n",
    "    #Gain square\n",
    "    Gain_square   = lowPassFilter_GainSquare_func(cutoff, order)\n",
    "    \n",
    "    #get noise\n",
    "    voltage_noise = np.sum( (1j*sX1+sY1)*(-1j*sX2+sY2) )/t_vec.size/4/Gain_square\n",
    "    #current noise\n",
    "    Si_vec[n]     = voltage_noise / R**2\n",
    "\n",
    "Si_analytic_vec = Q**2*D*(1-D)/T*np.sinc(freq_vec*T)**2"
   ]
  },
  {
   "cell_type": "code",
   "execution_count": 17,
   "metadata": {},
   "outputs": [
    {
     "data": {
      "text/plain": [
       "<matplotlib.legend.Legend at 0x7f638043a730>"
      ]
     },
     "execution_count": 17,
     "metadata": {},
     "output_type": "execute_result"
    },
    {
     "data": {
      "image/png": "[encoded data removed]",
      "text/plain": [
       "<Figure size 432x288 with 1 Axes>"
      ]
     },
     "metadata": {
      "needs_background": "light"
     },
     "output_type": "display_data"
    }
   ],
   "source": [
    "%matplotlib inline\n",
    "plt.plot(freq_vec*T,  Si_vec.real / (Q**2*D*(1-D)/T ), 'o', label='Real')\n",
    "plt.plot(freq_vec*T,  Si_vec.imag / (Q**2*D*(1-D)/T ), 'o', label='Imag')\n",
    "\n",
    "plt.plot(freq_vec*T,  Si_analytic_vec/ (Q**2*D*(1-D)/T ), '--', c='C0', lw=2, label=r'$ \\mathrm{sinc}^2(\\frac{f}{f_0})$')\n",
    "plt.xlim([0,4.0])\n",
    "#plt.ylim([-0.01,0.01])\n",
    "plt.ylabel(r'$S_I \\ / \\ (Q^2D(1-D)/T)$', fontsize=13)\n",
    "plt.xlabel(r'$f\\ /\\ f_0$', fontsize=13)\n",
    "plt.legend(fontsize=13)"
   ]
  },
  {
   "cell_type": "markdown",
   "metadata": {},
   "source": [
    "# 其他\n",
    "\n",
    "## 测试Gain平方积分\n",
    "\n",
    "用一阶RC低通滤波器测试scipy.signal.freqs使用是否正确"
   ]
  },
  {
   "cell_type": "code",
   "execution_count": 11,
   "metadata": {},
   "outputs": [
    {
     "name": "stdout",
     "output_type": "stream",
     "text": [
      "Gain Square (Scipy):  17.653532091644824\n",
      "Gain Square (My)   :  17.653532091644824\n"
     ]
    }
   ],
   "source": [
    "def lowPassFilter_GainSquare_func(cutoff, order):\n",
    "    lp_b, lp_a = signal.butter(order, cutoff, 'low', analog=True)\n",
    "    int_f = lambda freq: np.abs(signal.freqs(lp_b, lp_a, freq)[1])**2\n",
    "    return integrate.quad(int_f, 0, cutoff*10)[0]\n",
    "    \n",
    "def myFilter_func(cutoff):\n",
    "    omega0  = 2*np.pi*cutoff\n",
    "    int_f = lambda freq: 1/(1+(freq/cutoff)**2)\n",
    "    return integrate.quad(int_f, 0, 10*cutoff)[0]\n",
    "\n",
    "#scipy lfilter\n",
    "cutoff  = 12\n",
    "print(\"Gain Square (Scipy): \", lowPassFilter_GainSquare_func(cutoff, 1))\n",
    "print(\"Gain Square (My)   : \", myFilter_func(cutoff))"
   ]
  }
 ],
 "metadata": {
  "kernelspec": {
   "display_name": "Python 3",
   "language": "python",
   "name": "python3"
  },
  "language_info": {
   "codemirror_mode": {
    "name": "ipython",
    "version": 3
   },
   "file_extension": ".py",
   "mimetype": "text/x-python",
   "name": "python",
   "nbconvert_exporter": "python",
   "pygments_lexer": "ipython3",
   "version": "3.8.1"
  }
 },
 "nbformat": 4,
 "nbformat_minor": 4
}
