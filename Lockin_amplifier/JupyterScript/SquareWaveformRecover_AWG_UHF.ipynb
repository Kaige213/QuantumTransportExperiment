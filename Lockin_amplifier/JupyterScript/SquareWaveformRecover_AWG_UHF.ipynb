{
 "cells": [
  {
   "cell_type": "markdown",
   "metadata": {},
   "source": [
    "注意：\n",
    "\n",
    "   - UHF 采样率在439.5k时，是连续采样\n",
    "  \n",
    "   - tf=1e-3，frq必须是kHz的整数倍！否则AWG输出的就不是严格的周期函数"
   ]
  },
  {
   "cell_type": "code",
   "execution_count": 1,
   "metadata": {},
   "outputs": [],
   "source": [
    "import visa\n",
    "import zhinst.utils\n",
    "import numpy as np\n",
    "from tqdm import tqdm\n",
    "import matplotlib.pyplot as plt\n",
    "import time\n",
    "# from scipy.optimize import curve_fit\n",
    "# from scipy import signal\n",
    "# from scipy import integrate\n",
    "# from scipy.integrate import simps\n",
    "#from __future__ import print_function"
   ]
  },
  {
   "cell_type": "markdown",
   "metadata": {},
   "source": [
    "# 定义平滑后的方波"
   ]
  },
  {
   "cell_type": "code",
   "execution_count": 2,
   "metadata": {
    "scrolled": false
   },
   "outputs": [
    {
     "data": {
      "text/plain": [
       "[<matplotlib.lines.Line2D at 0x1e67f475400>]"
      ]
     },
     "execution_count": 2,
     "metadata": {},
     "output_type": "execute_result"
    },
    {
     "data": {
      "image/png": "[encoded data removed]",
      "text/plain": [
       "<Figure size 432x288 with 1 Axes>"
      ]
     },
     "metadata": {
      "needs_background": "light"
     },
     "output_type": "display_data"
    }
   ],
   "source": [
    "def squareSmooth_func(t_vec, T, V0):\n",
    "    delta_t  = T/50\n",
    "    return 1/(1+np.exp( (t_vec-T/4*3)/delta_t)) * (1 - 1/(1+np.exp( (t_vec-T/4)/delta_t)) ) * V0\n",
    "\n",
    "T                = 1\n",
    "V0               = 1\n",
    "t_vec            = np.linspace(0,1,1001)\n",
    "squareSingle_vec = squareSmooth_func(t_vec, T, V0)\n",
    "\n",
    "plt.plot(t_vec, squareSingle_vec)"
   ]
  },
  {
   "cell_type": "code",
   "execution_count": 3,
   "metadata": {},
   "outputs": [],
   "source": [
    "def squarePeriodic_func(t_vec, T, V0):\n",
    "    N_period = int(float(np.round( ( (t_vec[-1] - t_vec[0]) / T ) )))\n",
    "    N_singleT= int( t_vec.size / N_period)\n",
    "    \n",
    "    #定义单个周期中的信号\n",
    "    tSingle_vec = np.linspace(0, T, N_singleT+1)[:-1] #扔掉末尾的点\n",
    "    VSingle_vec = squareSmooth_func(tSingle_vec, T, V0)\n",
    "    \n",
    "    #将所有周期的信号连接起来\n",
    "    output = np.array([])\n",
    "    for n in range(N_period):\n",
    "        output = np.concatenate( (output, VSingle_vec) )\n",
    "        \n",
    "    return output"
   ]
  },
  {
   "cell_type": "code",
   "execution_count": 4,
   "metadata": {},
   "outputs": [
    {
     "data": {
      "text/plain": [
       "[<matplotlib.lines.Line2D at 0x1e67f7b33c8>]"
      ]
     },
     "execution_count": 4,
     "metadata": {},
     "output_type": "execute_result"
    },
    {
     "data": {
      "image/png": "[encoded data removed]",
      "text/plain": [
       "<Figure size 432x288 with 1 Axes>"
      ]
     },
     "metadata": {
      "needs_background": "light"
     },
     "output_type": "display_data"
    }
   ],
   "source": [
    "T     = 1\n",
    "V0    = 0.2\n",
    "t_vec = np.linspace(0, 3,3001)[:-1]\n",
    "\n",
    "plt.plot(t_vec, squarePeriodic_func(t_vec, T, V0))\n",
    "#plt.xlim([0,0.3e-4])"
   ]
  },
  {
   "cell_type": "markdown",
   "metadata": {},
   "source": [
    "# AWG"
   ]
  },
  {
   "cell_type": "code",
   "execution_count": 5,
   "metadata": {},
   "outputs": [
    {
     "name": "stdout",
     "output_type": "stream",
     "text": [
      "Connected to  TEKTRONIX,AWG70002A,B020178,FV:5.0.0112\n"
     ]
    },
    {
     "data": {
      "text/plain": [
       "(4, <StatusCode.success: 0>)"
      ]
     },
     "execution_count": 5,
     "metadata": {},
     "output_type": "execute_result"
    }
   ],
   "source": [
    "# Set up VISA instrument object\n",
    "rm = visa.ResourceManager()\n",
    "awg = rm.open_resource('TCPIP0::169.254.102.2::inst0::INSTR')\n",
    "\n",
    "#==== 初始化仪器 ====\n",
    "awg.timeout = 25000\n",
    "awg.encoding = 'latin_1'\n",
    "awg.write_termination = None\n",
    "awg.read_termination = '\\n'\n",
    "print('Connected to ', awg.query('*idn?'))\n",
    "awg.write('*rst')\n",
    "awg.write('*cls')"
   ]
  },
  {
   "cell_type": "code",
   "execution_count": 6,
   "metadata": {},
   "outputs": [],
   "source": [
    "def AWG_read_check():\n",
    "    awg.query('*opc?')"
   ]
  },
  {
   "cell_type": "code",
   "execution_count": 7,
   "metadata": {},
   "outputs": [],
   "source": [
    "def setWfm_func(awg, wfm_name, recordLength, wfmData, N_output):\n",
    "    #==== 将波形数据发送给仪器 ====\n",
    "    # Send Waveform Data\n",
    "    awg.write('wlist:waveform:new \"{}\", {}'.format(wfm_name, recordLength))\n",
    "    stringArg = 'wlist:waveform:data \"{}\", 0, {}, '.format(wfm_name, recordLength)\n",
    "    awg.write_binary_values(stringArg, wfmData*4)\n",
    "    #暂时不知道为什么波形数据需要乘以4，AWG才能输出正常的幅值\n",
    "    awg.query('*opc?')\n",
    "\n",
    "    # Load waveform, being playback, and turn on output\n",
    "    awg.write( ('source%d:waveform \"{}\"'%(N_output)).format(wfm_name) )\n",
    "    awg.write('awgcontrol:run:immediate')\n",
    "    awg.query('*opc?')\n",
    "    awg.write('output%d on'%(N_output))\n",
    "    awg.query('*opc?')\n",
    "\n",
    "    # Check for errors\n",
    "    error = awg.query('system:error:all?')\n",
    "    #print('Status: {}'.format(error))"
   ]
  },
  {
   "cell_type": "markdown",
   "metadata": {},
   "source": [
    "## Parameters\n",
    "\n",
    "注意，tf=1e-3，frq必须是kHz的整数倍！否则AWG输出的就不是严格的周期函数"
   ]
  },
  {
   "cell_type": "code",
   "execution_count": 8,
   "metadata": {},
   "outputs": [
    {
     "data": {
      "text/plain": [
       "(18, <StatusCode.success: 0>)"
      ]
     },
     "execution_count": 8,
     "metadata": {},
     "output_type": "execute_result"
    }
   ],
   "source": [
    "#set parameters\n",
    "freq_square  = 0.2e6   #测量频率\n",
    "sampleRate   = 10e9\n",
    "tf           = 1e-3\n",
    "recordLength = int(tf*sampleRate)\n",
    "t_vec        = np.linspace(0, tf, (recordLength+1), dtype=np.float32)[:-1]  #扔掉末尾的点\n",
    "\n",
    "\n",
    "#set sampleRate\n",
    "awg.write(\"FREQ \"+str(sampleRate))"
   ]
  },
  {
   "cell_type": "markdown",
   "metadata": {},
   "source": [
    "## 输出方波"
   ]
  },
  {
   "cell_type": "code",
   "execution_count": 9,
   "metadata": {},
   "outputs": [],
   "source": [
    "#生成伪噪声波形\n",
    "wfm_name  = 'Square_wfm'\n",
    "N_output  = 1\n",
    "\n",
    "# Create Waveform\n",
    "V0      = 0.2\n",
    "T       = 1/freq_square\n",
    "wfmData = squarePeriodic_func(t_vec, T, V0)"
   ]
  },
  {
   "cell_type": "code",
   "execution_count": 10,
   "metadata": {},
   "outputs": [
    {
     "data": {
      "text/plain": [
       "[<matplotlib.lines.Line2D at 0x1e60f223080>]"
      ]
     },
     "execution_count": 10,
     "metadata": {},
     "output_type": "execute_result"
    },
    {
     "data": {
      "image/png": "[encoded data removed]",
      "text/plain": [
       "<Figure size 432x288 with 1 Axes>"
      ]
     },
     "metadata": {
      "needs_background": "light"
     },
     "output_type": "display_data"
    }
   ],
   "source": [
    "#%matplotlib auto\n",
    "plt.plot(t_vec, wfmData)\n",
    "#plt.xlim([1e-3-2e-4,1e-3])"
   ]
  },
  {
   "cell_type": "code",
   "execution_count": 11,
   "metadata": {},
   "outputs": [
    {
     "data": {
      "text/plain": [
       "'1'"
      ]
     },
     "execution_count": 11,
     "metadata": {},
     "output_type": "execute_result"
    }
   ],
   "source": [
    "#==== 将波形数据发送给仪器 ====\n",
    "if (wfm_name in awg.query('WLIST:LIST?')):\n",
    "    awg.write('AWGCONTROL:STOP:IMMEDIATE')\n",
    "    awg.write('WLIST:WAVEFORM:DELETE \"%s\"'%wfm_name)\n",
    "    awg.query('*opc?')\n",
    "setWfm_func(awg, wfm_name, recordLength, wfmData, N_output)\n",
    "awg.query('*opc?')\n",
    "#time.sleep(2)"
   ]
  },
  {
   "cell_type": "markdown",
   "metadata": {},
   "source": [
    "## 输出参照信号"
   ]
  },
  {
   "cell_type": "code",
   "execution_count": 12,
   "metadata": {},
   "outputs": [],
   "source": [
    "def AWG_squareReference_seting(n_index):\n",
    "    #生成参照信号\n",
    "    wfm_name  = 'ref_wfm'\n",
    "    N_output  = 2\n",
    "\n",
    "    ref_freq = n_index * freq_square\n",
    "    ref_T    = 1 / ref_freq\n",
    "    V0_ref   = 0.4\n",
    "    \n",
    "    #\n",
    "    t_vec     = np.linspace(0, tf, (recordLength+1), dtype=np.float32)[:-1]  #扔掉末尾的点\n",
    "    dt        = t_vec[1]-t_vec[0]\n",
    "    wfmData   = np.zeros(t_vec.size)\n",
    "    \n",
    "    #initiate time flag\n",
    "    time_new  = 0\n",
    "    time_old  = 0\n",
    "    pos_new   = 0\n",
    "    pos_old   = 0\n",
    "    \n",
    "    while True:\n",
    "        time_new   = time_new + ref_T/2\n",
    "        if (time_new > tf):\n",
    "            wfmData[pos_old:] = 0.5*V0_ref\n",
    "            break\n",
    "        #find pos\n",
    "        pos_new                  = int(time_new / dt)\n",
    "        wfmData[pos_old:pos_new] = 0.5*V0_ref\n",
    "        V0_ref                   = -1*V0_ref\n",
    "        #refresh pos_old\n",
    "        pos_old = pos_new\n",
    "            \n",
    "    #==== 将波形数据发送给仪器 ====\n",
    "    if (wfm_name in awg.query('WLIST:LIST?')):\n",
    "        awg.write('AWGCONTROL:STOP:IMMEDIATE')\n",
    "        awg.write('WLIST:WAVEFORM:DELETE \"%s\"'%wfm_name)\n",
    "        awg.query('*opc?')\n",
    "    setWfm_func(awg, wfm_name, recordLength, wfmData, N_output)\n",
    "    awg.query('*opc?')"
   ]
  },
  {
   "cell_type": "code",
   "execution_count": 13,
   "metadata": {},
   "outputs": [],
   "source": [
    "AWG_squareReference_seting(7)"
   ]
  },
  {
   "cell_type": "markdown",
   "metadata": {},
   "source": [
    "# UHF"
   ]
  },
  {
   "cell_type": "code",
   "execution_count": 14,
   "metadata": {},
   "outputs": [
    {
     "name": "stdout",
     "output_type": "stream",
     "text": [
      "Discovered device `dev2374`: UHFLI with options .\n",
      "Creating an API session for device `dev2374` on `127.0.0.1`, `8004` with apilevel `6`.\n"
     ]
    }
   ],
   "source": [
    "device_id    = 'dev2374'\n",
    "apilevel     = 6\n",
    "(daq, device, _) = zhinst.utils.create_api_session(device_id, apilevel)\n",
    "_=zhinst.utils.disable_everything(daq, device)"
   ]
  },
  {
   "cell_type": "code",
   "execution_count": 15,
   "metadata": {},
   "outputs": [],
   "source": [
    "def ziDAQ(double_or_int, path, value):\n",
    "    if (double_or_int == 'setDouble'): daq.setDouble(path, value)\n",
    "    if (double_or_int == 'setInt'):    daq.setDouble(path, value)\n",
    "\n",
    "def UHF_ready_check():\n",
    "    zhinst.utils.api_server_version_check(daq)"
   ]
  },
  {
   "cell_type": "markdown",
   "metadata": {},
   "source": [
    "## Input Channel Setting"
   ]
  },
  {
   "cell_type": "markdown",
   "metadata": {},
   "source": [
    "### Signal Channel"
   ]
  },
  {
   "cell_type": "code",
   "execution_count": 16,
   "metadata": {},
   "outputs": [],
   "source": [
    "#input channel\n",
    "ziDAQ('setInt', '/dev2374/sigins/0/imp50', 1)\n",
    "ziDAQ('setInt', '/dev2374/sigins/0/ac', 0)\n",
    "ziDAQ('setInt', '/dev2374/sigins/0/autorange', 1)\n",
    "\n",
    "#lockin channel\n",
    "ziDAQ('setInt', '/dev2374/demods/0/order', 4)\n",
    "ziDAQ('setDouble', '/dev2374/demods/0/timeconstant', 0.1)\n",
    "\n",
    "#data transfer\n",
    "ziDAQ('setInt', '/dev2374/demods/0/enable', 1);\n",
    "ziDAQ('setDouble', '/dev2374/demods/0/rate', 439.5e3)\n",
    "\n",
    "UHF_ready_check()"
   ]
  },
  {
   "cell_type": "markdown",
   "metadata": {},
   "source": [
    "### Reference Channel"
   ]
  },
  {
   "cell_type": "code",
   "execution_count": 17,
   "metadata": {},
   "outputs": [],
   "source": [
    "#input channel\n",
    "ziDAQ('setInt', '/dev2374/demods/3/adcselect', 2)\n",
    "ziDAQ('setInt', '/dev2374/extrefs/0/enable', 1)\n",
    "\n",
    "UHF_ready_check()"
   ]
  },
  {
   "cell_type": "code",
   "execution_count": 18,
   "metadata": {},
   "outputs": [],
   "source": [
    "def readBiChannelXY_func(timeLength=1, average=True):\n",
    "    # Unsubscribe any streaming data.\n",
    "    daq.unsubscribe('*')\n",
    "\n",
    "    # Perform a global synchronisation between the device and the data server:\n",
    "    # Ensure that 1. the settings have taken effect on the device before issuing\n",
    "    # the poll() command and 2. clear the API's data buffers. Note: the sync()\n",
    "    # must be issued after waiting for the demodulator filter to settle above.\n",
    "    daq.sync()\n",
    "\n",
    "    # Subscribe to the demodulator's sample node path.\n",
    "    path1 = '/dev2374/demods/0/sample'\n",
    "    daq.subscribe(path1) #UHF的DEMOD0从这里开始记录数据 \n",
    "    path2 = '/dev2374/demods/4/sample'\n",
    "    daq.subscribe(path2) #UHF的DEMOD4从这里开始记录数据\n",
    "    \n",
    "    #poll data\n",
    "    # Poll the subscribed data from the data server. Poll will block and record\n",
    "    # for poll_length seconds.\n",
    "    poll_length = timeLength  # [s]\n",
    "    poll_timeout = 500  # [ms]\n",
    "    poll_flags = 0\n",
    "    poll_return_flat_dict = True\n",
    "\n",
    "    sample = daq.poll(poll_length, poll_timeout, poll_flags, poll_return_flat_dict)\n",
    "    \n",
    "    # Unsubscribe from all paths.\n",
    "    daq.unsubscribe('*')\n",
    "    \n",
    "    #data\n",
    "    X1_vec  = sample[path1]['x']*np.sqrt(2) \n",
    "    Y1_vec  = sample[path1]['y']*np.sqrt(2)\n",
    "    #时间坐标\n",
    "    timestamp1 = sample[path1]['timestamp']\n",
    "    timestamp0 = timestamp1[0]\n",
    "    clockbase  = float(daq.getInt('/dev2374/clockbase'))\n",
    "    t1_vec     = (timestamp1 - timestamp0)/clockbase\n",
    "    \n",
    "    if (average == True): return [np.average(X1_vec),np.average(Y1_vec)]\n",
    "    else:                 return [t1_vec, X1_vec, Y1_vec]"
   ]
  },
  {
   "cell_type": "code",
   "execution_count": 19,
   "metadata": {},
   "outputs": [],
   "source": [
    "scope_length = 2**16\n",
    "scope_time   = 16\n",
    "in_channel   = 0\n",
    "\n",
    "#==========================================================================\n",
    "# Configure the scope and obtain data with triggering disabled.\n",
    "daq.setInt('/%s/scopes/0/length' % device, scope_length)\n",
    "daq.setInt('/%s/scopes/0/channel' % device, 1)\n",
    "daq.setInt('/%s/scopes/0/channels/%d/bwlimit' % (device, in_channel), 1)\n",
    "daq.setInt('/%s/scopes/0/channels/%d/inputselect' % (device, in_channel), 0)\n",
    "daq.setInt('/%s/scopes/0/single' % device, 1)\n",
    "daq.setInt('/%s/scopes/0/time' % device, scope_time)\n",
    "daq.setInt('/%s/scopes/0/segments/count' % device, 1)\n",
    "\n",
    "\n",
    "#trigger\n",
    "daq.setInt('/%s/scopes/0/trigenable' % device, 0)\n",
    "daq.setDouble('/%s/scopes/0/trigholdoff' % device, 0.050)\n",
    "daq.setInt('/%s/scopes/0/segments/enable' % device, 0)\n",
    "daq.sync()\n",
    "\n",
    "#==========================================================================\n",
    "# Now initialize and configure the Scope Module.\n",
    "scopeModule = daq.scopeModule()\n",
    "scopeModule.set('mode', 1)\n",
    "scopeModule.set('averager/weight', 1) #   weight=1 - don't average.\n",
    "scopeModule.set('historylength', 1)\n",
    "scopeModule.subscribe('/dev2374/scopes/0/wave')\n",
    "\n",
    "def readScope_func():\n",
    "    #zhinst.utils.sigin_autorange(daq, device, in_channel) #调整输入端的range（ADC前的放大器）\n",
    "    # Tell the module to be ready to acquire data; reset the module's progress to 0.0.\n",
    "    scopeModule.execute()\n",
    "\n",
    "    # Enable the scope: Now the scope is ready to record data upon receiving triggers.\n",
    "    daq.setInt('/%s/scopes/0/enable' % device, 1)\n",
    "    daq.sync()\n",
    "\n",
    "    start = time.time()\n",
    "    timeout = 5  # [s]\n",
    "    records = 0\n",
    "    # Wait until the Scope Module has received and processed the desired number of records.\n",
    "    while (records < 1):\n",
    "        time.sleep(0.1)\n",
    "        records = scopeModule.getInt(\"records\")\n",
    "        #progress = scopeModule.progress()[0]\n",
    "        if (time.time() - start) > timeout:\n",
    "            print(\"\\nTimeout!\\n\")\n",
    "            break    \n",
    "\n",
    "    # Stop the module; to use it again we need to call execute().\n",
    "    scopeModule.finish()  #在读取数据前停止module，防止继续读取数据\n",
    "\n",
    "    # Read out the scope data from the module.\n",
    "    daq.setInt('/%s/scopes/0/enable' % device, 0)\n",
    "\n",
    "\n",
    "    data_return = scopeModule.read(True)['/dev2374/scopes/0/wave']\n",
    "    voltage_vec = data_return[0][0]['wave'][0]\n",
    "    delta_t     = data_return[0][0]['dt']\n",
    "    t_vec       = delta_t*np.arange(0,len(voltage_vec))\n",
    "    return [t_vec, voltage_vec]"
   ]
  },
  {
   "cell_type": "markdown",
   "metadata": {},
   "source": [
    "## UHF-Lockin Test"
   ]
  },
  {
   "cell_type": "code",
   "execution_count": 20,
   "metadata": {},
   "outputs": [
    {
     "name": "stdout",
     "output_type": "stream",
     "text": [
      "X=0.093 mV Y=4.514 mV\n"
     ]
    }
   ],
   "source": [
    "#XY from lockin-amplifer\n",
    "[X, Y] = readBiChannelXY_func(timeLength=1)\n",
    "print(\"X=%.3f mV\"%(X/np.sqrt(2)*1e3), \"Y=%.3f mV\"%(Y/np.sqrt(2)*1e3) )"
   ]
  },
  {
   "cell_type": "markdown",
   "metadata": {},
   "source": [
    "# Measure Cn"
   ]
  },
  {
   "cell_type": "code",
   "execution_count": 21,
   "metadata": {},
   "outputs": [],
   "source": [
    "Nn     = 8\n",
    "Cn_vec = np.zeros(Nn, dtype=complex)"
   ]
  },
  {
   "cell_type": "code",
   "execution_count": 22,
   "metadata": {},
   "outputs": [],
   "source": [
    "#DC measurement\n",
    "[t_vec, voltage_vec] = readScope_func()\n",
    "Cn_vec[0] = np.average(voltage_vec)"
   ]
  },
  {
   "cell_type": "code",
   "execution_count": 23,
   "metadata": {},
   "outputs": [
    {
     "name": "stderr",
     "output_type": "stream",
     "text": [
      "100%|████████████████████████████████████████████████████████████████████████████████████| 7/7 [01:14<00:00, 10.71s/it]\n"
     ]
    }
   ],
   "source": [
    "#AC measurement\n",
    "for n in tqdm(range(1,Nn)):\n",
    "    #set refence signal\n",
    "    n_index = n\n",
    "    AWG_squareReference_seting(n_index)\n",
    "    AWG_read_check()\n",
    "    time.sleep(2)\n",
    "    \n",
    "    #measure Cn\n",
    "    #UHF_ready_check()\n",
    "    [X, Y]    = readBiChannelXY_func(timeLength=5)\n",
    "    Cn_vec[n] = 0.5j*X + 0.5*Y\n",
    "    time.sleep(2)"
   ]
  },
  {
   "cell_type": "markdown",
   "metadata": {},
   "source": [
    "# Signal Recover"
   ]
  },
  {
   "cell_type": "code",
   "execution_count": 24,
   "metadata": {},
   "outputs": [],
   "source": [
    "t_vec             = np.linspace(0,1e-5,1001)[:-1]\n",
    "squareRecover_vec = np.zeros(t_vec.size)\n",
    "\n",
    "#DC recover\n",
    "squareRecover_vec = squareRecover_vec + Cn_vec[0]\n",
    "\n",
    "#AC recover\n",
    "for n in range(1, Cn_vec.size):\n",
    "    omega             = 2*np.pi*freq_square\n",
    "    Cn                = Cn_vec[n]\n",
    "    squareRecover_vec = squareRecover_vec + np.exp(-1j*n*omega*t_vec) * Cn + np.exp(1j*n*omega*t_vec) * Cn.conj()"
   ]
  },
  {
   "cell_type": "code",
   "execution_count": 25,
   "metadata": {
    "scrolled": false
   },
   "outputs": [
    {
     "data": {
      "image/png": "[encoded data removed]",
      "text/plain": [
       "<Figure size 432x288 with 1 Axes>"
      ]
     },
     "metadata": {
      "needs_background": "light"
     },
     "output_type": "display_data"
    }
   ],
   "source": [
    "plt.plot(t_vec*1e3, squareRecover_vec.real, '--', label='Recovers')\n",
    "plt.plot(t_vec*1e3, squarePeriodic_func(t_vec, T, V0))\n",
    "plt.xlabel('Time (ms)')\n",
    "plt.legend()\n",
    "plt.savefig(\"pic_name.png\", format='png', dpi=200)\n",
    "#plt.xlim([0,10])"
   ]
  }
 ],
 "metadata": {
  "kernelspec": {
   "display_name": "Python 3",
   "language": "python",
   "name": "python3"
  },
  "language_info": {
   "codemirror_mode": {
    "name": "ipython",
    "version": 3
   },
   "file_extension": ".py",
   "mimetype": "text/x-python",
   "name": "python",
   "nbconvert_exporter": "python",
   "pygments_lexer": "ipython3",
   "version": "3.7.9"
  }
 },
 "nbformat": 4,
 "nbformat_minor": 2
}
