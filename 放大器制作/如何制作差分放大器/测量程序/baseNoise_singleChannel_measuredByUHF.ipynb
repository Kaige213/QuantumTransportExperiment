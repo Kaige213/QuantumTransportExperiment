{
 "cells": [
  {
   "cell_type": "markdown",
   "metadata": {},
   "source": [
    "注意：\n",
    "\n",
    "  UHF 采样率在439.5k时，是连续采样"
   ]
  },
  {
   "cell_type": "code",
   "execution_count": 1,
   "metadata": {},
   "outputs": [],
   "source": [
    "import visa\n",
    "import zhinst.utils\n",
    "import numpy as np\n",
    "from tqdm import tqdm\n",
    "import matplotlib.pyplot as plt\n",
    "import time\n",
    "from scipy.optimize import curve_fit\n",
    "from scipy import signal\n",
    "from scipy import integrate\n",
    "from scipy.integrate import simps\n",
    "#from __future__ import print_function"
   ]
  },
  {
   "cell_type": "markdown",
   "metadata": {},
   "source": [
    "# UHF"
   ]
  },
  {
   "cell_type": "code",
   "execution_count": 2,
   "metadata": {},
   "outputs": [
    {
     "name": "stdout",
     "output_type": "stream",
     "text": [
      "Discovered device `dev2374`: UHFLI with options .\n",
      "Creating an API session for device `dev2374` on `127.0.0.1`, `8004` with apilevel `6`.\n"
     ]
    }
   ],
   "source": [
    "device_id    = 'dev2374'\n",
    "apilevel     = 6\n",
    "(daq, device, _) = zhinst.utils.create_api_session(device_id, apilevel)\n",
    "_=zhinst.utils.disable_everything(daq, device)"
   ]
  },
  {
   "cell_type": "code",
   "execution_count": 3,
   "metadata": {},
   "outputs": [],
   "source": [
    "def ziDAQ(double_or_int, path, value):\n",
    "    if (double_or_int == 'setDouble'): daq.setDouble(path, value)\n",
    "    if (double_or_int == 'setInt'):    daq.setDouble(path, value)"
   ]
  },
  {
   "cell_type": "markdown",
   "metadata": {},
   "source": [
    "### Input Channel Setting"
   ]
  },
  {
   "cell_type": "code",
   "execution_count": 4,
   "metadata": {},
   "outputs": [],
   "source": [
    "#input channel\n",
    "ziDAQ('setInt', '/dev2374/sigins/0/imp50', 1)\n",
    "ziDAQ('setInt', '/dev2374/sigins/0/ac', 0)\n",
    "ziDAQ('setInt', '/dev2374/sigins/0/autorange', 1)\n",
    "\n",
    "#lockin channel\n",
    "ziDAQ('setInt', '/dev2374/demods/0/order', 4)\n",
    "ziDAQ('setDouble', '/dev2374/demods/0/timeconstant', 6.92291283e-06)\n",
    "\n",
    "#data transfer\n",
    "ziDAQ('setInt', '/dev2374/demods/0/enable', 1);\n",
    "ziDAQ('setDouble', '/dev2374/demods/0/rate', 439.5e3)"
   ]
  },
  {
   "cell_type": "code",
   "execution_count": 5,
   "metadata": {},
   "outputs": [],
   "source": [
    "def readBiChannelXY_func(timeLength=1, LPF=False):\n",
    "    # Unsubscribe any streaming data.\n",
    "    daq.unsubscribe('*')\n",
    "\n",
    "    # Perform a global synchronisation between the device and the data server:\n",
    "    # Ensure that 1. the settings have taken effect on the device before issuing\n",
    "    # the poll() command and 2. clear the API's data buffers. Note: the sync()\n",
    "    # must be issued after waiting for the demodulator filter to settle above.\n",
    "    daq.sync()\n",
    "\n",
    "    # Subscribe to the demodulator's sample node path.\n",
    "    path1 = '/dev2374/demods/0/sample'\n",
    "    daq.subscribe(path1) #UHF的DEMOD0从这里开始记录数据 \n",
    "    \n",
    "    #poll data\n",
    "    # Poll the subscribed data from the data server. Poll will block and record\n",
    "    # for poll_length seconds.\n",
    "    poll_length = timeLength  # [s]\n",
    "    poll_timeout = 500  # [ms]\n",
    "    poll_flags = 0\n",
    "    poll_return_flat_dict = True\n",
    "\n",
    "    sample = daq.poll(poll_length, poll_timeout, poll_flags, poll_return_flat_dict)\n",
    "    \n",
    "    # Unsubscribe from all paths.\n",
    "    daq.unsubscribe('*')\n",
    "    \n",
    "    #data\n",
    "    X1_vec  = sample[path1]['x']*np.sqrt(2) \n",
    "    Y1_vec  = sample[path1]['y']*np.sqrt(2)\n",
    "    timestamp1 = sample[path1]['timestamp']\n",
    "        \n",
    "    #时间坐标\n",
    "    timestamp0 = timestamp1[0]\n",
    "    clockbase  = float(daq.getInt('/dev2374/clockbase'))\n",
    "    t1_vec     = (timestamp1 - timestamp0)/clockbase\n",
    "\n",
    "    return [t1_vec, X1_vec, Y1_vec]"
   ]
  },
  {
   "cell_type": "markdown",
   "metadata": {},
   "source": [
    "### Scope"
   ]
  },
  {
   "cell_type": "code",
   "execution_count": 23,
   "metadata": {},
   "outputs": [],
   "source": [
    "#=========================================================\n",
    "#setting\n",
    "scope_length = 2**16\n",
    "scope_time   = 9\n",
    "in_channel   = 1\n",
    "\n",
    "# Configure the scope and obtain data with triggering disabled.\n",
    "daq.setInt('/dev2374/scopes/0/length', scope_length)\n",
    "daq.setInt('/dev2374/scopes/0/channel', in_channel)\n",
    "daq.setInt('/dev2374/scopes/0/channels/%d/bwlimit'%in_channel, 1)\n",
    "daq.setInt('/dev2374/scopes/0/channels/%d/inputselect'%in_channel, in_channel)\n",
    "daq.setInt('/dev2374/scopes/0/single', 1)\n",
    "daq.setInt('/dev2374/scopes/0/time', scope_time)\n",
    "daq.setInt('/dev2374/scopes/0/segments/count', 1)\n",
    "#trigger\n",
    "daq.setInt('/dev2374/scopes/0/trigenable', 0)\n",
    "daq.setDouble('/dev2374/scopes/0/trigholdoff', 0.050)\n",
    "daq.setInt('/dev2374/scopes/0/segments/enable', 0)\n",
    "daq.sync()\n",
    "\n",
    "# Now initialize and configure the Scope Module.\n",
    "scopeModule = daq.scopeModule()\n",
    "scopeModule.set('mode', 1)\n",
    "scopeModule.set('averager/weight', 1) #   weight=1 - don't average.\n",
    "scopeModule.set('historylength', 1)\n",
    "scopeModule.subscribe('/dev2374/scopes/0/wave')"
   ]
  },
  {
   "cell_type": "code",
   "execution_count": 24,
   "metadata": {},
   "outputs": [],
   "source": [
    "def readScope_func(in_channel=0):\n",
    "    ziDAQ('setInt', '/dev2374/scopes/0/channels/0/inputselect', in_channel)\n",
    "    time.sleep(0.1)\n",
    "    \n",
    "    #==========================================================================\n",
    "    #zhinst.utils.sigin_autorange(daq, device, in_channel) #调整输入端的range（ADC前的放大器）\n",
    "    # Tell the module to be ready to acquire data; reset the module's progress to 0.0.\n",
    "    scopeModule.execute()\n",
    "\n",
    "    # Enable the scope: Now the scope is ready to record data upon receiving triggers.\n",
    "    daq.setInt('/%s/scopes/0/enable' % device, 1)\n",
    "    daq.sync()\n",
    "\n",
    "    start = time.time()\n",
    "    timeout = 5  # [s]\n",
    "    records = 0\n",
    "    # Wait until the Scope Module has received and processed the desired number of records.\n",
    "    while (records < 1):\n",
    "        time.sleep(0.1)\n",
    "        records = scopeModule.getInt(\"records\")\n",
    "        #progress = scopeModule.progress()[0]\n",
    "        if (time.time() - start) > timeout:\n",
    "            print(\"\\nTimeout!\\n\")\n",
    "            break    \n",
    "\n",
    "    # Stop the module; to use it again we need to call execute().\n",
    "    scopeModule.finish()  #在读取数据前停止module，防止继续读取数据\n",
    "\n",
    "    # Read out the scope data from the module.\n",
    "    daq.setInt('/%s/scopes/0/enable' % device, 0)\n",
    "\n",
    "\n",
    "    data_return = scopeModule.read(True)['/dev2374/scopes/0/wave']\n",
    "    voltage_vec = data_return[0][0]['wave'][0]\n",
    "    delta_t     = data_return[0][0]['dt']\n",
    "    t_vec       = delta_t*np.arange(0,len(voltage_vec))\n",
    "    return [t_vec, voltage_vec]"
   ]
  },
  {
   "cell_type": "markdown",
   "metadata": {},
   "source": [
    "# Measured by UHF-Scope"
   ]
  },
  {
   "cell_type": "code",
   "execution_count": 25,
   "metadata": {},
   "outputs": [],
   "source": [
    "def noiseSpectrum_func(t_vec, voltage_vec):\n",
    "    tf = t_vec[-1]-t_vec[0]\n",
    "    freq_vec        = 1/tf*np.arange(1,t_vec.size//2+1)\n",
    "    voltageFreq_vec = np.fft.fft(voltage_vec)[1:(t_vec.size//2+1)]\n",
    "    noiseSpectrum   = 2*np.abs(voltageFreq_vec)**2*tf/t_vec.size**2\n",
    "    return [freq_vec, noiseSpectrum]"
   ]
  },
  {
   "cell_type": "code",
   "execution_count": 26,
   "metadata": {
    "scrolled": true
   },
   "outputs": [
    {
     "name": "stderr",
     "output_type": "stream",
     "text": [
      "100%|███████████████████████████████████████| 1000/1000 [04:36<00:00,  3.64it/s]\n"
     ]
    }
   ],
   "source": [
    "noise_vec = np.zeros(scope_length//2)\n",
    "N_exp     = 1000\n",
    "\n",
    "for n in tqdm(range(N_exp)):\n",
    "    [t_vec, voltage_vec] = readScope_func(in_channel=0)\n",
    "    [freq_vec, noise_temp] = noiseSpectrum_func(t_vec, voltage_vec)\n",
    "    noise_vec = noise_vec + noise_temp / N_exp"
   ]
  },
  {
   "cell_type": "code",
   "execution_count": 27,
   "metadata": {
    "scrolled": false
   },
   "outputs": [
    {
     "data": {
      "image/png": "[encoded data removed]",
      "text/plain": [
       "<Figure size 432x288 with 1 Axes>"
      ]
     },
     "metadata": {
      "needs_background": "light"
     },
     "output_type": "display_data"
    }
   ],
   "source": [
    "%matplotlib inline\n",
    "\n",
    "plt.plot(freq_vec/1e6, noise_vec, c='C1', label='Experiment')\n",
    "#plt.xlim([0, 800])\n",
    "#plt.ylim([0, 3e-15])\n",
    "plt.ylabel(r'$\\rm OutputNoise\\  (V^2/Hz)$', fontsize=13)\n",
    "plt.xlabel('f (MHz)', fontsize=13)\n",
    "plt.legend(fontsize=13)\n",
    "\n",
    "plt.savefig(\"OutputNoise_byScope.png\", format='png', dpi=200)"
   ]
  },
  {
   "cell_type": "code",
   "execution_count": 31,
   "metadata": {
    "scrolled": true
   },
   "outputs": [
    {
     "data": {
      "image/png": "[encoded data removed]",
      "text/plain": [
       "<Figure size 432x288 with 1 Axes>"
      ]
     },
     "metadata": {
      "needs_background": "light"
     },
     "output_type": "display_data"
    }
   ],
   "source": [
    "%matplotlib inline\n",
    "\n",
    "Gain = 99\n",
    "plt.plot(freq_vec, np.sqrt(noise_vec/Gain**2)*1e9, c='C1')\n",
    "plt.ylim([0, 12])\n",
    "plt.ylabel(r'$\\rm Input\\ Noise\\  (nV / \\sqrt{Hz})$', fontsize=13)\n",
    "plt.xlabel('f (MHz)', fontsize=13)\n",
    "plt.xscale('log')\n",
    "plt.xlim([100, 1e6])\n",
    "\n",
    "\n",
    "plt.savefig(\"InputNoise_byScope.png\", format='png', dpi=200)"
   ]
  }
 ],
 "metadata": {
  "kernelspec": {
   "display_name": "Python 3",
   "language": "python",
   "name": "python3"
  },
  "language_info": {
   "codemirror_mode": {
    "name": "ipython",
    "version": 3
   },
   "file_extension": ".py",
   "mimetype": "text/x-python",
   "name": "python",
   "nbconvert_exporter": "python",
   "pygments_lexer": "ipython3",
   "version": "3.6.13"
  }
 },
 "nbformat": 4,
 "nbformat_minor": 2
}
