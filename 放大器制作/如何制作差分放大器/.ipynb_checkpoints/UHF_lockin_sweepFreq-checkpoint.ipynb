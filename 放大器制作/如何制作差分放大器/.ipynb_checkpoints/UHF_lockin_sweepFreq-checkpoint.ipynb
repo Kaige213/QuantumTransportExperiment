{
 "cells": [
  {
   "cell_type": "markdown",
   "metadata": {},
   "source": [
    "注意：\n",
    "\n",
    "  UHF 采样率在439.5k时，是连续采样"
   ]
  },
  {
   "cell_type": "code",
   "execution_count": 1,
   "metadata": {},
   "outputs": [],
   "source": [
    "import zhinst.utils\n",
    "import numpy as np\n",
    "from tqdm import tqdm\n",
    "import matplotlib.pyplot as plt\n",
    "import time"
   ]
  },
  {
   "cell_type": "markdown",
   "metadata": {},
   "source": [
    "# UHF"
   ]
  },
  {
   "cell_type": "code",
   "execution_count": 2,
   "metadata": {},
   "outputs": [
    {
     "name": "stdout",
     "output_type": "stream",
     "text": [
      "Discovered device `dev2374`: UHFLI with options .\n",
      "Creating an API session for device `dev2374` on `127.0.0.1`, `8004` with apilevel `6`.\n"
     ]
    }
   ],
   "source": [
    "device_id    = 'dev2374'\n",
    "apilevel     = 6\n",
    "(daq, device, _) = zhinst.utils.create_api_session(device_id, apilevel)\n",
    "_=zhinst.utils.disable_everything(daq, device)"
   ]
  },
  {
   "cell_type": "code",
   "execution_count": 3,
   "metadata": {},
   "outputs": [],
   "source": [
    "def ziDAQ(double_or_int, path, value):\n",
    "    if (double_or_int == 'setDouble'): daq.setDouble(path, value)\n",
    "    if (double_or_int == 'setInt'):    daq.setDouble(path, value)"
   ]
  },
  {
   "cell_type": "markdown",
   "metadata": {},
   "source": [
    "## Parameters"
   ]
  },
  {
   "cell_type": "code",
   "execution_count": 6,
   "metadata": {},
   "outputs": [],
   "source": [
    "tc            = 0.01\n",
    "amplitude_out = 0.001*np.sqrt(2)"
   ]
  },
  {
   "cell_type": "markdown",
   "metadata": {},
   "source": [
    "## Signal Ouput Setting"
   ]
  },
  {
   "cell_type": "code",
   "execution_count": 8,
   "metadata": {},
   "outputs": [],
   "source": [
    "ziDAQ('setInt', '/dev2374/sigouts/0/enables/3', 1)\n",
    "ziDAQ('setDouble', '/dev2374/sigouts/0/range', 0.15)\n",
    "ziDAQ('setDouble', '/dev2374/sigouts/0/amplitudes/3', amplitude_out)\n",
    "ziDAQ('setInt', '/dev2374/sigouts/0/on', 1)\n",
    "ziDAQ('setInt', '/dev2374/sigouts/0/imp50', 0)"
   ]
  },
  {
   "cell_type": "markdown",
   "metadata": {},
   "source": [
    "## Signal Input Setting"
   ]
  },
  {
   "cell_type": "code",
   "execution_count": 9,
   "metadata": {},
   "outputs": [],
   "source": [
    "#input channel\n",
    "ziDAQ('setInt', '/dev2374/sigins/0/imp50',0)\n",
    "ziDAQ('setInt', '/dev2374/sigins/0/ac', 0)\n",
    "ziDAQ('setDouble', '/dev2374/sigins/0/range', 1.5)#amplitude_out*50)\n",
    "#ziDAQ('setInt', '/dev2374/sigins/0/autorange', 1)\n",
    "\n",
    "#lockin channel\n",
    "ziDAQ('setInt', '/dev2374/demods/3/order', 4)\n",
    "ziDAQ('setDouble', '/dev2374/demods/3/timeconstant', tc)\n",
    "\n",
    "#data transfer\n",
    "ziDAQ('setInt', '/dev2374/demods/3/enable', 1)\n",
    "ziDAQ('setDouble', '/dev2374/demods/3/rate', 1000)"
   ]
  },
  {
   "cell_type": "code",
   "execution_count": 10,
   "metadata": {},
   "outputs": [],
   "source": [
    "def readBiChannelXY_func(timeLength=1):\n",
    "    # Unsubscribe any streaming data.\n",
    "    daq.unsubscribe('*')\n",
    "\n",
    "    # Perform a global synchronisation between the device and the data server:\n",
    "    # Ensure that 1. the settings have taken effect on the device before issuing\n",
    "    # the poll() command and 2. clear the API's data buffers. Note: the sync()\n",
    "    # must be issued after waiting for the demodulator filter to settle above.\n",
    "    daq.sync()\n",
    "\n",
    "    # Subscribe to the demodulator's sample node path.\n",
    "    path = '/dev2374/demods/3/sample'\n",
    "    daq.subscribe(path) #UHF的DEMOD0从这里开始记录数据 \n",
    "    \n",
    "    #poll data\n",
    "    # Poll the subscribed data from the data server. Poll will block and record\n",
    "    # for poll_length seconds.\n",
    "    poll_length = timeLength  # [s]\n",
    "    poll_timeout = 500  # [ms]\n",
    "    poll_flags = 0\n",
    "    poll_return_flat_dict = True\n",
    "\n",
    "    sample = daq.poll(poll_length, poll_timeout, poll_flags, poll_return_flat_dict)\n",
    "    \n",
    "    # Unsubscribe from all paths.\n",
    "    daq.unsubscribe('*')\n",
    "    \n",
    "    #data\n",
    "    X_vec  = sample[path]['x']*np.sqrt(2) \n",
    "    Y_vec  = sample[path]['y']*np.sqrt(2)\n",
    "    timestamp = sample[path]['timestamp']\n",
    "        \n",
    "    #时间坐标\n",
    "    timestamp0 = timestamp[0]\n",
    "    clockbase  = float(daq.getInt('/dev2374/clockbase'))\n",
    "    t_vec     = (timestamp - timestamp0)/clockbase\n",
    "\n",
    "    return [t_vec, X_vec, Y_vec]"
   ]
  },
  {
   "cell_type": "markdown",
   "metadata": {},
   "source": [
    "# Measurement\n"
   ]
  },
  {
   "cell_type": "code",
   "execution_count": 12,
   "metadata": {},
   "outputs": [],
   "source": [
    "attenuator =1"
   ]
  },
  {
   "cell_type": "code",
   "execution_count": 33,
   "metadata": {
    "scrolled": false
   },
   "outputs": [
    {
     "name": "stderr",
     "output_type": "stream",
     "text": [
      "100%|███████████████████████████████████████████| 41/41 [01:12<00:00,  2.50it/s]\n"
     ]
    }
   ],
   "source": [
    "freq_vec  = 10**np.linspace(1,6,41)\n",
    "#freq_vec  = 100e3*np.linspace(1,3,41)\n",
    "gain_vec  = np.zeros(freq_vec.size)\n",
    "phase_vec = np.zeros(freq_vec.size)\n",
    "\n",
    "for n_freq in tqdm(range(freq_vec.size)):\n",
    "    #设置输出信号的频率\n",
    "    freq = freq_vec[n_freq]\n",
    "    ziDAQ('setDouble', '/dev2374/oscs/0/freq', freq)\n",
    "    \n",
    "    #setting tc\n",
    "    tc = 1/freq*10\n",
    "    if (tc < 0.01):tc=0.02\n",
    "    ziDAQ('setDouble', '/dev2374/demods/3/timeconstant', tc)\n",
    "    time.sleep(tc*10)\n",
    "    if (n_freq == 0): time.sleep(20)\n",
    "\n",
    "    #XY from lockin-amplifer\n",
    "    [_, X_vec, Y_vec] = readBiChannelXY_func(0.1)\n",
    "    gain_vec[n_freq]  = 20*np.log10(np.abs( np.mean(X_vec) + 1j*np.mean(Y_vec) ) / (amplitude_out*attenuator) )\n",
    "    phase_vec[n_freq] = np.angle( np.mean(X_vec) + 1j*np.mean(Y_vec) )"
   ]
  },
  {
   "cell_type": "code",
   "execution_count": 39,
   "metadata": {},
   "outputs": [
    {
     "data": {
      "image/png": "[encoded data removed]",
      "text/plain": [
       "<Figure size 864x288 with 2 Axes>"
      ]
     },
     "metadata": {
      "needs_background": "light"
     },
     "output_type": "display_data"
    }
   ],
   "source": [
    "# %matplotlib inline\n",
    "fig, ax = plt.subplots(figsize=(12,4))\n",
    "\n",
    "plt.subplot(1,2,1)\n",
    "plt.plot(freq_vec, 10**(gain_vec/20))\n",
    "#plt.plot(freq_vec, np.ones(freq_vec.size)*21)\n",
    "#plt.plot(freq_vec, gain_vec)\n",
    "plt.xscale('log')\n",
    "plt.xlim([freq_vec[0],freq_vec[-1]])\n",
    "plt.ylim([0,120])\n",
    "#\n",
    "plt.xlabel('Frequence (Hz)', fontsize=13)\n",
    "plt.ylabel('Gain', fontsize=13)\n",
    "plt.grid()\n",
    "\n",
    "#plt.text( 0.4, 0.5, 'RG=50,  RF=50', fontsize=13, ha='right', va='top',transform=ax.transAxes)\n",
    "\n",
    "plt.subplot(1,2,2)\n",
    "plt.plot(freq_vec, phase_vec/np.pi*180)\n",
    "plt.xscale('log')\n",
    "plt.xlim([freq_vec[0],freq_vec[-1]])\n",
    "#plt.ylim([0,11])\n",
    "\n",
    "plt.xlabel('Frequence (Hz)', fontsize=13)\n",
    "plt.ylabel('Phase (Deg)', fontsize=13)\n",
    "\n",
    "plt.grid()\n",
    "plt.savefig(\"fig_name.png\", format='png', dpi=200)"
   ]
  },
  {
   "cell_type": "code",
   "execution_count": 40,
   "metadata": {},
   "outputs": [
    {
     "data": {
      "image/png": "[encoded data removed]",
      "text/plain": [
       "<Figure size 360x288 with 1 Axes>"
      ]
     },
     "metadata": {
      "needs_background": "light"
     },
     "output_type": "display_data"
    }
   ],
   "source": [
    "# %matplotlib inline\n",
    "fig, ax = plt.subplots(figsize=(5,4))\n",
    "\n",
    "\n",
    "plt.plot(freq_vec, 10**(gain_vec/20))\n",
    "plt.plot(freq_vec, 99*np.ones(freq_vec.size), '--k', lw=1)\n",
    "plt.xscale('log')\n",
    "plt.xlim([freq_vec[0],freq_vec[-1]])\n",
    "plt.ylim([90,110])\n",
    "plt.xlabel('Frequence (Hz)', fontsize=13)\n",
    "plt.ylabel('Gain', fontsize=13)\n",
    "plt.text( 1e5, 100, 'G=99', fontsize=13)\n",
    "\n",
    "plt.grid()\n",
    "plt.savefig(\"fig_name.png\", format='png', dpi=200)"
   ]
  },
  {
   "cell_type": "code",
   "execution_count": null,
   "metadata": {},
   "outputs": [],
   "source": []
  }
 ],
 "metadata": {
  "kernelspec": {
   "display_name": "Python 3",
   "language": "python",
   "name": "python3"
  },
  "language_info": {
   "codemirror_mode": {
    "name": "ipython",
    "version": 3
   },
   "file_extension": ".py",
   "mimetype": "text/x-python",
   "name": "python",
   "nbconvert_exporter": "python",
   "pygments_lexer": "ipython3",
   "version": "3.6.13"
  }
 },
 "nbformat": 4,
 "nbformat_minor": 2
}
